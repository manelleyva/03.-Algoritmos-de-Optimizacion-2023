{
  "cells": [
    {
      "cell_type": "markdown",
      "metadata": {
        "id": "view-in-github",
        "colab_type": "text"
      },
      "source": [
        "<a href=\"https://colab.research.google.com/github/manelleyva/03.-Algoritmos-de-Optimizacion-2023/blob/main/01_AO_03MIAR_Manel_Leyva_Mart%C3%ADnez.ipynb\" target=\"_parent\"><img src=\"https://colab.research.google.com/assets/colab-badge.svg\" alt=\"Open In Colab\"/></a>"
      ]
    },
    {
      "cell_type": "markdown",
      "id": "5bae1ac7",
      "metadata": {
        "id": "5bae1ac7"
      },
      "source": [
        "<font color=\"#002856\"><h1 align=\"left\">Algoritmos de optimización</h1></font>\n",
        "<font color=\"#002856\"><h2 align=\"left\">VC-1 Introducción a los algoritmos</h2></font>\n",
        "\n",
        "#### Profesor: Juan Francisco Vallalta Rueda\n",
        "---"
      ]
    },
    {
      "cell_type": "markdown",
      "id": "d6a8c0a8",
      "metadata": {
        "id": "d6a8c0a8"
      },
      "source": [
        "# Medir el tiempo de ejecución"
      ]
    },
    {
      "cell_type": "markdown",
      "id": "e37d9b38",
      "metadata": {
        "id": "e37d9b38"
      },
      "source": [
        "Medir el tiempo de ejecución de un programa es una tarea muy importante, ya que programar no sólo consiste en crear código que funcione, sino código que pueda ser ejecutado en un tiempo razonable.\n",
        "\n",
        "La librería **time** nos permite medir el tiempo de ejecución en Python, utilizando el método  `time()`."
      ]
    },
    {
      "cell_type": "code",
      "execution_count": null,
      "id": "dc20e4d2",
      "metadata": {
        "id": "dc20e4d2",
        "outputId": "8e35a489-9ac7-4739-dd90-3270590d1b29"
      },
      "outputs": [
        {
          "name": "stdout",
          "output_type": "stream",
          "text": [
            "10.002641201019287\n"
          ]
        }
      ],
      "source": [
        "# Medida del tiempo de ejecucion con time\n",
        "import time\n",
        "inicio = time.time()\n",
        "\n",
        "# Código a medir\n",
        "time.sleep(10)\n",
        "# -------------\n",
        "\n",
        "fin = time.time()\n",
        "print(fin-inicio) # 1.0005340576171875"
      ]
    },
    {
      "cell_type": "markdown",
      "id": "52b5fc0a",
      "metadata": {
        "id": "52b5fc0a"
      },
      "source": [
        "# Generación de números enteros aleatorios"
      ]
    },
    {
      "cell_type": "code",
      "execution_count": null,
      "id": "ca5148de",
      "metadata": {
        "id": "ca5148de",
        "outputId": "6301482a-40a9-47ee-e53d-126a99944d0c"
      },
      "outputs": [
        {
          "name": "stdout",
          "output_type": "stream",
          "text": [
            "[695, 385, 928, 730, 82, 906, 416, 429, 707, 59, 556, 643, 489, 851, 385, 940, 465, 515, 942, 745, 219, 305, 8, 943, 218, 371, 483, 174, 136, 257, 482, 94, 385, 201, 530, 522, 460, 204, 882, 754, 24, 341, 576, 946, 97, 758, 491, 270, 746, 12, 652, 158, 483, 623, 710, 665, 856, 935, 963, 342, 247, 890, 673, 143, 54, 905, 868, 522, 1, 248, 690, 720, 363, 878, 567, 586, 593, 901, 574, 835, 853, 915, 188, 937, 489, 182, 228, 948, 247, 291, 223, 602, 741, 761, 199, 691, 72, 718, 965, 583]\n"
          ]
        }
      ],
      "source": [
        "# Mödulo random\n",
        "import random\n",
        "\n",
        "# Inicialización del rango de números a generar\n",
        "inicio= 0\n",
        "fin = 1000\n",
        "cantidad = 100\n",
        "\n",
        "# Lista de números aleatorios\n",
        "numeros_aleatorios = [random.randint(inicio,fin) for i in range(cantidad)]\n",
        "print(numeros_aleatorios)"
      ]
    },
    {
      "cell_type": "markdown",
      "id": "c43d5913",
      "metadata": {
        "id": "c43d5913"
      },
      "source": [
        "# Ejercicios\n",
        "\n",
        "## Implementa  el algoritmo de Euclides para el cálculo del máximo común divisor de dos números enteros"
      ]
    },
    {
      "cell_type": "code",
      "execution_count": null,
      "id": "af0a8a64",
      "metadata": {
        "id": "af0a8a64"
      },
      "outputs": [],
      "source": [
        "# Algoritmos de Euclides.\n",
        "def alg_euclides(m, n):\n",
        "  resto = m % n\n",
        "  m = n\n",
        "  n = resto\n",
        "\n",
        "  if n == 0:\n",
        "    return m\n",
        "  else:\n",
        "    return alg_euclides(m,n)"
      ]
    },
    {
      "cell_type": "code",
      "execution_count": null,
      "id": "81bea47d",
      "metadata": {
        "colab": {
          "base_uri": "https://localhost:8080/"
        },
        "id": "81bea47d",
        "outputId": "6e3a6bef-0333-40b4-bd8f-f4eac1140669"
      },
      "outputs": [
        {
          "output_type": "stream",
          "name": "stdout",
          "text": [
            "El mcd de 8 y 16 es 8\n"
          ]
        }
      ],
      "source": [
        "# Prueba del algoritmo\n",
        "entero_A = 8\n",
        "entero_B = 16\n",
        "\n",
        "mcd_A_B = alg_euclides(entero_A, entero_B)\n",
        "\n",
        "print(f'El mcd de {entero_A} y {entero_B} es {mcd_A_B}')"
      ]
    },
    {
      "cell_type": "markdown",
      "id": "fab2198d",
      "metadata": {
        "id": "fab2198d"
      },
      "source": [
        "## Implementa el algoritmo de Herón para el cálculo de la raiz cuadrada de un número entero. Calcula la raiz cuadrada de 13 con un error inferior a 0.000001"
      ]
    },
    {
      "cell_type": "code",
      "execution_count": 1,
      "id": "5108153f",
      "metadata": {
        "id": "5108153f"
      },
      "outputs": [],
      "source": [
        "# Algoritmo de Herón\n",
        "def alg_heron(p, N, x0):\n",
        "  xn = x0\n",
        "  for n in range(1,N+1):\n",
        "    xn = (1/2)*(xn+p/xn)\n",
        "    # print(f'n={n}, xn={xn}')\n",
        "\n",
        "  return xn"
      ]
    },
    {
      "cell_type": "code",
      "execution_count": 2,
      "id": "32bfcfe8",
      "metadata": {
        "colab": {
          "base_uri": "https://localhost:8080/"
        },
        "id": "32bfcfe8",
        "outputId": "5ff4a884-e7de-4bad-a2b2-4c2b6efcf087"
      },
      "outputs": [
        {
          "output_type": "stream",
          "name": "stdout",
          "text": [
            "Cálculo de la raiz cuadrada de 13\n",
            "Resultado real --> √13 = 3.605551275463989\n",
            "Resultado algoritmo Herón para √13, 10 iteraciones y una posición inicial x0=1 --> heron = 3.6055512754639896\n",
            "Error = 4.440892098500626e-16\n"
          ]
        }
      ],
      "source": [
        "# Prueba del algoritmo\n",
        "import math\n",
        "\n",
        "p = 13\n",
        "N = 10\n",
        "x0 = 1\n",
        "\n",
        "resultado_heron = alg_heron(p,N,x0)\n",
        "resultado_real = math.sqrt(p)\n",
        "\n",
        "print(f'Cálculo de la raiz cuadrada de {p}')\n",
        "print(f'Resultado real --> √{p} = {resultado_real}')\n",
        "print(f'Resultado algoritmo Herón para √{p}, {N} iteraciones y una posición inicial x0={x0} --> heron = {resultado_heron}')\n",
        "print(f'Error = {abs(resultado_heron-resultado_real)}')"
      ]
    },
    {
      "cell_type": "markdown",
      "id": "9cbf8561",
      "metadata": {
        "id": "9cbf8561"
      },
      "source": [
        "# Reto VC-1\n",
        "\n",
        "## Implementa el algoritmo de la Criba de Erastótenes para encontrar número primos. Encuentra los números primos entre los 10.000 primeros números naturales"
      ]
    },
    {
      "cell_type": "code",
      "source": [
        "# Criba de Erastótenes\n",
        "import math\n",
        "import numpy as np\n",
        "\n",
        "def alg_criba_erastotenes(N):\n",
        "  # Inicializamos una lista de booleanos que indicará si un número es primo (True) o compuesto (False)\n",
        "  lista_primos = [True]*(N+1)\n",
        "\n",
        "  # 0 y 1 no son primos por tanto los marcamos como False\n",
        "  lista_primos[0] = lista_primos[1] = False\n",
        "\n",
        "  # Algoritmo de criba\n",
        "  for i in range(2, int(math.sqrt(N)+1)):\n",
        "    if lista_primos[i]: # i es primo, por tanto marcamos sus múltimplos como compuestos\n",
        "      for j in range(i, int(N/i)+1):\n",
        "          lista_primos[i*j] = False\n",
        "\n",
        "  # Obtenemos las posiciones con valor True para obtener la lista de primos\n",
        "  lista_numeros_primos = np.where(np.array(lista_primos) == True)[0]\n",
        "\n",
        "  return lista_numeros_primos"
      ],
      "metadata": {
        "id": "PW4dutT3BnWz"
      },
      "id": "PW4dutT3BnWz",
      "execution_count": null,
      "outputs": []
    },
    {
      "cell_type": "code",
      "source": [
        "# Probamos el algoritmo\n",
        "N = 10000\n",
        "lista_numeros_primos = alg_criba_erastotenes(N)\n",
        "\n",
        "print(f'La lista de números primos entre los {N} primeros números naturales es:')\n",
        "print(lista_numeros_primos)"
      ],
      "metadata": {
        "colab": {
          "base_uri": "https://localhost:8080/"
        },
        "id": "XT03-Qr2DgIJ",
        "outputId": "6e86d72c-d0cd-4718-8877-cf6b09c4b2e8"
      },
      "id": "XT03-Qr2DgIJ",
      "execution_count": null,
      "outputs": [
        {
          "output_type": "stream",
          "name": "stdout",
          "text": [
            "La lista de números primos entre los 10000 primeros números naturales es:\n",
            "[   2    3    5 ... 9949 9967 9973]\n"
          ]
        }
      ]
    }
  ],
  "metadata": {
    "kernelspec": {
      "display_name": "Python 3 (ipykernel)",
      "language": "python",
      "name": "python3"
    },
    "language_info": {
      "codemirror_mode": {
        "name": "ipython",
        "version": 3
      },
      "file_extension": ".py",
      "mimetype": "text/x-python",
      "name": "python",
      "nbconvert_exporter": "python",
      "pygments_lexer": "ipython3",
      "version": "3.9.7"
    },
    "colab": {
      "provenance": [],
      "include_colab_link": true
    }
  },
  "nbformat": 4,
  "nbformat_minor": 5
}