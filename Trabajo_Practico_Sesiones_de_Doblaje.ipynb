{
  "cells": [
    {
      "cell_type": "markdown",
      "metadata": {
        "id": "view-in-github",
        "colab_type": "text"
      },
      "source": [
        "<a href=\"https://colab.research.google.com/github/manelleyva/03.-Algoritmos-de-Optimizacion-2023/blob/main/Trabajo_Practico_Sesiones_de_Doblaje.ipynb\" target=\"_parent\"><img src=\"https://colab.research.google.com/assets/colab-badge.svg\" alt=\"Open In Colab\"/></a>"
      ]
    },
    {
      "cell_type": "code",
      "execution_count": 1,
      "metadata": {
        "id": "qRYZu61N2u4X"
      },
      "outputs": [],
      "source": [
        "# Libraries Import\n",
        "import itertools\n",
        "import pandas as pd\n",
        "import numpy as np\n",
        "import random\n",
        "import math"
      ]
    },
    {
      "cell_type": "markdown",
      "metadata": {
        "id": "hVbXYX-RfPWh"
      },
      "source": [
        "# Algoritmos de optimización - Seminario\n",
        "\n",
        "Nombre: Manel Leyva Martínez\n",
        "\n",
        "Github: https://github.com/manelleyva/03.-Algoritmos-de-Optimizacion-2023\n",
        "\n",
        "Problema:\n",
        "> 1. Sesiones de doblaje <br>\n",
        "\n",
        "Se precisa coordinar el doblaje de una película. Los actores del doblaje deben coincidir en las\n",
        "tomas en las que sus personajes aparecen juntos en las diferentes tomas. Los actores de\n",
        "doblaje cobran todos la misma cantidad por cada día que deben desplazarse hasta el estudio de\n",
        "grabación independientemente del número de tomas que se graben. No es posible grabar más\n",
        "de 6 tomas por día. El objetivo es planificar las sesiones por día de manera que el gasto por los\n",
        "servicios de los actores de doblaje sea el menor posible. Los datos son:\n",
        "\n",
        "Número de actores: 10\n",
        "Número de tomas: 30\n",
        "\n",
        "....\n",
        "\n",
        "(*) La respuesta es obligatoria                               "
      ]
    },
    {
      "cell_type": "markdown",
      "metadata": {
        "id": "3_-exlrTgLd-"
      },
      "source": [
        "### Question 1\n",
        "\n",
        "(\\*)¿Cuantas posibilidades hay sin tener en cuenta las restricciones?\n"
      ]
    },
    {
      "cell_type": "markdown",
      "source": [
        "Respuesta"
      ],
      "metadata": {
        "id": "uKdixrkSIMNW"
      }
    },
    {
      "cell_type": "markdown",
      "source": [
        "En el caso de que no existieran limitaciones (no existe un máximo de tomas por día), el número de posibilidades sería el siguiente:\n",
        "\n",
        "$$\n",
        "Number\\ of \\ possibilities =\n",
        "\\sum_{j=1}^{Total\\ Takes}\n",
        "\\prod_{i=0}^{⌊ (Total\\ Takes/j)⌋ -1}\\binom{Total\\ Takes-i·j}{j} =\n",
        "\\sum_{j=1}^{30}\n",
        "\\prod_{i=0}^{⌊(30/j)⌋-1}\\binom{30-i·j}{j} =\n",
        "2.65·10^{32}\n",
        "$$\n",
        "\n",
        "$j$ : Maximum takes per day\n",
        "\n",
        "$i$ : Day value (starts at 0)\n",
        "\n",
        "Esto es el sumatorio de todos los posibles tamaños de máximas tomas diarias desde el 1 hasta el 30, por el productorio de combinación sin repetición de las tomas posibles para cada día. En cuanto al productorio, calculamos el número de días como la división entera entre las tomas totales y el máximo de tomas diarias.\n",
        "\n",
        "En este caso no se está teniendo en cuenta que el orden de los días no afecta al resultado.\n",
        "\n",
        "El código a continuación ha sido utilizado para calcular el total de posibilidades."
      ],
      "metadata": {
        "id": "uHHzhE64IM3Y"
      }
    },
    {
      "cell_type": "code",
      "source": [
        "total_possibilities = 0\n",
        "for j in range(1, 31):\n",
        "  possibilities_group = 1\n",
        "  for i in range(int(30/j)):\n",
        "    possibilities_group = possibilities_group*math.comb(30-i*j,j)\n",
        "  total_possibilities += possibilities_group\n",
        "\n",
        "print(f'There are {total_possibilities:.2e} possibilities')"
      ],
      "metadata": {
        "colab": {
          "base_uri": "https://localhost:8080/",
          "height": 0
        },
        "id": "dsS86OrPQwAr",
        "outputId": "81eb7391-00b7-44b8-98ac-c4955268f96b"
      },
      "execution_count": 2,
      "outputs": [
        {
          "output_type": "stream",
          "name": "stdout",
          "text": [
            "There are 2.65e+32 possibilities\n"
          ]
        }
      ]
    },
    {
      "cell_type": "markdown",
      "metadata": {
        "id": "PgH-Hfyh2u4Y"
      },
      "source": [
        "### Question 2\n",
        "¿Cuantas posibilidades hay teniendo en cuenta todas las restricciones."
      ]
    },
    {
      "cell_type": "markdown",
      "metadata": {
        "id": "WfCUqJyKhPcw"
      },
      "source": [
        "Respuesta"
      ]
    },
    {
      "cell_type": "markdown",
      "metadata": {
        "id": "XjqlIyj-2u4Y"
      },
      "source": [
        "Teniendo en cuenta las resticciones el número de posibilidades es:\n",
        "\n",
        "$$Number\\ of \\ possibilities =\n",
        "\\frac{\\prod_{i=0}^{Days-1}\\binom{Takes-i·Takes/Days}{Takes/Days}}{Days!} =\n",
        "\\frac{\\prod_{i=0}^{4}\\binom{30-i·6}{6}}{5!}=1.142·10^{16}$$\n",
        "\n",
        "Esta fórmula es una simplificación de la versión sin restricciones. Cada día tenemos la opción de escoger entre las tomas restantes, un grupo de 6 tomas. Esto es la multiplicación de la combinatoria de tomas hasta que no queden tomas restantes.\n",
        "\n",
        "Debido a que el orden de los días no afecta al resultado, se divide este resultado entre el factorial del número de días (permutación sin repetición).\n",
        "\n",
        "En este análisis se está ignorando la posibilidad de grabar menos de 6 tomas por día ya que esto no proporcionaría ninguna ventaja."
      ]
    },
    {
      "cell_type": "markdown",
      "metadata": {
        "id": "dzynfVJahHoY"
      },
      "source": [
        "## Modelo para el espacio de soluciones<br>\n",
        "\n",
        "### Question 3\n",
        "\n",
        "(*) ¿Cual es la estructura de datos que mejor se adapta al problema? Argumentalo.(Es posible que hayas elegido una al principio y veas la necesidad de cambiar, arguentalo)\n"
      ]
    },
    {
      "cell_type": "markdown",
      "metadata": {
        "id": "xFIJrOwKi2Ti"
      },
      "source": [
        "Respuesta"
      ]
    },
    {
      "cell_type": "markdown",
      "metadata": {
        "id": "Fud0Qlgf2u4Z"
      },
      "source": [
        "Actualmente el modelo utiliza un dataframe de pandas con una columna por cada día de grabación. En nuestro caso, tenemos 5 columnas de días ($Número\\ Días = \\frac{Total\\ Tomas}{Máximo\\ Tomas\\ Diarias}=\\frac{30}{6}=5$).\n",
        "\n",
        "En estas columnas se almacenan listas de las tomas seleccionadas para ese día. Asimismo, tenemos una columna adicional que indica el coste total para la planificación de todas las sesiones.\n",
        "\n",
        "Esta estructura de datos permite ver de manera clara cómo se van a organizar las sesiones y el coste total de cada opción. Gracias eficiencia de pandas dataframe respecto a las estructuras de datos estándar en python, podemos operar sobre conjuntos con gran cantidad de datos en un tiempo de ejecución relativamente bajo."
      ]
    },
    {
      "cell_type": "markdown",
      "source": [
        "![ejemplo_estructura_datos_dataframe.png](data:image/png;base64,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)\n",
        "\n",
        "*Fig. 1: Ejemplo de la estructura de datos propuesta para el ejercicio*"
      ],
      "metadata": {
        "id": "Pyiy94cy_3rv"
      }
    },
    {
      "cell_type": "markdown",
      "source": [
        "Sin embargo, otra posible implementación sería utilizar \"grafos bipartitos ponderados\". Se puede utilizar un grafo para representar la relación entre los actores, de manera que los nodos representen los actores y las aristas que los conectan, el coste para que trabajen juntos."
      ],
      "metadata": {
        "id": "6bl50Uu5_zKo"
      }
    },
    {
      "cell_type": "markdown",
      "source": [
        "![ejemplo_grafo_ponderado.png](data:image/png;base64,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)\n",
        "\n",
        "*Fig. 2: Ejemplo de grafo ponderado*"
      ],
      "metadata": {
        "id": "Aloj55yz-sLc"
      }
    },
    {
      "cell_type": "markdown",
      "source": [
        "Pese a que la estructura de grafos podría haber dado buenos resultados, se optó por el dataframe debido a su simplicidad de implementación para un algoritmo genético."
      ],
      "metadata": {
        "id": "FTVLC5ve_Tx4"
      }
    },
    {
      "cell_type": "markdown",
      "metadata": {
        "id": "7Z9U2W7bi-XS"
      },
      "source": [
        "Según el modelo para el espacio de soluciones<br>\n",
        "\n",
        "### Question 4\n",
        "\n",
        "(*)¿Cual es la función objetivo?"
      ]
    },
    {
      "cell_type": "markdown",
      "metadata": {
        "id": "9VLl9zaq2u4Z"
      },
      "source": [
        "Respuesta:"
      ]
    },
    {
      "cell_type": "markdown",
      "metadata": {
        "id": "81NpSB4Z2u4Z"
      },
      "source": [
        "La función objetivo es minimizar el costo total de los servicios de los actores de doblaje, cumpliendo la restricción de no grabar más de 6 tomas al día. Queremos encontrar una asignación de las tomas a los actores de doblaje que minimice el costo diario.\n",
        "\n",
        "La función objetivo se puede expresar de la siguiente manera:\n",
        "\n",
        "$$Total\\ Cost = \\sum_{i=1}^{Number\\ days} Cd_i = \\sum_{i=1}^{5} Cd_i$$\n",
        "\n",
        "$Number\\ days = Total\\ takes / Maximum\\ takes\\ per\\ day = 30/6 = 5$\n",
        "\n",
        "$Cd_i$ : Coste diario. Función que devuelve el coste de un día dependiendo de las tomas escogidas para ese día y los actores necesarios para realizarlas."
      ]
    },
    {
      "cell_type": "markdown",
      "metadata": {
        "id": "hvYXywW72u4Z"
      },
      "source": [
        "### Question 5\n",
        "\n",
        "(*)¿Es un problema de maximización o minimización?"
      ]
    },
    {
      "cell_type": "markdown",
      "metadata": {
        "id": "hBalWLM7j1_d"
      },
      "source": [
        "Respuesta"
      ]
    },
    {
      "cell_type": "markdown",
      "metadata": {
        "id": "BsoFHR2J2u4Z"
      },
      "source": [
        "Es un problema de minimización, ya que el objetivo es conseguir el coste más pequeño por grabar todas las tomas."
      ]
    },
    {
      "cell_type": "markdown",
      "metadata": {
        "id": "rlnTYgY1j6I2"
      },
      "source": [
        "### Question 6\n",
        "\n",
        "Diseña un algoritmo para resolver el problema por fuerza bruta"
      ]
    },
    {
      "cell_type": "markdown",
      "metadata": {
        "id": "70rDgxYXkC8r"
      },
      "source": [
        "Respuesta"
      ]
    },
    {
      "cell_type": "markdown",
      "metadata": {
        "id": "PB--vKCT2u4a"
      },
      "source": [
        "Para poder diseñar un algoritmo que resuelva el problema por fuerza bruta, tenemos que obtener todas las opciones posibles.\n",
        "\n",
        "Con la función get_take_combinations() podemos generar un dataframe con todas las posibles combinaciones dependiendo del número de tomas totales y el máximo de tomas por día."
      ]
    },
    {
      "cell_type": "code",
      "execution_count": 3,
      "metadata": {
        "id": "CJb5sQ0qkENy"
      },
      "outputs": [],
      "source": [
        "# Get all the takes possibilities\n",
        "def get_take_combinations():\n",
        "    # Initialize results dataframe\n",
        "    df_columns = [f'Day {day}' for day in range(1, TOTAL_DAYS+1)] + ['Cost']\n",
        "    df = pd.DataFrame(columns=df_columns)\n",
        "\n",
        "\n",
        "    permutations_iter = itertools.permutations(range(1,TOTAL_TAKES+1), TOTAL_TAKES) # Get all permutations\n",
        "    for permutation in permutations_iter:\n",
        "        combination = [list(sorted(permutation[i:i + TAKES_PER_DAY])) for i in range(0, len(permutation), TAKES_PER_DAY)]\n",
        "\n",
        "        # Subdivide the takes into different days\n",
        "        data_df = {}\n",
        "        for idx, i in enumerate(range(0, len(permutation), TAKES_PER_DAY)):\n",
        "            day = idx+1\n",
        "            data_df[f'Day {day}'] = sorted(permutation[i:i + TAKES_PER_DAY])\n",
        "\n",
        "        # Add new value to dataframe\n",
        "        df = pd.concat([df, pd.DataFrame([data_df])], ignore_index=True)\n",
        "\n",
        "    # Remove duplicate rows\n",
        "    df = df.iloc[df.astype(str).drop_duplicates().index]\n",
        "\n",
        "    return df"
      ]
    },
    {
      "cell_type": "code",
      "execution_count": 4,
      "metadata": {
        "colab": {
          "base_uri": "https://localhost:8080/",
          "height": 255
        },
        "id": "jxtvxGYu2u4a",
        "outputId": "13c2f5dd-60ce-4f7b-b052-085638043365"
      },
      "outputs": [
        {
          "output_type": "display_data",
          "data": {
            "text/plain": [
              "     Day 1   Day 2 Cost\n",
              "0   [1, 2]  [3, 4]  NaN\n",
              "2   [1, 3]  [2, 4]  NaN\n",
              "4   [1, 4]  [2, 3]  NaN\n",
              "8   [2, 3]  [1, 4]  NaN\n",
              "10  [2, 4]  [1, 3]  NaN\n",
              "16  [3, 4]  [1, 2]  NaN"
            ],
            "text/html": [
              "\n",
              "  <div id=\"df-c136c4e4-a376-4693-8c51-53f34e189b4f\" class=\"colab-df-container\">\n",
              "    <div>\n",
              "<style scoped>\n",
              "    .dataframe tbody tr th:only-of-type {\n",
              "        vertical-align: middle;\n",
              "    }\n",
              "\n",
              "    .dataframe tbody tr th {\n",
              "        vertical-align: top;\n",
              "    }\n",
              "\n",
              "    .dataframe thead th {\n",
              "        text-align: right;\n",
              "    }\n",
              "</style>\n",
              "<table border=\"1\" class=\"dataframe\">\n",
              "  <thead>\n",
              "    <tr style=\"text-align: right;\">\n",
              "      <th></th>\n",
              "      <th>Day 1</th>\n",
              "      <th>Day 2</th>\n",
              "      <th>Cost</th>\n",
              "    </tr>\n",
              "  </thead>\n",
              "  <tbody>\n",
              "    <tr>\n",
              "      <th>0</th>\n",
              "      <td>[1, 2]</td>\n",
              "      <td>[3, 4]</td>\n",
              "      <td>NaN</td>\n",
              "    </tr>\n",
              "    <tr>\n",
              "      <th>2</th>\n",
              "      <td>[1, 3]</td>\n",
              "      <td>[2, 4]</td>\n",
              "      <td>NaN</td>\n",
              "    </tr>\n",
              "    <tr>\n",
              "      <th>4</th>\n",
              "      <td>[1, 4]</td>\n",
              "      <td>[2, 3]</td>\n",
              "      <td>NaN</td>\n",
              "    </tr>\n",
              "    <tr>\n",
              "      <th>8</th>\n",
              "      <td>[2, 3]</td>\n",
              "      <td>[1, 4]</td>\n",
              "      <td>NaN</td>\n",
              "    </tr>\n",
              "    <tr>\n",
              "      <th>10</th>\n",
              "      <td>[2, 4]</td>\n",
              "      <td>[1, 3]</td>\n",
              "      <td>NaN</td>\n",
              "    </tr>\n",
              "    <tr>\n",
              "      <th>16</th>\n",
              "      <td>[3, 4]</td>\n",
              "      <td>[1, 2]</td>\n",
              "      <td>NaN</td>\n",
              "    </tr>\n",
              "  </tbody>\n",
              "</table>\n",
              "</div>\n",
              "    <div class=\"colab-df-buttons\">\n",
              "\n",
              "  <div class=\"colab-df-container\">\n",
              "    <button class=\"colab-df-convert\" onclick=\"convertToInteractive('df-c136c4e4-a376-4693-8c51-53f34e189b4f')\"\n",
              "            title=\"Convert this dataframe to an interactive table.\"\n",
              "            style=\"display:none;\">\n",
              "\n",
              "  <svg xmlns=\"http://www.w3.org/2000/svg\" height=\"24px\" viewBox=\"0 -960 960 960\">\n",
              "    <path d=\"M120-120v-720h720v720H120Zm60-500h600v-160H180v160Zm220 220h160v-160H400v160Zm0 220h160v-160H400v160ZM180-400h160v-160H180v160Zm440 0h160v-160H620v160ZM180-180h160v-160H180v160Zm440 0h160v-160H620v160Z\"/>\n",
              "  </svg>\n",
              "    </button>\n",
              "\n",
              "  <style>\n",
              "    .colab-df-container {\n",
              "      display:flex;\n",
              "      gap: 12px;\n",
              "    }\n",
              "\n",
              "    .colab-df-convert {\n",
              "      background-color: #E8F0FE;\n",
              "      border: none;\n",
              "      border-radius: 50%;\n",
              "      cursor: pointer;\n",
              "      display: none;\n",
              "      fill: #1967D2;\n",
              "      height: 32px;\n",
              "      padding: 0 0 0 0;\n",
              "      width: 32px;\n",
              "    }\n",
              "\n",
              "    .colab-df-convert:hover {\n",
              "      background-color: #E2EBFA;\n",
              "      box-shadow: 0px 1px 2px rgba(60, 64, 67, 0.3), 0px 1px 3px 1px rgba(60, 64, 67, 0.15);\n",
              "      fill: #174EA6;\n",
              "    }\n",
              "\n",
              "    .colab-df-buttons div {\n",
              "      margin-bottom: 4px;\n",
              "    }\n",
              "\n",
              "    [theme=dark] .colab-df-convert {\n",
              "      background-color: #3B4455;\n",
              "      fill: #D2E3FC;\n",
              "    }\n",
              "\n",
              "    [theme=dark] .colab-df-convert:hover {\n",
              "      background-color: #434B5C;\n",
              "      box-shadow: 0px 1px 3px 1px rgba(0, 0, 0, 0.15);\n",
              "      filter: drop-shadow(0px 1px 2px rgba(0, 0, 0, 0.3));\n",
              "      fill: #FFFFFF;\n",
              "    }\n",
              "  </style>\n",
              "\n",
              "    <script>\n",
              "      const buttonEl =\n",
              "        document.querySelector('#df-c136c4e4-a376-4693-8c51-53f34e189b4f button.colab-df-convert');\n",
              "      buttonEl.style.display =\n",
              "        google.colab.kernel.accessAllowed ? 'block' : 'none';\n",
              "\n",
              "      async function convertToInteractive(key) {\n",
              "        const element = document.querySelector('#df-c136c4e4-a376-4693-8c51-53f34e189b4f');\n",
              "        const dataTable =\n",
              "          await google.colab.kernel.invokeFunction('convertToInteractive',\n",
              "                                                    [key], {});\n",
              "        if (!dataTable) return;\n",
              "\n",
              "        const docLinkHtml = 'Like what you see? Visit the ' +\n",
              "          '<a target=\"_blank\" href=https://colab.research.google.com/notebooks/data_table.ipynb>data table notebook</a>'\n",
              "          + ' to learn more about interactive tables.';\n",
              "        element.innerHTML = '';\n",
              "        dataTable['output_type'] = 'display_data';\n",
              "        await google.colab.output.renderOutput(dataTable, element);\n",
              "        const docLink = document.createElement('div');\n",
              "        docLink.innerHTML = docLinkHtml;\n",
              "        element.appendChild(docLink);\n",
              "      }\n",
              "    </script>\n",
              "  </div>\n",
              "\n",
              "\n",
              "<div id=\"df-3e25f7c1-4ad5-47ba-b280-87d0076c2fdc\">\n",
              "  <button class=\"colab-df-quickchart\" onclick=\"quickchart('df-3e25f7c1-4ad5-47ba-b280-87d0076c2fdc')\"\n",
              "            title=\"Suggest charts.\"\n",
              "            style=\"display:none;\">\n",
              "\n",
              "<svg xmlns=\"http://www.w3.org/2000/svg\" height=\"24px\"viewBox=\"0 0 24 24\"\n",
              "     width=\"24px\">\n",
              "    <g>\n",
              "        <path d=\"M19 3H5c-1.1 0-2 .9-2 2v14c0 1.1.9 2 2 2h14c1.1 0 2-.9 2-2V5c0-1.1-.9-2-2-2zM9 17H7v-7h2v7zm4 0h-2V7h2v10zm4 0h-2v-4h2v4z\"/>\n",
              "    </g>\n",
              "</svg>\n",
              "  </button>\n",
              "\n",
              "<style>\n",
              "  .colab-df-quickchart {\n",
              "      --bg-color: #E8F0FE;\n",
              "      --fill-color: #1967D2;\n",
              "      --hover-bg-color: #E2EBFA;\n",
              "      --hover-fill-color: #174EA6;\n",
              "      --disabled-fill-color: #AAA;\n",
              "      --disabled-bg-color: #DDD;\n",
              "  }\n",
              "\n",
              "  [theme=dark] .colab-df-quickchart {\n",
              "      --bg-color: #3B4455;\n",
              "      --fill-color: #D2E3FC;\n",
              "      --hover-bg-color: #434B5C;\n",
              "      --hover-fill-color: #FFFFFF;\n",
              "      --disabled-bg-color: #3B4455;\n",
              "      --disabled-fill-color: #666;\n",
              "  }\n",
              "\n",
              "  .colab-df-quickchart {\n",
              "    background-color: var(--bg-color);\n",
              "    border: none;\n",
              "    border-radius: 50%;\n",
              "    cursor: pointer;\n",
              "    display: none;\n",
              "    fill: var(--fill-color);\n",
              "    height: 32px;\n",
              "    padding: 0;\n",
              "    width: 32px;\n",
              "  }\n",
              "\n",
              "  .colab-df-quickchart:hover {\n",
              "    background-color: var(--hover-bg-color);\n",
              "    box-shadow: 0 1px 2px rgba(60, 64, 67, 0.3), 0 1px 3px 1px rgba(60, 64, 67, 0.15);\n",
              "    fill: var(--button-hover-fill-color);\n",
              "  }\n",
              "\n",
              "  .colab-df-quickchart-complete:disabled,\n",
              "  .colab-df-quickchart-complete:disabled:hover {\n",
              "    background-color: var(--disabled-bg-color);\n",
              "    fill: var(--disabled-fill-color);\n",
              "    box-shadow: none;\n",
              "  }\n",
              "\n",
              "  .colab-df-spinner {\n",
              "    border: 2px solid var(--fill-color);\n",
              "    border-color: transparent;\n",
              "    border-bottom-color: var(--fill-color);\n",
              "    animation:\n",
              "      spin 1s steps(1) infinite;\n",
              "  }\n",
              "\n",
              "  @keyframes spin {\n",
              "    0% {\n",
              "      border-color: transparent;\n",
              "      border-bottom-color: var(--fill-color);\n",
              "      border-left-color: var(--fill-color);\n",
              "    }\n",
              "    20% {\n",
              "      border-color: transparent;\n",
              "      border-left-color: var(--fill-color);\n",
              "      border-top-color: var(--fill-color);\n",
              "    }\n",
              "    30% {\n",
              "      border-color: transparent;\n",
              "      border-left-color: var(--fill-color);\n",
              "      border-top-color: var(--fill-color);\n",
              "      border-right-color: var(--fill-color);\n",
              "    }\n",
              "    40% {\n",
              "      border-color: transparent;\n",
              "      border-right-color: var(--fill-color);\n",
              "      border-top-color: var(--fill-color);\n",
              "    }\n",
              "    60% {\n",
              "      border-color: transparent;\n",
              "      border-right-color: var(--fill-color);\n",
              "    }\n",
              "    80% {\n",
              "      border-color: transparent;\n",
              "      border-right-color: var(--fill-color);\n",
              "      border-bottom-color: var(--fill-color);\n",
              "    }\n",
              "    90% {\n",
              "      border-color: transparent;\n",
              "      border-bottom-color: var(--fill-color);\n",
              "    }\n",
              "  }\n",
              "</style>\n",
              "\n",
              "  <script>\n",
              "    async function quickchart(key) {\n",
              "      const quickchartButtonEl =\n",
              "        document.querySelector('#' + key + ' button');\n",
              "      quickchartButtonEl.disabled = true;  // To prevent multiple clicks.\n",
              "      quickchartButtonEl.classList.add('colab-df-spinner');\n",
              "      try {\n",
              "        const charts = await google.colab.kernel.invokeFunction(\n",
              "            'suggestCharts', [key], {});\n",
              "      } catch (error) {\n",
              "        console.error('Error during call to suggestCharts:', error);\n",
              "      }\n",
              "      quickchartButtonEl.classList.remove('colab-df-spinner');\n",
              "      quickchartButtonEl.classList.add('colab-df-quickchart-complete');\n",
              "    }\n",
              "    (() => {\n",
              "      let quickchartButtonEl =\n",
              "        document.querySelector('#df-3e25f7c1-4ad5-47ba-b280-87d0076c2fdc button');\n",
              "      quickchartButtonEl.style.display =\n",
              "        google.colab.kernel.accessAllowed ? 'block' : 'none';\n",
              "    })();\n",
              "  </script>\n",
              "</div>\n",
              "    </div>\n",
              "  </div>\n"
            ]
          },
          "metadata": {}
        },
        {
          "output_type": "stream",
          "name": "stdout",
          "text": [
            "Number of options: 6\n"
          ]
        }
      ],
      "source": [
        "# Test Function\n",
        "\n",
        "# Variable declaration\n",
        "TOTAL_TAKES = 4\n",
        "TAKES_PER_DAY = 2\n",
        "TOTAL_DAYS = int(TOTAL_TAKES/TAKES_PER_DAY)\n",
        "\n",
        "# Display Results\n",
        "df_brute_force = get_take_combinations()\n",
        "display(df_brute_force)\n",
        "print(f'Number of options: {len(df_brute_force)}')"
      ]
    },
    {
      "cell_type": "markdown",
      "metadata": {
        "id": "pZwQL_S42u4a"
      },
      "source": [
        "Una vez calculadas todas las combinaciones simplemente tenemos que calcular el coste de cada opción.\n",
        "\n",
        "Necesitamos entonces cargar el dataframe con los actores necesarios para cada toma."
      ]
    },
    {
      "cell_type": "code",
      "execution_count": 6,
      "metadata": {
        "id": "Jz891iGt2u4a"
      },
      "outputs": [],
      "source": [
        "# Load .csv file\n",
        "df_actors = pd.read_csv('data_simplified.csv', sep=';', index_col=0)"
      ]
    },
    {
      "cell_type": "markdown",
      "metadata": {
        "id": "cAyYjbpv2u4a"
      },
      "source": [
        "Una vez cargado el dataframe, podemos calcular el coste total de una opción creando 2 funciones: Una que calcule el coste de un día y otra que calcule el coste total (la suma de todos los días). Nuestro resultado final será el que tenga el valor más pequeño en la columna de coste del dataframe."
      ]
    },
    {
      "cell_type": "code",
      "execution_count": 7,
      "metadata": {
        "id": "Dh2XT56s2u4a"
      },
      "outputs": [],
      "source": [
        "# Calculate cost day\n",
        "def calculate_cost_day(takes_list):\n",
        "    df_filtered = df_actors[df_actors.index.isin(takes_list)]\n",
        "\n",
        "    # Calculate cost (if col has 1, add 1 to cost)\n",
        "    cost = (df_filtered == 1).any().sum()\n",
        "\n",
        "    return cost\n",
        "\n",
        "# Calculates the total cost of all sessions\n",
        "def calculate_cost_total(row):\n",
        "    total_cost = 0\n",
        "    for day in range(1, len(row)):\n",
        "        total_cost += calculate_cost_day(row[f'Day {day}'])\n",
        "    return total_cost\n",
        "\n",
        "# Updates the cost column in the population dataframe\n",
        "def update_cost_dataframe(df):\n",
        "    df['Cost'] = df.apply(calculate_cost_total, axis=1)\n",
        "    return df\n",
        "\n",
        "# Returns the best option in the dataframe\n",
        "def get_best_take_option(df):\n",
        "    return pd.DataFrame([ df.iloc[df['Cost'].idxmin()] ])"
      ]
    },
    {
      "cell_type": "code",
      "execution_count": 8,
      "metadata": {
        "colab": {
          "base_uri": "https://localhost:8080/",
          "height": 337
        },
        "id": "0HHqzNKu2u4b",
        "outputId": "02300d36-5d6b-4a12-f4db-c557f5080f9d"
      },
      "outputs": [
        {
          "output_type": "display_data",
          "data": {
            "text/plain": [
              "     Day 1   Day 2  Cost\n",
              "0   [1, 2]  [3, 4]    10\n",
              "2   [1, 3]  [2, 4]    13\n",
              "4   [1, 4]  [2, 3]    12\n",
              "8   [2, 3]  [1, 4]    12\n",
              "10  [2, 4]  [1, 3]    13\n",
              "16  [3, 4]  [1, 2]    10"
            ],
            "text/html": [
              "\n",
              "  <div id=\"df-745022cf-1e0f-4854-ae10-29f639b3152d\" class=\"colab-df-container\">\n",
              "    <div>\n",
              "<style scoped>\n",
              "    .dataframe tbody tr th:only-of-type {\n",
              "        vertical-align: middle;\n",
              "    }\n",
              "\n",
              "    .dataframe tbody tr th {\n",
              "        vertical-align: top;\n",
              "    }\n",
              "\n",
              "    .dataframe thead th {\n",
              "        text-align: right;\n",
              "    }\n",
              "</style>\n",
              "<table border=\"1\" class=\"dataframe\">\n",
              "  <thead>\n",
              "    <tr style=\"text-align: right;\">\n",
              "      <th></th>\n",
              "      <th>Day 1</th>\n",
              "      <th>Day 2</th>\n",
              "      <th>Cost</th>\n",
              "    </tr>\n",
              "  </thead>\n",
              "  <tbody>\n",
              "    <tr>\n",
              "      <th>0</th>\n",
              "      <td>[1, 2]</td>\n",
              "      <td>[3, 4]</td>\n",
              "      <td>10</td>\n",
              "    </tr>\n",
              "    <tr>\n",
              "      <th>2</th>\n",
              "      <td>[1, 3]</td>\n",
              "      <td>[2, 4]</td>\n",
              "      <td>13</td>\n",
              "    </tr>\n",
              "    <tr>\n",
              "      <th>4</th>\n",
              "      <td>[1, 4]</td>\n",
              "      <td>[2, 3]</td>\n",
              "      <td>12</td>\n",
              "    </tr>\n",
              "    <tr>\n",
              "      <th>8</th>\n",
              "      <td>[2, 3]</td>\n",
              "      <td>[1, 4]</td>\n",
              "      <td>12</td>\n",
              "    </tr>\n",
              "    <tr>\n",
              "      <th>10</th>\n",
              "      <td>[2, 4]</td>\n",
              "      <td>[1, 3]</td>\n",
              "      <td>13</td>\n",
              "    </tr>\n",
              "    <tr>\n",
              "      <th>16</th>\n",
              "      <td>[3, 4]</td>\n",
              "      <td>[1, 2]</td>\n",
              "      <td>10</td>\n",
              "    </tr>\n",
              "  </tbody>\n",
              "</table>\n",
              "</div>\n",
              "    <div class=\"colab-df-buttons\">\n",
              "\n",
              "  <div class=\"colab-df-container\">\n",
              "    <button class=\"colab-df-convert\" onclick=\"convertToInteractive('df-745022cf-1e0f-4854-ae10-29f639b3152d')\"\n",
              "            title=\"Convert this dataframe to an interactive table.\"\n",
              "            style=\"display:none;\">\n",
              "\n",
              "  <svg xmlns=\"http://www.w3.org/2000/svg\" height=\"24px\" viewBox=\"0 -960 960 960\">\n",
              "    <path d=\"M120-120v-720h720v720H120Zm60-500h600v-160H180v160Zm220 220h160v-160H400v160Zm0 220h160v-160H400v160ZM180-400h160v-160H180v160Zm440 0h160v-160H620v160ZM180-180h160v-160H180v160Zm440 0h160v-160H620v160Z\"/>\n",
              "  </svg>\n",
              "    </button>\n",
              "\n",
              "  <style>\n",
              "    .colab-df-container {\n",
              "      display:flex;\n",
              "      gap: 12px;\n",
              "    }\n",
              "\n",
              "    .colab-df-convert {\n",
              "      background-color: #E8F0FE;\n",
              "      border: none;\n",
              "      border-radius: 50%;\n",
              "      cursor: pointer;\n",
              "      display: none;\n",
              "      fill: #1967D2;\n",
              "      height: 32px;\n",
              "      padding: 0 0 0 0;\n",
              "      width: 32px;\n",
              "    }\n",
              "\n",
              "    .colab-df-convert:hover {\n",
              "      background-color: #E2EBFA;\n",
              "      box-shadow: 0px 1px 2px rgba(60, 64, 67, 0.3), 0px 1px 3px 1px rgba(60, 64, 67, 0.15);\n",
              "      fill: #174EA6;\n",
              "    }\n",
              "\n",
              "    .colab-df-buttons div {\n",
              "      margin-bottom: 4px;\n",
              "    }\n",
              "\n",
              "    [theme=dark] .colab-df-convert {\n",
              "      background-color: #3B4455;\n",
              "      fill: #D2E3FC;\n",
              "    }\n",
              "\n",
              "    [theme=dark] .colab-df-convert:hover {\n",
              "      background-color: #434B5C;\n",
              "      box-shadow: 0px 1px 3px 1px rgba(0, 0, 0, 0.15);\n",
              "      filter: drop-shadow(0px 1px 2px rgba(0, 0, 0, 0.3));\n",
              "      fill: #FFFFFF;\n",
              "    }\n",
              "  </style>\n",
              "\n",
              "    <script>\n",
              "      const buttonEl =\n",
              "        document.querySelector('#df-745022cf-1e0f-4854-ae10-29f639b3152d button.colab-df-convert');\n",
              "      buttonEl.style.display =\n",
              "        google.colab.kernel.accessAllowed ? 'block' : 'none';\n",
              "\n",
              "      async function convertToInteractive(key) {\n",
              "        const element = document.querySelector('#df-745022cf-1e0f-4854-ae10-29f639b3152d');\n",
              "        const dataTable =\n",
              "          await google.colab.kernel.invokeFunction('convertToInteractive',\n",
              "                                                    [key], {});\n",
              "        if (!dataTable) return;\n",
              "\n",
              "        const docLinkHtml = 'Like what you see? Visit the ' +\n",
              "          '<a target=\"_blank\" href=https://colab.research.google.com/notebooks/data_table.ipynb>data table notebook</a>'\n",
              "          + ' to learn more about interactive tables.';\n",
              "        element.innerHTML = '';\n",
              "        dataTable['output_type'] = 'display_data';\n",
              "        await google.colab.output.renderOutput(dataTable, element);\n",
              "        const docLink = document.createElement('div');\n",
              "        docLink.innerHTML = docLinkHtml;\n",
              "        element.appendChild(docLink);\n",
              "      }\n",
              "    </script>\n",
              "  </div>\n",
              "\n",
              "\n",
              "<div id=\"df-1ca7624f-2b66-49af-87a1-eb5409c4c974\">\n",
              "  <button class=\"colab-df-quickchart\" onclick=\"quickchart('df-1ca7624f-2b66-49af-87a1-eb5409c4c974')\"\n",
              "            title=\"Suggest charts.\"\n",
              "            style=\"display:none;\">\n",
              "\n",
              "<svg xmlns=\"http://www.w3.org/2000/svg\" height=\"24px\"viewBox=\"0 0 24 24\"\n",
              "     width=\"24px\">\n",
              "    <g>\n",
              "        <path d=\"M19 3H5c-1.1 0-2 .9-2 2v14c0 1.1.9 2 2 2h14c1.1 0 2-.9 2-2V5c0-1.1-.9-2-2-2zM9 17H7v-7h2v7zm4 0h-2V7h2v10zm4 0h-2v-4h2v4z\"/>\n",
              "    </g>\n",
              "</svg>\n",
              "  </button>\n",
              "\n",
              "<style>\n",
              "  .colab-df-quickchart {\n",
              "      --bg-color: #E8F0FE;\n",
              "      --fill-color: #1967D2;\n",
              "      --hover-bg-color: #E2EBFA;\n",
              "      --hover-fill-color: #174EA6;\n",
              "      --disabled-fill-color: #AAA;\n",
              "      --disabled-bg-color: #DDD;\n",
              "  }\n",
              "\n",
              "  [theme=dark] .colab-df-quickchart {\n",
              "      --bg-color: #3B4455;\n",
              "      --fill-color: #D2E3FC;\n",
              "      --hover-bg-color: #434B5C;\n",
              "      --hover-fill-color: #FFFFFF;\n",
              "      --disabled-bg-color: #3B4455;\n",
              "      --disabled-fill-color: #666;\n",
              "  }\n",
              "\n",
              "  .colab-df-quickchart {\n",
              "    background-color: var(--bg-color);\n",
              "    border: none;\n",
              "    border-radius: 50%;\n",
              "    cursor: pointer;\n",
              "    display: none;\n",
              "    fill: var(--fill-color);\n",
              "    height: 32px;\n",
              "    padding: 0;\n",
              "    width: 32px;\n",
              "  }\n",
              "\n",
              "  .colab-df-quickchart:hover {\n",
              "    background-color: var(--hover-bg-color);\n",
              "    box-shadow: 0 1px 2px rgba(60, 64, 67, 0.3), 0 1px 3px 1px rgba(60, 64, 67, 0.15);\n",
              "    fill: var(--button-hover-fill-color);\n",
              "  }\n",
              "\n",
              "  .colab-df-quickchart-complete:disabled,\n",
              "  .colab-df-quickchart-complete:disabled:hover {\n",
              "    background-color: var(--disabled-bg-color);\n",
              "    fill: var(--disabled-fill-color);\n",
              "    box-shadow: none;\n",
              "  }\n",
              "\n",
              "  .colab-df-spinner {\n",
              "    border: 2px solid var(--fill-color);\n",
              "    border-color: transparent;\n",
              "    border-bottom-color: var(--fill-color);\n",
              "    animation:\n",
              "      spin 1s steps(1) infinite;\n",
              "  }\n",
              "\n",
              "  @keyframes spin {\n",
              "    0% {\n",
              "      border-color: transparent;\n",
              "      border-bottom-color: var(--fill-color);\n",
              "      border-left-color: var(--fill-color);\n",
              "    }\n",
              "    20% {\n",
              "      border-color: transparent;\n",
              "      border-left-color: var(--fill-color);\n",
              "      border-top-color: var(--fill-color);\n",
              "    }\n",
              "    30% {\n",
              "      border-color: transparent;\n",
              "      border-left-color: var(--fill-color);\n",
              "      border-top-color: var(--fill-color);\n",
              "      border-right-color: var(--fill-color);\n",
              "    }\n",
              "    40% {\n",
              "      border-color: transparent;\n",
              "      border-right-color: var(--fill-color);\n",
              "      border-top-color: var(--fill-color);\n",
              "    }\n",
              "    60% {\n",
              "      border-color: transparent;\n",
              "      border-right-color: var(--fill-color);\n",
              "    }\n",
              "    80% {\n",
              "      border-color: transparent;\n",
              "      border-right-color: var(--fill-color);\n",
              "      border-bottom-color: var(--fill-color);\n",
              "    }\n",
              "    90% {\n",
              "      border-color: transparent;\n",
              "      border-bottom-color: var(--fill-color);\n",
              "    }\n",
              "  }\n",
              "</style>\n",
              "\n",
              "  <script>\n",
              "    async function quickchart(key) {\n",
              "      const quickchartButtonEl =\n",
              "        document.querySelector('#' + key + ' button');\n",
              "      quickchartButtonEl.disabled = true;  // To prevent multiple clicks.\n",
              "      quickchartButtonEl.classList.add('colab-df-spinner');\n",
              "      try {\n",
              "        const charts = await google.colab.kernel.invokeFunction(\n",
              "            'suggestCharts', [key], {});\n",
              "      } catch (error) {\n",
              "        console.error('Error during call to suggestCharts:', error);\n",
              "      }\n",
              "      quickchartButtonEl.classList.remove('colab-df-spinner');\n",
              "      quickchartButtonEl.classList.add('colab-df-quickchart-complete');\n",
              "    }\n",
              "    (() => {\n",
              "      let quickchartButtonEl =\n",
              "        document.querySelector('#df-1ca7624f-2b66-49af-87a1-eb5409c4c974 button');\n",
              "      quickchartButtonEl.style.display =\n",
              "        google.colab.kernel.accessAllowed ? 'block' : 'none';\n",
              "    })();\n",
              "  </script>\n",
              "</div>\n",
              "    </div>\n",
              "  </div>\n"
            ]
          },
          "metadata": {}
        },
        {
          "output_type": "stream",
          "name": "stdout",
          "text": [
            "\n",
            "The best result is the following:\n"
          ]
        },
        {
          "output_type": "display_data",
          "data": {
            "text/plain": [
              "    Day 1   Day 2  Cost\n",
              "0  [1, 2]  [3, 4]    10"
            ],
            "text/html": [
              "\n",
              "  <div id=\"df-64e007d7-1758-4457-90ac-4d1f7d4f49a0\" class=\"colab-df-container\">\n",
              "    <div>\n",
              "<style scoped>\n",
              "    .dataframe tbody tr th:only-of-type {\n",
              "        vertical-align: middle;\n",
              "    }\n",
              "\n",
              "    .dataframe tbody tr th {\n",
              "        vertical-align: top;\n",
              "    }\n",
              "\n",
              "    .dataframe thead th {\n",
              "        text-align: right;\n",
              "    }\n",
              "</style>\n",
              "<table border=\"1\" class=\"dataframe\">\n",
              "  <thead>\n",
              "    <tr style=\"text-align: right;\">\n",
              "      <th></th>\n",
              "      <th>Day 1</th>\n",
              "      <th>Day 2</th>\n",
              "      <th>Cost</th>\n",
              "    </tr>\n",
              "  </thead>\n",
              "  <tbody>\n",
              "    <tr>\n",
              "      <th>0</th>\n",
              "      <td>[1, 2]</td>\n",
              "      <td>[3, 4]</td>\n",
              "      <td>10</td>\n",
              "    </tr>\n",
              "  </tbody>\n",
              "</table>\n",
              "</div>\n",
              "    <div class=\"colab-df-buttons\">\n",
              "\n",
              "  <div class=\"colab-df-container\">\n",
              "    <button class=\"colab-df-convert\" onclick=\"convertToInteractive('df-64e007d7-1758-4457-90ac-4d1f7d4f49a0')\"\n",
              "            title=\"Convert this dataframe to an interactive table.\"\n",
              "            style=\"display:none;\">\n",
              "\n",
              "  <svg xmlns=\"http://www.w3.org/2000/svg\" height=\"24px\" viewBox=\"0 -960 960 960\">\n",
              "    <path d=\"M120-120v-720h720v720H120Zm60-500h600v-160H180v160Zm220 220h160v-160H400v160Zm0 220h160v-160H400v160ZM180-400h160v-160H180v160Zm440 0h160v-160H620v160ZM180-180h160v-160H180v160Zm440 0h160v-160H620v160Z\"/>\n",
              "  </svg>\n",
              "    </button>\n",
              "\n",
              "  <style>\n",
              "    .colab-df-container {\n",
              "      display:flex;\n",
              "      gap: 12px;\n",
              "    }\n",
              "\n",
              "    .colab-df-convert {\n",
              "      background-color: #E8F0FE;\n",
              "      border: none;\n",
              "      border-radius: 50%;\n",
              "      cursor: pointer;\n",
              "      display: none;\n",
              "      fill: #1967D2;\n",
              "      height: 32px;\n",
              "      padding: 0 0 0 0;\n",
              "      width: 32px;\n",
              "    }\n",
              "\n",
              "    .colab-df-convert:hover {\n",
              "      background-color: #E2EBFA;\n",
              "      box-shadow: 0px 1px 2px rgba(60, 64, 67, 0.3), 0px 1px 3px 1px rgba(60, 64, 67, 0.15);\n",
              "      fill: #174EA6;\n",
              "    }\n",
              "\n",
              "    .colab-df-buttons div {\n",
              "      margin-bottom: 4px;\n",
              "    }\n",
              "\n",
              "    [theme=dark] .colab-df-convert {\n",
              "      background-color: #3B4455;\n",
              "      fill: #D2E3FC;\n",
              "    }\n",
              "\n",
              "    [theme=dark] .colab-df-convert:hover {\n",
              "      background-color: #434B5C;\n",
              "      box-shadow: 0px 1px 3px 1px rgba(0, 0, 0, 0.15);\n",
              "      filter: drop-shadow(0px 1px 2px rgba(0, 0, 0, 0.3));\n",
              "      fill: #FFFFFF;\n",
              "    }\n",
              "  </style>\n",
              "\n",
              "    <script>\n",
              "      const buttonEl =\n",
              "        document.querySelector('#df-64e007d7-1758-4457-90ac-4d1f7d4f49a0 button.colab-df-convert');\n",
              "      buttonEl.style.display =\n",
              "        google.colab.kernel.accessAllowed ? 'block' : 'none';\n",
              "\n",
              "      async function convertToInteractive(key) {\n",
              "        const element = document.querySelector('#df-64e007d7-1758-4457-90ac-4d1f7d4f49a0');\n",
              "        const dataTable =\n",
              "          await google.colab.kernel.invokeFunction('convertToInteractive',\n",
              "                                                    [key], {});\n",
              "        if (!dataTable) return;\n",
              "\n",
              "        const docLinkHtml = 'Like what you see? Visit the ' +\n",
              "          '<a target=\"_blank\" href=https://colab.research.google.com/notebooks/data_table.ipynb>data table notebook</a>'\n",
              "          + ' to learn more about interactive tables.';\n",
              "        element.innerHTML = '';\n",
              "        dataTable['output_type'] = 'display_data';\n",
              "        await google.colab.output.renderOutput(dataTable, element);\n",
              "        const docLink = document.createElement('div');\n",
              "        docLink.innerHTML = docLinkHtml;\n",
              "        element.appendChild(docLink);\n",
              "      }\n",
              "    </script>\n",
              "  </div>\n",
              "\n",
              "    </div>\n",
              "  </div>\n"
            ]
          },
          "metadata": {}
        }
      ],
      "source": [
        "# Test Function\n",
        "\n",
        "# Calculate cost for each element in population\n",
        "df_brute_force = update_cost_dataframe(df_brute_force)\n",
        "\n",
        "# Display results\n",
        "display(df_brute_force)\n",
        "\n",
        "# Get best result\n",
        "print('\\nThe best result is the following:')\n",
        "display(get_best_take_option(df_brute_force))"
      ]
    },
    {
      "cell_type": "markdown",
      "metadata": {
        "id": "acUlkv6S2u4b"
      },
      "source": [
        "Los ejemplos anteriores se han realizado un total de tomas y máximo de tomas por días inferior al valor del problema. Esto es debido a que el problema real es computacionalmente muy exigente y comprobar el resultado requeriría decenas de horas."
      ]
    },
    {
      "cell_type": "code",
      "execution_count": null,
      "metadata": {
        "id": "duBDykEb2u4b"
      },
      "outputs": [],
      "source": [
        "# Variable declaration\n",
        "TOTAL_TAKES = 30\n",
        "TAKES_PER_DAY = 6\n",
        "TOTAL_DAYS = int(TOTAL_TAKES/TAKES_PER_DAY)\n",
        "\n",
        "# Get all combinations\n",
        "df_brute_force = get_take_combinations()\n",
        "\n",
        "# Calculate cost for each element in population\n",
        "df_brute_force = update_cost_dataframe(df_brute_force)\n",
        "\n",
        "# Get best result\n",
        "print('The best result is the following:')\n",
        "display(get_best_take_option(df_brute_force))"
      ]
    },
    {
      "cell_type": "markdown",
      "metadata": {
        "id": "etFN_5a12u4b"
      },
      "source": [
        "El código anterior nos permitiría conseguir una solución exacta al problema, pero no ha sido posible ejecutarlo completamente debido a su largo tiempo de ejecución."
      ]
    },
    {
      "cell_type": "markdown",
      "metadata": {
        "id": "tgrnsC2nkFa8"
      },
      "source": [
        "### Question 7\n",
        "\n",
        "Calcula la complejidad del algoritmo por fuerza bruta"
      ]
    },
    {
      "cell_type": "markdown",
      "metadata": {
        "id": "9eUd3xwckP68"
      },
      "source": [
        "Respuesta"
      ]
    },
    {
      "cell_type": "code",
      "execution_count": null,
      "metadata": {
        "id": "rvZWwL-ckRST"
      },
      "outputs": [],
      "source": []
    },
    {
      "cell_type": "markdown",
      "metadata": {
        "id": "txbrmLmskReM"
      },
      "source": [
        "### Question 8\n",
        "\n",
        "(*)Diseña un algoritmo que mejore la complejidad del algortimo por fuerza bruta. Argumenta porque crees que mejora el algoritmo por fuerza bruta"
      ]
    },
    {
      "cell_type": "markdown",
      "metadata": {
        "id": "hLrVwt5QkZPD"
      },
      "source": [
        "Respuesta"
      ]
    },
    {
      "cell_type": "markdown",
      "metadata": {
        "id": "JY3_rfEw2u4b"
      },
      "source": [
        "Para mejorar la eficiencia del algoritmo por fuerza bruta he propuesto la creación de un algoritmo genético. Pese a no obtener el mejor resultado, los algoritmos genéticos han demostrado ser capaces de encontrar soluciones aceptables en un tiempo mucho más reducido."
      ]
    },
    {
      "cell_type": "markdown",
      "metadata": {
        "id": "yF6eGNZo2u4b"
      },
      "source": [
        "Para poder implementar el algoritmo genético necesitamos implementar algunas funciones nuevas. Necesitamos una función de inicialización que cree una población inicial de manera completamente aleatoria."
      ]
    },
    {
      "cell_type": "code",
      "execution_count": null,
      "metadata": {
        "id": "m1eyM21Vkabg"
      },
      "outputs": [],
      "source": [
        "# Initialize random population\n",
        "def initialize_random_population(population_size):\n",
        "    days = int(TOTAL_TAKES/TAKES_PER_DAY)\n",
        "\n",
        "    # Initialize results dataframe\n",
        "    df_columns = [f'Day {day}' for day in range(1, days+1)] + ['Cost']\n",
        "    df = pd.DataFrame(columns=df_columns)\n",
        "\n",
        "    for _ in range(population_size):\n",
        "        takes = list(range(1, TOTAL_TAKES+1))\n",
        "        random.shuffle(takes) # Randomize the order of the takes\n",
        "\n",
        "        # Subdivide the takes into different days\n",
        "        data_df = {}\n",
        "        for idx, i in enumerate(range(0, len(takes), TAKES_PER_DAY)):\n",
        "            day = idx+1\n",
        "            data_df[f'Day {day}'] = sorted(takes[i:i + TAKES_PER_DAY])\n",
        "\n",
        "        # Add new value to dataframe\n",
        "        df = pd.concat([df, pd.DataFrame([data_df])], ignore_index=True)\n",
        "\n",
        "    # Calculate cost for each element in population\n",
        "    df = update_cost_dataframe(df)\n",
        "\n",
        "    return df"
      ]
    },
    {
      "cell_type": "code",
      "execution_count": null,
      "metadata": {
        "id": "AO_nwfNu2u4c",
        "outputId": "bb87b0c8-5e33-4252-93fc-26b1b4eb7671"
      },
      "outputs": [
        {
          "data": {
            "text/html": [
              "<div>\n",
              "<style scoped>\n",
              "    .dataframe tbody tr th:only-of-type {\n",
              "        vertical-align: middle;\n",
              "    }\n",
              "\n",
              "    .dataframe tbody tr th {\n",
              "        vertical-align: top;\n",
              "    }\n",
              "\n",
              "    .dataframe thead th {\n",
              "        text-align: right;\n",
              "    }\n",
              "</style>\n",
              "<table border=\"1\" class=\"dataframe\">\n",
              "  <thead>\n",
              "    <tr style=\"text-align: right;\">\n",
              "      <th></th>\n",
              "      <th>Day 1</th>\n",
              "      <th>Day 2</th>\n",
              "      <th>Day 3</th>\n",
              "      <th>Day 4</th>\n",
              "      <th>Day 5</th>\n",
              "      <th>Cost</th>\n",
              "    </tr>\n",
              "  </thead>\n",
              "  <tbody>\n",
              "    <tr>\n",
              "      <th>0</th>\n",
              "      <td>[2, 5, 15, 17, 20, 24]</td>\n",
              "      <td>[4, 7, 19, 21, 25, 29]</td>\n",
              "      <td>[3, 9, 13, 16, 18, 26]</td>\n",
              "      <td>[8, 11, 22, 27, 28, 30]</td>\n",
              "      <td>[1, 6, 10, 12, 14, 23]</td>\n",
              "      <td>40</td>\n",
              "    </tr>\n",
              "    <tr>\n",
              "      <th>1</th>\n",
              "      <td>[5, 17, 19, 20, 25, 27]</td>\n",
              "      <td>[4, 14, 15, 18, 22, 26]</td>\n",
              "      <td>[1, 10, 12, 16, 21, 24]</td>\n",
              "      <td>[2, 7, 9, 13, 23, 30]</td>\n",
              "      <td>[3, 6, 8, 11, 28, 29]</td>\n",
              "      <td>38</td>\n",
              "    </tr>\n",
              "    <tr>\n",
              "      <th>2</th>\n",
              "      <td>[6, 9, 11, 17, 18, 28]</td>\n",
              "      <td>[1, 3, 13, 15, 21, 22]</td>\n",
              "      <td>[2, 8, 10, 16, 20, 30]</td>\n",
              "      <td>[4, 5, 7, 23, 26, 29]</td>\n",
              "      <td>[12, 14, 19, 24, 25, 27]</td>\n",
              "      <td>39</td>\n",
              "    </tr>\n",
              "    <tr>\n",
              "      <th>3</th>\n",
              "      <td>[3, 18, 24, 25, 29, 30]</td>\n",
              "      <td>[8, 13, 16, 17, 26, 27]</td>\n",
              "      <td>[1, 2, 7, 10, 20, 22]</td>\n",
              "      <td>[4, 6, 12, 15, 21, 23]</td>\n",
              "      <td>[5, 9, 11, 14, 19, 28]</td>\n",
              "      <td>38</td>\n",
              "    </tr>\n",
              "    <tr>\n",
              "      <th>4</th>\n",
              "      <td>[4, 14, 17, 21, 23, 28]</td>\n",
              "      <td>[2, 3, 7, 13, 15, 27]</td>\n",
              "      <td>[6, 11, 12, 19, 20, 24]</td>\n",
              "      <td>[1, 8, 9, 18, 22, 26]</td>\n",
              "      <td>[5, 10, 16, 25, 29, 30]</td>\n",
              "      <td>35</td>\n",
              "    </tr>\n",
              "    <tr>\n",
              "      <th>5</th>\n",
              "      <td>[4, 15, 19, 24, 26, 30]</td>\n",
              "      <td>[6, 8, 14, 16, 27, 28]</td>\n",
              "      <td>[12, 17, 18, 20, 23, 25]</td>\n",
              "      <td>[2, 9, 10, 21, 22, 29]</td>\n",
              "      <td>[1, 3, 5, 7, 11, 13]</td>\n",
              "      <td>38</td>\n",
              "    </tr>\n",
              "    <tr>\n",
              "      <th>6</th>\n",
              "      <td>[7, 13, 17, 26, 29, 30]</td>\n",
              "      <td>[5, 8, 14, 16, 19, 28]</td>\n",
              "      <td>[2, 6, 12, 18, 21, 25]</td>\n",
              "      <td>[3, 9, 10, 20, 23, 27]</td>\n",
              "      <td>[1, 4, 11, 15, 22, 24]</td>\n",
              "      <td>38</td>\n",
              "    </tr>\n",
              "    <tr>\n",
              "      <th>7</th>\n",
              "      <td>[7, 17, 19, 22, 23, 29]</td>\n",
              "      <td>[1, 3, 8, 9, 15, 26]</td>\n",
              "      <td>[2, 5, 13, 16, 20, 24]</td>\n",
              "      <td>[4, 6, 12, 14, 18, 21]</td>\n",
              "      <td>[10, 11, 25, 27, 28, 30]</td>\n",
              "      <td>39</td>\n",
              "    </tr>\n",
              "    <tr>\n",
              "      <th>8</th>\n",
              "      <td>[10, 13, 22, 27, 28, 30]</td>\n",
              "      <td>[6, 8, 18, 19, 20, 29]</td>\n",
              "      <td>[2, 5, 12, 15, 21, 24]</td>\n",
              "      <td>[3, 9, 14, 17, 23, 26]</td>\n",
              "      <td>[1, 4, 7, 11, 16, 25]</td>\n",
              "      <td>37</td>\n",
              "    </tr>\n",
              "    <tr>\n",
              "      <th>9</th>\n",
              "      <td>[2, 14, 15, 18, 21, 29]</td>\n",
              "      <td>[6, 12, 17, 24, 25, 28]</td>\n",
              "      <td>[1, 5, 7, 8, 20, 26]</td>\n",
              "      <td>[4, 10, 13, 19, 23, 30]</td>\n",
              "      <td>[3, 9, 11, 16, 22, 27]</td>\n",
              "      <td>40</td>\n",
              "    </tr>\n",
              "  </tbody>\n",
              "</table>\n",
              "</div>"
            ],
            "text/plain": [
              "                      Day 1                    Day 2  \\\n",
              "0    [2, 5, 15, 17, 20, 24]   [4, 7, 19, 21, 25, 29]   \n",
              "1   [5, 17, 19, 20, 25, 27]  [4, 14, 15, 18, 22, 26]   \n",
              "2    [6, 9, 11, 17, 18, 28]   [1, 3, 13, 15, 21, 22]   \n",
              "3   [3, 18, 24, 25, 29, 30]  [8, 13, 16, 17, 26, 27]   \n",
              "4   [4, 14, 17, 21, 23, 28]    [2, 3, 7, 13, 15, 27]   \n",
              "5   [4, 15, 19, 24, 26, 30]   [6, 8, 14, 16, 27, 28]   \n",
              "6   [7, 13, 17, 26, 29, 30]   [5, 8, 14, 16, 19, 28]   \n",
              "7   [7, 17, 19, 22, 23, 29]     [1, 3, 8, 9, 15, 26]   \n",
              "8  [10, 13, 22, 27, 28, 30]   [6, 8, 18, 19, 20, 29]   \n",
              "9   [2, 14, 15, 18, 21, 29]  [6, 12, 17, 24, 25, 28]   \n",
              "\n",
              "                      Day 3                    Day 4  \\\n",
              "0    [3, 9, 13, 16, 18, 26]  [8, 11, 22, 27, 28, 30]   \n",
              "1   [1, 10, 12, 16, 21, 24]    [2, 7, 9, 13, 23, 30]   \n",
              "2    [2, 8, 10, 16, 20, 30]    [4, 5, 7, 23, 26, 29]   \n",
              "3     [1, 2, 7, 10, 20, 22]   [4, 6, 12, 15, 21, 23]   \n",
              "4   [6, 11, 12, 19, 20, 24]    [1, 8, 9, 18, 22, 26]   \n",
              "5  [12, 17, 18, 20, 23, 25]   [2, 9, 10, 21, 22, 29]   \n",
              "6    [2, 6, 12, 18, 21, 25]   [3, 9, 10, 20, 23, 27]   \n",
              "7    [2, 5, 13, 16, 20, 24]   [4, 6, 12, 14, 18, 21]   \n",
              "8    [2, 5, 12, 15, 21, 24]   [3, 9, 14, 17, 23, 26]   \n",
              "9      [1, 5, 7, 8, 20, 26]  [4, 10, 13, 19, 23, 30]   \n",
              "\n",
              "                      Day 5  Cost  \n",
              "0    [1, 6, 10, 12, 14, 23]    40  \n",
              "1     [3, 6, 8, 11, 28, 29]    38  \n",
              "2  [12, 14, 19, 24, 25, 27]    39  \n",
              "3    [5, 9, 11, 14, 19, 28]    38  \n",
              "4   [5, 10, 16, 25, 29, 30]    35  \n",
              "5      [1, 3, 5, 7, 11, 13]    38  \n",
              "6    [1, 4, 11, 15, 22, 24]    38  \n",
              "7  [10, 11, 25, 27, 28, 30]    39  \n",
              "8     [1, 4, 7, 11, 16, 25]    37  \n",
              "9    [3, 9, 11, 16, 22, 27]    40  "
            ]
          },
          "metadata": {},
          "output_type": "display_data"
        }
      ],
      "source": [
        "# Test function\n",
        "\n",
        "# Variable declaration\n",
        "population_size = 10\n",
        "TOTAL_TAKES = 30\n",
        "TAKES_PER_DAY = 6\n",
        "TOTAL_DAYS = int(TOTAL_TAKES/TAKES_PER_DAY)\n",
        "\n",
        "# Display results\n",
        "df_population = initialize_random_population(population_size)\n",
        "display(df_population)"
      ]
    },
    {
      "cell_type": "markdown",
      "metadata": {
        "id": "0pcmZUwj2u4c"
      },
      "source": [
        "Una vez creada la población, necesitamos un método de selección natural que escoja los mejores individuos y elimine los peores. En este caso los mejores individuos tendrán un coste más bajo y los peores más alto."
      ]
    },
    {
      "cell_type": "code",
      "execution_count": null,
      "metadata": {
        "id": "-6BKWno72u4h"
      },
      "outputs": [],
      "source": [
        "# Select best individuals from population (lowest cost)\n",
        "def natural_selection(df_population):\n",
        "    # Sort population by lowest cost\n",
        "    df_population = df_population.sort_values(by='Cost', ascending=True)\n",
        "\n",
        "    # Select the better half\n",
        "    half_point = int(len(df_population)/ 2)\n",
        "    df_population = df_population.iloc[:half_point]\n",
        "    return df_population"
      ]
    },
    {
      "cell_type": "code",
      "execution_count": null,
      "metadata": {
        "id": "oD0X5_9-2u4h",
        "outputId": "a68bab51-c61b-4cff-8812-b04cde49647f"
      },
      "outputs": [
        {
          "data": {
            "text/html": [
              "<div>\n",
              "<style scoped>\n",
              "    .dataframe tbody tr th:only-of-type {\n",
              "        vertical-align: middle;\n",
              "    }\n",
              "\n",
              "    .dataframe tbody tr th {\n",
              "        vertical-align: top;\n",
              "    }\n",
              "\n",
              "    .dataframe thead th {\n",
              "        text-align: right;\n",
              "    }\n",
              "</style>\n",
              "<table border=\"1\" class=\"dataframe\">\n",
              "  <thead>\n",
              "    <tr style=\"text-align: right;\">\n",
              "      <th></th>\n",
              "      <th>Day 1</th>\n",
              "      <th>Day 2</th>\n",
              "      <th>Day 3</th>\n",
              "      <th>Day 4</th>\n",
              "      <th>Day 5</th>\n",
              "      <th>Cost</th>\n",
              "    </tr>\n",
              "  </thead>\n",
              "  <tbody>\n",
              "    <tr>\n",
              "      <th>4</th>\n",
              "      <td>[4, 14, 17, 21, 23, 28]</td>\n",
              "      <td>[2, 3, 7, 13, 15, 27]</td>\n",
              "      <td>[6, 11, 12, 19, 20, 24]</td>\n",
              "      <td>[1, 8, 9, 18, 22, 26]</td>\n",
              "      <td>[5, 10, 16, 25, 29, 30]</td>\n",
              "      <td>35</td>\n",
              "    </tr>\n",
              "    <tr>\n",
              "      <th>8</th>\n",
              "      <td>[10, 13, 22, 27, 28, 30]</td>\n",
              "      <td>[6, 8, 18, 19, 20, 29]</td>\n",
              "      <td>[2, 5, 12, 15, 21, 24]</td>\n",
              "      <td>[3, 9, 14, 17, 23, 26]</td>\n",
              "      <td>[1, 4, 7, 11, 16, 25]</td>\n",
              "      <td>37</td>\n",
              "    </tr>\n",
              "    <tr>\n",
              "      <th>1</th>\n",
              "      <td>[5, 17, 19, 20, 25, 27]</td>\n",
              "      <td>[4, 14, 15, 18, 22, 26]</td>\n",
              "      <td>[1, 10, 12, 16, 21, 24]</td>\n",
              "      <td>[2, 7, 9, 13, 23, 30]</td>\n",
              "      <td>[3, 6, 8, 11, 28, 29]</td>\n",
              "      <td>38</td>\n",
              "    </tr>\n",
              "    <tr>\n",
              "      <th>3</th>\n",
              "      <td>[3, 18, 24, 25, 29, 30]</td>\n",
              "      <td>[8, 13, 16, 17, 26, 27]</td>\n",
              "      <td>[1, 2, 7, 10, 20, 22]</td>\n",
              "      <td>[4, 6, 12, 15, 21, 23]</td>\n",
              "      <td>[5, 9, 11, 14, 19, 28]</td>\n",
              "      <td>38</td>\n",
              "    </tr>\n",
              "    <tr>\n",
              "      <th>5</th>\n",
              "      <td>[4, 15, 19, 24, 26, 30]</td>\n",
              "      <td>[6, 8, 14, 16, 27, 28]</td>\n",
              "      <td>[12, 17, 18, 20, 23, 25]</td>\n",
              "      <td>[2, 9, 10, 21, 22, 29]</td>\n",
              "      <td>[1, 3, 5, 7, 11, 13]</td>\n",
              "      <td>38</td>\n",
              "    </tr>\n",
              "  </tbody>\n",
              "</table>\n",
              "</div>"
            ],
            "text/plain": [
              "                      Day 1                    Day 2  \\\n",
              "4   [4, 14, 17, 21, 23, 28]    [2, 3, 7, 13, 15, 27]   \n",
              "8  [10, 13, 22, 27, 28, 30]   [6, 8, 18, 19, 20, 29]   \n",
              "1   [5, 17, 19, 20, 25, 27]  [4, 14, 15, 18, 22, 26]   \n",
              "3   [3, 18, 24, 25, 29, 30]  [8, 13, 16, 17, 26, 27]   \n",
              "5   [4, 15, 19, 24, 26, 30]   [6, 8, 14, 16, 27, 28]   \n",
              "\n",
              "                      Day 3                   Day 4                    Day 5  \\\n",
              "4   [6, 11, 12, 19, 20, 24]   [1, 8, 9, 18, 22, 26]  [5, 10, 16, 25, 29, 30]   \n",
              "8    [2, 5, 12, 15, 21, 24]  [3, 9, 14, 17, 23, 26]    [1, 4, 7, 11, 16, 25]   \n",
              "1   [1, 10, 12, 16, 21, 24]   [2, 7, 9, 13, 23, 30]    [3, 6, 8, 11, 28, 29]   \n",
              "3     [1, 2, 7, 10, 20, 22]  [4, 6, 12, 15, 21, 23]   [5, 9, 11, 14, 19, 28]   \n",
              "5  [12, 17, 18, 20, 23, 25]  [2, 9, 10, 21, 22, 29]     [1, 3, 5, 7, 11, 13]   \n",
              "\n",
              "   Cost  \n",
              "4    35  \n",
              "8    37  \n",
              "1    38  \n",
              "3    38  \n",
              "5    38  "
            ]
          },
          "metadata": {},
          "output_type": "display_data"
        }
      ],
      "source": [
        "# Test function\n",
        "df_population = natural_selection(df_population)\n",
        "display(df_population)"
      ]
    },
    {
      "cell_type": "markdown",
      "metadata": {
        "id": "kZ8MheTX2u4h"
      },
      "source": [
        "Para poder crear una nueva generación, necesitamos un método que cree un nuevo \"hijo\" a partir de 2 de las mejores opciones. En este caso escogeremos tomas aleatoriamente de los dos padres (uniform crossover). Para evitar la repetición de tomas, en caso de que no se puede añadir una toma a un día concreto porque ya se ha utilizado en otro día, se añadirá una toma aleatoria de las restantes."
      ]
    },
    {
      "cell_type": "code",
      "execution_count": null,
      "metadata": {
        "id": "BzHFUn5g2u4h"
      },
      "outputs": [],
      "source": [
        "# Create child\n",
        "def create_child(parent1, parent2):\n",
        "    # Execute exception if both parents are different sizes\n",
        "    if len(parent1) != len(parent2):\n",
        "        raise Exception('Both parents must be the same size.')\n",
        "\n",
        "    # Get random values from both parents\n",
        "    child_data = {}\n",
        "    unassigned_takes = list(range(1,31)) # List of all the takes missing to assign\n",
        "    for day in range(1, len(parent1)):\n",
        "        takes_day_parent1 = parent1.iloc[day-1]\n",
        "        takes_day_parent2 = parent2.iloc[day-1]\n",
        "        takes_day_child = []\n",
        "        for take_number in range(len(takes_day_parent1)):\n",
        "            take_parent1 = takes_day_parent1[take_number]\n",
        "            take_parent2 = takes_day_parent2[take_number]\n",
        "\n",
        "            # Create random choice between parent 1 and 2\n",
        "            if random.randint(0, 1) == 0:   # Parent 1\n",
        "                if take_parent1 not in unassigned_takes: # If already assigned, choose other parent\n",
        "                    take = take_parent2\n",
        "                else:\n",
        "                    take = take_parent1\n",
        "            else:                           # Parent 2\n",
        "                if take_parent2 not in unassigned_takes: # If already assigned, choose other parent\n",
        "                    take = take_parent1\n",
        "                else:\n",
        "                    take = take_parent2\n",
        "\n",
        "            # Make sure that take is not repeated. If it is select random number (\"mutation\")\n",
        "            if take not in unassigned_takes:\n",
        "                take = random.choices(unassigned_takes)[0]\n",
        "\n",
        "            takes_day_child.append(take) # Add take to the day list\n",
        "            unassigned_takes.remove(take) # Remove take from total list\n",
        "\n",
        "\n",
        "        takes_day_child.sort() # Sort values\n",
        "        child_data[f'Day {day}'] = [takes_day_child]\n",
        "\n",
        "    # Initialize cost to 0\n",
        "    child_data['Cost'] = 0\n",
        "\n",
        "    # Create a dataframe with child data\n",
        "    df_child = pd.DataFrame(child_data)\n",
        "\n",
        "    # Calculate cost for child\n",
        "    df_child = update_cost_dataframe(df_child)\n",
        "\n",
        "    return df_child"
      ]
    },
    {
      "cell_type": "code",
      "execution_count": null,
      "metadata": {
        "id": "b0rAkZ7b2u4h",
        "outputId": "fbc5d949-5cad-4f9a-ce55-3a2a81967568"
      },
      "outputs": [
        {
          "data": {
            "text/html": [
              "<div>\n",
              "<style scoped>\n",
              "    .dataframe tbody tr th:only-of-type {\n",
              "        vertical-align: middle;\n",
              "    }\n",
              "\n",
              "    .dataframe tbody tr th {\n",
              "        vertical-align: top;\n",
              "    }\n",
              "\n",
              "    .dataframe thead th {\n",
              "        text-align: right;\n",
              "    }\n",
              "</style>\n",
              "<table border=\"1\" class=\"dataframe\">\n",
              "  <thead>\n",
              "    <tr style=\"text-align: right;\">\n",
              "      <th></th>\n",
              "      <th>Day 1</th>\n",
              "      <th>Day 2</th>\n",
              "      <th>Day 3</th>\n",
              "      <th>Day 4</th>\n",
              "      <th>Day 5</th>\n",
              "      <th>Cost</th>\n",
              "    </tr>\n",
              "  </thead>\n",
              "  <tbody>\n",
              "    <tr>\n",
              "      <th>0</th>\n",
              "      <td>[10, 13, 21, 22, 28, 30]</td>\n",
              "      <td>[6, 7, 8, 15, 19, 29]</td>\n",
              "      <td>[2, 4, 11, 12, 20, 24]</td>\n",
              "      <td>[3, 9, 14, 18, 23, 26]</td>\n",
              "      <td>[1, 5, 16, 17, 25, 27]</td>\n",
              "      <td>38</td>\n",
              "    </tr>\n",
              "  </tbody>\n",
              "</table>\n",
              "</div>"
            ],
            "text/plain": [
              "                      Day 1                  Day 2                   Day 3  \\\n",
              "0  [10, 13, 21, 22, 28, 30]  [6, 7, 8, 15, 19, 29]  [2, 4, 11, 12, 20, 24]   \n",
              "\n",
              "                    Day 4                   Day 5  Cost  \n",
              "0  [3, 9, 14, 18, 23, 26]  [1, 5, 16, 17, 25, 27]    38  "
            ]
          },
          "metadata": {},
          "output_type": "display_data"
        }
      ],
      "source": [
        "# Test function\n",
        "parent1 = df_population.iloc[0]\n",
        "parent2 = df_population.iloc[1]\n",
        "df_child = create_child(parent1, parent2)\n",
        "display(df_child)"
      ]
    },
    {
      "cell_type": "markdown",
      "metadata": {
        "id": "dL0uEqYL2u4h"
      },
      "source": [
        "Para mejorar la diversificación, necesitamos encontrar un método de mutación que modifique los hijos ligeramente. En este caso, intercambiando de día 2 tomas."
      ]
    },
    {
      "cell_type": "code",
      "execution_count": null,
      "metadata": {
        "id": "tNt4A7md2u4h"
      },
      "outputs": [],
      "source": [
        "# Moves around 2 take values\n",
        "def mutate_child(df_child):\n",
        "    # Choose 2 random days\n",
        "    day_list = list(range(1, TOTAL_DAYS+1))\n",
        "    day_element_A = random.choice(day_list)\n",
        "    day_list.remove(day_element_A)\n",
        "    day_element_B = random.choice(day_list)\n",
        "\n",
        "    # Select random value from list of takes and remove it from list\n",
        "    day_element_A_data = df_child.iloc[0][f'Day {day_element_A}']\n",
        "    day_element_B_data = df_child.iloc[0][f'Day {day_element_B}']\n",
        "\n",
        "    element_A = random.choice(day_element_A_data)\n",
        "    day_element_A_data.remove(element_A)\n",
        "\n",
        "    element_B = random.choice(day_element_B_data)\n",
        "    day_element_B_data.remove(element_B)\n",
        "\n",
        "    # Exchange element positions\n",
        "    day_element_A_data.append(element_B)\n",
        "    day_element_B_data.append(element_A)\n",
        "\n",
        "    # Calculate cost for child\n",
        "    df_child = update_cost_dataframe(df_child)\n",
        "\n",
        "    return df_child"
      ]
    },
    {
      "cell_type": "code",
      "execution_count": null,
      "metadata": {
        "id": "3WvwwWSi2u4h",
        "outputId": "8f087e67-adb6-49cd-f08e-2b0124ba3879"
      },
      "outputs": [
        {
          "data": {
            "text/html": [
              "<div>\n",
              "<style scoped>\n",
              "    .dataframe tbody tr th:only-of-type {\n",
              "        vertical-align: middle;\n",
              "    }\n",
              "\n",
              "    .dataframe tbody tr th {\n",
              "        vertical-align: top;\n",
              "    }\n",
              "\n",
              "    .dataframe thead th {\n",
              "        text-align: right;\n",
              "    }\n",
              "</style>\n",
              "<table border=\"1\" class=\"dataframe\">\n",
              "  <thead>\n",
              "    <tr style=\"text-align: right;\">\n",
              "      <th></th>\n",
              "      <th>Day 1</th>\n",
              "      <th>Day 2</th>\n",
              "      <th>Day 3</th>\n",
              "      <th>Day 4</th>\n",
              "      <th>Day 5</th>\n",
              "      <th>Cost</th>\n",
              "    </tr>\n",
              "  </thead>\n",
              "  <tbody>\n",
              "    <tr>\n",
              "      <th>0</th>\n",
              "      <td>[10, 13, 21, 22, 28, 30]</td>\n",
              "      <td>[7, 8, 15, 19, 29, 11]</td>\n",
              "      <td>[2, 4, 12, 20, 24, 6]</td>\n",
              "      <td>[3, 9, 14, 18, 23, 26]</td>\n",
              "      <td>[1, 5, 16, 17, 25, 27]</td>\n",
              "      <td>39</td>\n",
              "    </tr>\n",
              "  </tbody>\n",
              "</table>\n",
              "</div>"
            ],
            "text/plain": [
              "                      Day 1                   Day 2                  Day 3  \\\n",
              "0  [10, 13, 21, 22, 28, 30]  [7, 8, 15, 19, 29, 11]  [2, 4, 12, 20, 24, 6]   \n",
              "\n",
              "                    Day 4                   Day 5  Cost  \n",
              "0  [3, 9, 14, 18, 23, 26]  [1, 5, 16, 17, 25, 27]    39  "
            ]
          },
          "metadata": {},
          "output_type": "display_data"
        }
      ],
      "source": [
        "# Test functions\n",
        "df_child = mutate_child(df_child)\n",
        "display(df_child)"
      ]
    },
    {
      "cell_type": "markdown",
      "metadata": {
        "id": "d2sxIM0-2u4i"
      },
      "source": [
        "También es necesario desarrollar un método que seleccione los padres de cada nuevo individuo. La selección de los padres es aleatoria con un peso relativo al coste de cada opción. Las opciones con menor coste tienen más probabilidad de engendrar a las nuevas generaciones que las que tengan mayor coste."
      ]
    },
    {
      "cell_type": "code",
      "execution_count": null,
      "metadata": {
        "id": "xwlL9i0i2u4i"
      },
      "outputs": [],
      "source": [
        "# Create children and add it to population\n",
        "def get_parents(df_population):\n",
        "    total_cost = df_population['Cost'].sum()\n",
        "    normalized_cost = 1 - df_population['Cost'] / total_cost\n",
        "    probability_selection = list( normalized_cost / normalized_cost.sum() )\n",
        "\n",
        "    choices = list( range(len(df_population) ) )\n",
        "    parent1_pos = random.choices(choices, weights=probability_selection)[0]\n",
        "    del choices[parent1_pos]\n",
        "    del probability_selection[parent1_pos]\n",
        "\n",
        "    parent2_pos = random.choices(choices, weights=probability_selection)[0]\n",
        "\n",
        "    return df_population.iloc[parent1_pos], df_population.iloc[parent2_pos]"
      ]
    },
    {
      "cell_type": "code",
      "execution_count": null,
      "metadata": {
        "id": "hAnt9v7y2u4i",
        "outputId": "e58bfc28-966f-4643-9fab-fd371ad543e2"
      },
      "outputs": [
        {
          "data": {
            "text/html": [
              "<div>\n",
              "<style scoped>\n",
              "    .dataframe tbody tr th:only-of-type {\n",
              "        vertical-align: middle;\n",
              "    }\n",
              "\n",
              "    .dataframe tbody tr th {\n",
              "        vertical-align: top;\n",
              "    }\n",
              "\n",
              "    .dataframe thead th {\n",
              "        text-align: right;\n",
              "    }\n",
              "</style>\n",
              "<table border=\"1\" class=\"dataframe\">\n",
              "  <thead>\n",
              "    <tr style=\"text-align: right;\">\n",
              "      <th></th>\n",
              "      <th>Day 1</th>\n",
              "      <th>Day 2</th>\n",
              "      <th>Day 3</th>\n",
              "      <th>Day 4</th>\n",
              "      <th>Day 5</th>\n",
              "      <th>Cost</th>\n",
              "    </tr>\n",
              "  </thead>\n",
              "  <tbody>\n",
              "    <tr>\n",
              "      <th>1</th>\n",
              "      <td>[5, 17, 19, 20, 25, 27]</td>\n",
              "      <td>[4, 14, 15, 18, 22, 26]</td>\n",
              "      <td>[1, 10, 12, 16, 21, 24]</td>\n",
              "      <td>[2, 7, 9, 13, 23, 30]</td>\n",
              "      <td>[3, 6, 8, 11, 28, 29]</td>\n",
              "      <td>38</td>\n",
              "    </tr>\n",
              "  </tbody>\n",
              "</table>\n",
              "</div>"
            ],
            "text/plain": [
              "                     Day 1                    Day 2                    Day 3  \\\n",
              "1  [5, 17, 19, 20, 25, 27]  [4, 14, 15, 18, 22, 26]  [1, 10, 12, 16, 21, 24]   \n",
              "\n",
              "                   Day 4                  Day 5  Cost  \n",
              "1  [2, 7, 9, 13, 23, 30]  [3, 6, 8, 11, 28, 29]    38  "
            ]
          },
          "metadata": {},
          "output_type": "display_data"
        },
        {
          "data": {
            "text/html": [
              "<div>\n",
              "<style scoped>\n",
              "    .dataframe tbody tr th:only-of-type {\n",
              "        vertical-align: middle;\n",
              "    }\n",
              "\n",
              "    .dataframe tbody tr th {\n",
              "        vertical-align: top;\n",
              "    }\n",
              "\n",
              "    .dataframe thead th {\n",
              "        text-align: right;\n",
              "    }\n",
              "</style>\n",
              "<table border=\"1\" class=\"dataframe\">\n",
              "  <thead>\n",
              "    <tr style=\"text-align: right;\">\n",
              "      <th></th>\n",
              "      <th>Day 1</th>\n",
              "      <th>Day 2</th>\n",
              "      <th>Day 3</th>\n",
              "      <th>Day 4</th>\n",
              "      <th>Day 5</th>\n",
              "      <th>Cost</th>\n",
              "    </tr>\n",
              "  </thead>\n",
              "  <tbody>\n",
              "    <tr>\n",
              "      <th>8</th>\n",
              "      <td>[10, 13, 22, 27, 28, 30]</td>\n",
              "      <td>[6, 8, 18, 19, 20, 29]</td>\n",
              "      <td>[2, 5, 12, 15, 21, 24]</td>\n",
              "      <td>[3, 9, 14, 17, 23, 26]</td>\n",
              "      <td>[1, 4, 7, 11, 16, 25]</td>\n",
              "      <td>37</td>\n",
              "    </tr>\n",
              "  </tbody>\n",
              "</table>\n",
              "</div>"
            ],
            "text/plain": [
              "                      Day 1                   Day 2                   Day 3  \\\n",
              "8  [10, 13, 22, 27, 28, 30]  [6, 8, 18, 19, 20, 29]  [2, 5, 12, 15, 21, 24]   \n",
              "\n",
              "                    Day 4                  Day 5  Cost  \n",
              "8  [3, 9, 14, 17, 23, 26]  [1, 4, 7, 11, 16, 25]    37  "
            ]
          },
          "metadata": {},
          "output_type": "display_data"
        }
      ],
      "source": [
        "# Test function\n",
        "parent1, parent2 = get_parents(df_population)\n",
        "\n",
        "display(pd.DataFrame([parent1]))\n",
        "display(pd.DataFrame([parent2]))"
      ]
    },
    {
      "cell_type": "markdown",
      "metadata": {
        "id": "1csCPvSI2u4i"
      },
      "source": [
        "Finalmente, podemos combinar todas las funciones para crear el algoritmo genético."
      ]
    },
    {
      "cell_type": "code",
      "execution_count": null,
      "metadata": {
        "id": "inzGbjo32u4i"
      },
      "outputs": [],
      "source": [
        "# Complete algorithm\n",
        "def genetic_algorithm(population_size, N_generations, N_mutations):\n",
        "    TOTAL_DAYS = int(TOTAL_TAKES/TAKES_PER_DAY)\n",
        "\n",
        "    # Initialize population\n",
        "    df_population = initialize_random_population(population_size)\n",
        "\n",
        "    # Loop algorithm\n",
        "    for generation in range(N_generations):\n",
        "        # Delete worst options\n",
        "        df_population = natural_selection(df_population)\n",
        "\n",
        "        for _ in range(len(df_population)):\n",
        "            # Select parents and create child\n",
        "            parent1, parent2 = get_parents(df_population)\n",
        "            df_child = create_child(parent1, parent2)\n",
        "\n",
        "            # Mutate child\n",
        "            for _ in range(N_mutations):\n",
        "                df_child = mutate_child(df_child)\n",
        "\n",
        "            # Add child to dataframe\n",
        "            df_population = pd.concat([df_population, df_child], ignore_index=True)\n",
        "\n",
        "    # Get minimum cost option\n",
        "    best_restult = df_population.iloc[df_population['Cost'].idxmin()]\n",
        "\n",
        "    return best_restult"
      ]
    },
    {
      "cell_type": "code",
      "execution_count": null,
      "metadata": {
        "id": "uu-12IuR2u4i",
        "outputId": "911779ba-a267-4779-cf7d-4883bbd59187"
      },
      "outputs": [
        {
          "data": {
            "text/html": [
              "<div>\n",
              "<style scoped>\n",
              "    .dataframe tbody tr th:only-of-type {\n",
              "        vertical-align: middle;\n",
              "    }\n",
              "\n",
              "    .dataframe tbody tr th {\n",
              "        vertical-align: top;\n",
              "    }\n",
              "\n",
              "    .dataframe thead th {\n",
              "        text-align: right;\n",
              "    }\n",
              "</style>\n",
              "<table border=\"1\" class=\"dataframe\">\n",
              "  <thead>\n",
              "    <tr style=\"text-align: right;\">\n",
              "      <th></th>\n",
              "      <th>Day 1</th>\n",
              "      <th>Day 2</th>\n",
              "      <th>Day 3</th>\n",
              "      <th>Day 4</th>\n",
              "      <th>Day 5</th>\n",
              "      <th>Cost</th>\n",
              "    </tr>\n",
              "  </thead>\n",
              "  <tbody>\n",
              "    <tr>\n",
              "      <th>0</th>\n",
              "      <td>[8, 16, 25, 28, 30, 9]</td>\n",
              "      <td>[1, 6, 12, 19, 20, 27]</td>\n",
              "      <td>[3, 10, 15, 24, 29, 23]</td>\n",
              "      <td>[2, 17, 18, 21, 26, 14]</td>\n",
              "      <td>[7, 11, 22, 13, 5, 4]</td>\n",
              "      <td>32</td>\n",
              "    </tr>\n",
              "  </tbody>\n",
              "</table>\n",
              "</div>"
            ],
            "text/plain": [
              "                    Day 1                   Day 2                    Day 3  \\\n",
              "0  [8, 16, 25, 28, 30, 9]  [1, 6, 12, 19, 20, 27]  [3, 10, 15, 24, 29, 23]   \n",
              "\n",
              "                     Day 4                  Day 5  Cost  \n",
              "0  [2, 17, 18, 21, 26, 14]  [7, 11, 22, 13, 5, 4]    32  "
            ]
          },
          "metadata": {},
          "output_type": "display_data"
        }
      ],
      "source": [
        "# Test algorithm\n",
        "\n",
        "# Variable declaration\n",
        "TOTAL_TAKES = 30\n",
        "TAKES_PER_DAY = 6\n",
        "TOTAL_DAYS = int(TOTAL_TAKES/TAKES_PER_DAY)\n",
        "population_size = 100\n",
        "N_generations = 20\n",
        "N_mutations = 3\n",
        "\n",
        "# Get best result\n",
        "best_result = genetic_algorithm(population_size, N_generations, N_mutations)\n",
        "\n",
        "# Display results\n",
        "display(pd.DataFrame([best_result]))"
      ]
    },
    {
      "cell_type": "markdown",
      "source": [
        "La combinación de menor coste es la anterior con un valor de 32.\n",
        "\n",
        "El resultado obtenido puede no ser el óptimo, pero sí que es un resultado bastante bueno para un tiempo de computación exponencialmente inferior al método de fuerza bruta."
      ],
      "metadata": {
        "id": "xo4ZT2_O5YKR"
      }
    },
    {
      "cell_type": "markdown",
      "metadata": {
        "id": "eGDB4K6uk1iN"
      },
      "source": [
        "(*)Calcula la complejidad del algoritmo"
      ]
    },
    {
      "cell_type": "markdown",
      "metadata": {
        "id": "NhpTh_BPk1ms"
      },
      "source": [
        "Respuesta"
      ]
    },
    {
      "cell_type": "markdown",
      "source": [
        "![cálculo_complejidad_algoritmo_genetico.png](data:image/png;base64,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)\n",
        "\n",
        "*Fig. 3 : Cálculo de complejidad del algoritmo*"
      ],
      "metadata": {
        "id": "kIMhBRJz9m8H"
      }
    },
    {
      "cell_type": "markdown",
      "source": [
        "Analizando el código del modelo, podemos concretar que la complejidad del algoritmo es la siguiente:\n",
        "\n",
        "$$O(Number\\ of\\ Generations·Population\\ Size·Number\\ of\\ Mutations)$$\n",
        "\n",
        "Es por tanto un algoritmo polinómico, lo cual explicaría su mejora en tiempo de ejecución respecto el de fuerza bruta."
      ],
      "metadata": {
        "id": "kWHRu4tC8nQ_"
      }
    },
    {
      "cell_type": "markdown",
      "metadata": {
        "id": "3M6QjTsSkmYe"
      },
      "source": [
        "Según el problema (y tenga sentido), diseña un juego de datos de entrada aleatorios"
      ]
    },
    {
      "cell_type": "markdown",
      "metadata": {
        "id": "Jc3_OlyNkvjZ"
      },
      "source": [
        "Respuesta"
      ]
    },
    {
      "cell_type": "code",
      "execution_count": null,
      "metadata": {
        "id": "sJ-N2etjkyWc"
      },
      "outputs": [],
      "source": []
    },
    {
      "cell_type": "markdown",
      "metadata": {
        "id": "zy5ZROmjlGo1"
      },
      "source": [
        "Aplica el algoritmo al juego de datos generado"
      ]
    },
    {
      "cell_type": "markdown",
      "metadata": {
        "id": "_Cmj-PVylMsa"
      },
      "source": [
        "Respuesta"
      ]
    },
    {
      "cell_type": "code",
      "execution_count": null,
      "metadata": {
        "id": "Jkx8GeiYlUz1"
      },
      "outputs": [],
      "source": []
    },
    {
      "cell_type": "markdown",
      "metadata": {
        "id": "eTFWUJQrtGcv"
      },
      "source": [
        "Enumera las referencias que has utilizado(si ha sido necesario) para llevar a cabo el trabajo"
      ]
    },
    {
      "cell_type": "markdown",
      "metadata": {
        "id": "YKQ_mRBttWsP"
      },
      "source": [
        "Respuesta"
      ]
    },
    {
      "cell_type": "markdown",
      "metadata": {
        "id": "kAkDPUyRtYyH"
      },
      "source": [
        "Describe brevemente las lineas de como crees que es posible avanzar en el estudio del problema. Ten en cuenta incluso posibles variaciones del problema y/o variaciones al alza del tamaño"
      ]
    },
    {
      "cell_type": "markdown",
      "metadata": {
        "id": "IE0uZmo-tZu-"
      },
      "source": [
        "Respuesta"
      ]
    },
    {
      "cell_type": "markdown",
      "metadata": {
        "id": "97q6pqxo2u4j"
      },
      "source": [
        "Una de las posibles limitaciones del algoritmo genético planteado es la inicialización de los datos. En la propuesta, esta inicialización es aleatoria, resultando en unos datos iniciales poco deseables. Una opción para mejorar el programa sería utilizar como población inicial los resultados de otro algoritmo heurístico para conseguir aún mejores resultados.\n",
        "\n",
        "Otra limitación es la creación de los hijos. En nuestro caso los hijos se generan con un cruce uniforme de los dos padres. Creo que se podría diseñar un método que pudiera escoger los mejores genes de los padres (días con coste bajo) y únicamente variar los genes peores (días con coste alto). Asimismo creo que también se podría hacer una selección inteligente sobre qué dias requieren variar el reparto de tomas."
      ]
    }
  ],
  "metadata": {
    "colab": {
      "provenance": [],
      "include_colab_link": true
    },
    "kernelspec": {
      "display_name": "Python 3",
      "name": "python3"
    },
    "language_info": {
      "codemirror_mode": {
        "name": "ipython",
        "version": 3
      },
      "file_extension": ".py",
      "mimetype": "text/x-python",
      "name": "python",
      "nbconvert_exporter": "python",
      "pygments_lexer": "ipython3",
      "version": "3.11.1"
    }
  },
  "nbformat": 4,
  "nbformat_minor": 0
}