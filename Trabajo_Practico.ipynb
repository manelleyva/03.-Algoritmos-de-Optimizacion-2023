{
  "cells": [
    {
      "cell_type": "markdown",
      "metadata": {
        "id": "view-in-github",
        "colab_type": "text"
      },
      "source": [
        "<a href=\"https://colab.research.google.com/github/manelleyva/03.-Algoritmos-de-Optimizacion-2023/blob/main/Trabajo_Practico.ipynb\" target=\"_parent\"><img src=\"https://colab.research.google.com/assets/colab-badge.svg\" alt=\"Open In Colab\"/></a>"
      ]
    },
    {
      "cell_type": "code",
      "execution_count": null,
      "metadata": {
        "id": "DGBIEp450zQD"
      },
      "outputs": [],
      "source": [
        "# Libraries Import\n",
        "import itertools\n",
        "import pandas as pd\n",
        "import numpy as np\n",
        "import random"
      ]
    },
    {
      "cell_type": "markdown",
      "metadata": {
        "id": "hVbXYX-RfPWh"
      },
      "source": [
        "# Algoritmos de optimización - Seminario\n",
        "\n",
        "Nombre: Manel Leyva Martínez\n",
        "\n",
        "Github: https://github.com/manelleyva/03.-Algoritmos-de-Optimizacion-2023\n",
        "\n",
        "Problema:\n",
        "> 1. Sesiones de doblaje <br>\n",
        "\n",
        "Se precisa coordinar el doblaje de una película. Los actores del doblaje deben coincidir en las\n",
        "tomas en las que sus personajes aparecen juntos en las diferentes tomas. Los actores de\n",
        "doblaje cobran todos la misma cantidad por cada día que deben desplazarse hasta el estudio de\n",
        "grabación independientemente del número de tomas que se graben. No es posible grabar más\n",
        "de 6 tomas por día. El objetivo es planificar las sesiones por día de manera que el gasto por los\n",
        "servicios de los actores de doblaje sea el menor posible. Los datos son:\n",
        "\n",
        "Número de actores: 10\n",
        "Número de tomas: 30\n",
        "\n",
        "....\n",
        "\n",
        "(*) La respuesta es obligatoria                               "
      ]
    },
    {
      "cell_type": "markdown",
      "metadata": {
        "id": "3_-exlrTgLd-"
      },
      "source": [
        "### Question 1\n",
        "\n",
        "(*)¿Cuantas posibilidades hay sin tener en cuenta las restricciones?<br>"
      ]
    },
    {
      "cell_type": "markdown",
      "metadata": {
        "id": "gny124Ix0zQG"
      },
      "source": [
        "### Question 2\n",
        "¿Cuantas posibilidades hay teniendo en cuenta todas las restricciones."
      ]
    },
    {
      "cell_type": "markdown",
      "metadata": {
        "id": "WfCUqJyKhPcw"
      },
      "source": [
        "Respuesta"
      ]
    },
    {
      "cell_type": "markdown",
      "metadata": {
        "id": "cVQj7RlM0zQH"
      },
      "source": [
        "Teniendo en cuenta las resticciones el número de posibilidades es:\n",
        "\n",
        "$$Number\\ of \\ possibilities =\n",
        "\\frac{\\prod_{i=0}^{Days-1}\\binom{Takes-i·Takes/Days}{Takes/Days}}{Days!} =\n",
        "\\frac{\\prod_{i=0}^{4}\\binom{30-i·6}{6}}{5!}=1.142·10^{16}$$"
      ]
    },
    {
      "cell_type": "markdown",
      "metadata": {
        "id": "dzynfVJahHoY"
      },
      "source": [
        "Modelo para el espacio de soluciones<br>\n",
        "\n",
        "### Question 3\n",
        "\n",
        "(*) ¿Cual es la estructura de datos que mejor se adapta al problema? Argumentalo.(Es posible que hayas elegido una al principio y veas la necesidad de cambiar, arguentalo)\n"
      ]
    },
    {
      "cell_type": "markdown",
      "metadata": {
        "id": "xFIJrOwKi2Ti"
      },
      "source": [
        "Respuesta"
      ]
    },
    {
      "cell_type": "markdown",
      "metadata": {
        "id": "2BLiIk6K0zQH"
      },
      "source": [
        "Una buena estructura de datos para adaptar el problema sería utilizar un sistema de grafos:"
      ]
    },
    {
      "cell_type": "code",
      "execution_count": null,
      "metadata": {
        "id": "38c-7-ejhJmA"
      },
      "outputs": [],
      "source": []
    },
    {
      "cell_type": "markdown",
      "metadata": {
        "id": "7Z9U2W7bi-XS"
      },
      "source": [
        "Según el modelo para el espacio de soluciones<br>\n",
        "\n",
        "### Question 4\n",
        "\n",
        "(*)¿Cual es la función objetivo?"
      ]
    },
    {
      "cell_type": "markdown",
      "metadata": {
        "id": "AsOSWYpm0zQI"
      },
      "source": [
        "Respuesta:"
      ]
    },
    {
      "cell_type": "markdown",
      "metadata": {
        "id": "VpZ4Kq450zQI"
      },
      "source": [
        "La función objetivo es minimizar el costo total de los servicios de los actores de doblaje, cumpliendo la restricción de no grabar más de 6 tomas al día. Queremos encontrar una asignación de las tomas a los actores de doblaje que minimice el costo diario.\n",
        "\n",
        "La función objetivo se puede expresar de la siguiente manera:\n",
        "\n",
        "$$Total\\ Cost = \\sum_{i=1}^{Number\\ days} Cd_i = \\sum_{i=1}^{5} Cd_i$$\n",
        "\n",
        "$Number\\ days = Total\\ takes / Maximum\\ takes\\ per\\ day = 30/6 = 5$\n",
        "\n",
        "$Cd_i$ : Coste diario. Función que devuelve el coste de un día dependiendo de las tomas escogidas para ese día y los actores necesarios para realizarlas."
      ]
    },
    {
      "cell_type": "markdown",
      "metadata": {
        "id": "hOQj8qIy0zQI"
      },
      "source": [
        "### Question 5\n",
        "\n",
        "(*)¿Es un problema de maximización o minimización?"
      ]
    },
    {
      "cell_type": "markdown",
      "metadata": {
        "id": "hBalWLM7j1_d"
      },
      "source": [
        "Respuesta"
      ]
    },
    {
      "cell_type": "markdown",
      "metadata": {
        "id": "YXof6EvV0zQI"
      },
      "source": [
        "Es un problema de minimización, ya que el objetivo es conseguir el coste más pequeño por grabar todas las tomas."
      ]
    },
    {
      "cell_type": "markdown",
      "metadata": {
        "id": "rlnTYgY1j6I2"
      },
      "source": [
        "### Question 6\n",
        "\n",
        "Diseña un algoritmo para resolver el problema por fuerza bruta"
      ]
    },
    {
      "cell_type": "markdown",
      "metadata": {
        "id": "70rDgxYXkC8r"
      },
      "source": [
        "Respuesta"
      ]
    },
    {
      "cell_type": "markdown",
      "metadata": {
        "id": "0zNZOffI0zQI"
      },
      "source": [
        "Para poder diseñar un algoritmo que resuelva el problema por fuerza bruta, tenemos que obtener todas las opciones posibles.\n",
        "\n",
        "Con la función get_take_combinations() podemos generar un dataframe con todas las posibles combinaciones dependiendo del número de tomas totales y el máximo de tomas por día."
      ]
    },
    {
      "cell_type": "code",
      "execution_count": null,
      "metadata": {
        "id": "CJb5sQ0qkENy"
      },
      "outputs": [],
      "source": [
        "# Get all the takes possibilities\n",
        "def get_take_combinations():\n",
        "    # Initialize results dataframe\n",
        "    df_columns = [f'Day {day}' for day in range(1, TOTAL_DAYS+1)] + ['Cost']\n",
        "    df = pd.DataFrame(columns=df_columns)\n",
        "\n",
        "\n",
        "    permutations_iter = itertools.permutations(range(1,TOTAL_TAKES+1), TOTAL_TAKES) # Get all permutations\n",
        "    for permutation in permutations_iter:\n",
        "        combination = [list(sorted(permutation[i:i + TAKES_PER_DAY])) for i in range(0, len(permutation), TAKES_PER_DAY)]\n",
        "\n",
        "        # if combination not in combinations_list:\n",
        "        #     combinations_list.append(combination)\n",
        "\n",
        "        # Subdivide the takes into different days\n",
        "        data_df = {}\n",
        "        for idx, i in enumerate(range(0, len(permutation), TAKES_PER_DAY)):\n",
        "            day = idx+1\n",
        "            data_df[f'Day {day}'] = sorted(permutation[i:i + TAKES_PER_DAY])\n",
        "\n",
        "        # Add new value to dataframe\n",
        "        df = pd.concat([df, pd.DataFrame([data_df])], ignore_index=True)\n",
        "\n",
        "    # Remove duplicate rows\n",
        "    df = df.iloc[df.astype(str).drop_duplicates().index]\n",
        "\n",
        "    return df"
      ]
    },
    {
      "cell_type": "code",
      "execution_count": null,
      "metadata": {
        "id": "9GkLV9Rj0zQJ",
        "outputId": "ed04f4d0-cd8a-4b57-a0d9-17a6639daa34"
      },
      "outputs": [
        {
          "data": {
            "text/html": [
              "<div>\n",
              "<style scoped>\n",
              "    .dataframe tbody tr th:only-of-type {\n",
              "        vertical-align: middle;\n",
              "    }\n",
              "\n",
              "    .dataframe tbody tr th {\n",
              "        vertical-align: top;\n",
              "    }\n",
              "\n",
              "    .dataframe thead th {\n",
              "        text-align: right;\n",
              "    }\n",
              "</style>\n",
              "<table border=\"1\" class=\"dataframe\">\n",
              "  <thead>\n",
              "    <tr style=\"text-align: right;\">\n",
              "      <th></th>\n",
              "      <th>Day 1</th>\n",
              "      <th>Day 2</th>\n",
              "      <th>Cost</th>\n",
              "    </tr>\n",
              "  </thead>\n",
              "  <tbody>\n",
              "    <tr>\n",
              "      <th>0</th>\n",
              "      <td>[1, 2]</td>\n",
              "      <td>[3, 4]</td>\n",
              "      <td>NaN</td>\n",
              "    </tr>\n",
              "    <tr>\n",
              "      <th>2</th>\n",
              "      <td>[1, 3]</td>\n",
              "      <td>[2, 4]</td>\n",
              "      <td>NaN</td>\n",
              "    </tr>\n",
              "    <tr>\n",
              "      <th>4</th>\n",
              "      <td>[1, 4]</td>\n",
              "      <td>[2, 3]</td>\n",
              "      <td>NaN</td>\n",
              "    </tr>\n",
              "    <tr>\n",
              "      <th>8</th>\n",
              "      <td>[2, 3]</td>\n",
              "      <td>[1, 4]</td>\n",
              "      <td>NaN</td>\n",
              "    </tr>\n",
              "    <tr>\n",
              "      <th>10</th>\n",
              "      <td>[2, 4]</td>\n",
              "      <td>[1, 3]</td>\n",
              "      <td>NaN</td>\n",
              "    </tr>\n",
              "    <tr>\n",
              "      <th>16</th>\n",
              "      <td>[3, 4]</td>\n",
              "      <td>[1, 2]</td>\n",
              "      <td>NaN</td>\n",
              "    </tr>\n",
              "  </tbody>\n",
              "</table>\n",
              "</div>"
            ],
            "text/plain": [
              "     Day 1   Day 2 Cost\n",
              "0   [1, 2]  [3, 4]  NaN\n",
              "2   [1, 3]  [2, 4]  NaN\n",
              "4   [1, 4]  [2, 3]  NaN\n",
              "8   [2, 3]  [1, 4]  NaN\n",
              "10  [2, 4]  [1, 3]  NaN\n",
              "16  [3, 4]  [1, 2]  NaN"
            ]
          },
          "metadata": {},
          "output_type": "display_data"
        },
        {
          "name": "stdout",
          "output_type": "stream",
          "text": [
            "Number of options: 6\n"
          ]
        }
      ],
      "source": [
        "# Test Function\n",
        "\n",
        "# Variable declaration\n",
        "TOTAL_TAKES = 4\n",
        "TAKES_PER_DAY = 2\n",
        "TOTAL_DAYS = int(TOTAL_TAKES/TAKES_PER_DAY)\n",
        "\n",
        "# Display Results\n",
        "df_brute_force = get_take_combinations()\n",
        "display(df_brute_force)\n",
        "print(f'Number of options: {len(df_brute_force)}')"
      ]
    },
    {
      "cell_type": "markdown",
      "metadata": {
        "id": "KXXZl2GQ0zQJ"
      },
      "source": [
        "Una vez calculadas todas las combinaciones simplemente tenemos que calcular el coste de cada opción.\n",
        "\n",
        "Necesitamos entonces cargar el dataframe con los actores necesarios para cada toma."
      ]
    },
    {
      "cell_type": "code",
      "execution_count": null,
      "metadata": {
        "id": "66cmT3o-0zQJ"
      },
      "outputs": [],
      "source": [
        "# Load .csv file\n",
        "df_actors = pd.read_csv('data_simplified.csv', sep=';', index_col=0)"
      ]
    },
    {
      "cell_type": "markdown",
      "metadata": {
        "id": "7LzTnule0zQJ"
      },
      "source": [
        "Una vez cargado el dataframe, podemos calcular el coste total de una opción creando 2 funciones: Una que calcule el coste de un día y otra que calcule el coste total (la suma de todos los días). El resultado sería el valor con mínimo coste del dataframe."
      ]
    },
    {
      "cell_type": "code",
      "execution_count": null,
      "metadata": {
        "id": "6NSH7i280zQJ"
      },
      "outputs": [],
      "source": [
        "# Calculate cost day\n",
        "def calculate_cost_day(takes_list):\n",
        "    df_filtered = df_actors[df_actors.index.isin(takes_list)]\n",
        "\n",
        "    # Calculate cost (if col has 1, add 1 to cost)\n",
        "    cost = (df_filtered == 1).any().sum()\n",
        "\n",
        "    return cost\n",
        "\n",
        "# Calculates the total cost of all sessions\n",
        "def calculate_cost_total(row):\n",
        "    total_cost = 0\n",
        "    for day in range(1, len(row)):\n",
        "        total_cost += calculate_cost_day(row[f'Day {day}'])\n",
        "    return total_cost\n",
        "\n",
        "# Updates the cost column in the population dataframe\n",
        "def update_cost_dataframe(df):\n",
        "    df['Cost'] = df.apply(calculate_cost_total, axis=1)\n",
        "    return df\n",
        "\n",
        "# Returns the best option in the dataframe\n",
        "def get_best_take_option(df):\n",
        "    return pd.DataFrame([ df.iloc[df['Cost'].idxmin()] ])"
      ]
    },
    {
      "cell_type": "code",
      "execution_count": null,
      "metadata": {
        "id": "ZvS7Ugpb0zQK",
        "outputId": "807c3b85-21cc-49cf-a1dd-4206ffb561fb"
      },
      "outputs": [
        {
          "data": {
            "text/html": [
              "<div>\n",
              "<style scoped>\n",
              "    .dataframe tbody tr th:only-of-type {\n",
              "        vertical-align: middle;\n",
              "    }\n",
              "\n",
              "    .dataframe tbody tr th {\n",
              "        vertical-align: top;\n",
              "    }\n",
              "\n",
              "    .dataframe thead th {\n",
              "        text-align: right;\n",
              "    }\n",
              "</style>\n",
              "<table border=\"1\" class=\"dataframe\">\n",
              "  <thead>\n",
              "    <tr style=\"text-align: right;\">\n",
              "      <th></th>\n",
              "      <th>Day 1</th>\n",
              "      <th>Day 2</th>\n",
              "      <th>Cost</th>\n",
              "    </tr>\n",
              "  </thead>\n",
              "  <tbody>\n",
              "    <tr>\n",
              "      <th>0</th>\n",
              "      <td>[1, 2]</td>\n",
              "      <td>[3, 4]</td>\n",
              "      <td>10</td>\n",
              "    </tr>\n",
              "    <tr>\n",
              "      <th>2</th>\n",
              "      <td>[1, 3]</td>\n",
              "      <td>[2, 4]</td>\n",
              "      <td>13</td>\n",
              "    </tr>\n",
              "    <tr>\n",
              "      <th>4</th>\n",
              "      <td>[1, 4]</td>\n",
              "      <td>[2, 3]</td>\n",
              "      <td>12</td>\n",
              "    </tr>\n",
              "    <tr>\n",
              "      <th>8</th>\n",
              "      <td>[2, 3]</td>\n",
              "      <td>[1, 4]</td>\n",
              "      <td>12</td>\n",
              "    </tr>\n",
              "    <tr>\n",
              "      <th>10</th>\n",
              "      <td>[2, 4]</td>\n",
              "      <td>[1, 3]</td>\n",
              "      <td>13</td>\n",
              "    </tr>\n",
              "    <tr>\n",
              "      <th>16</th>\n",
              "      <td>[3, 4]</td>\n",
              "      <td>[1, 2]</td>\n",
              "      <td>10</td>\n",
              "    </tr>\n",
              "  </tbody>\n",
              "</table>\n",
              "</div>"
            ],
            "text/plain": [
              "     Day 1   Day 2  Cost\n",
              "0   [1, 2]  [3, 4]    10\n",
              "2   [1, 3]  [2, 4]    13\n",
              "4   [1, 4]  [2, 3]    12\n",
              "8   [2, 3]  [1, 4]    12\n",
              "10  [2, 4]  [1, 3]    13\n",
              "16  [3, 4]  [1, 2]    10"
            ]
          },
          "metadata": {},
          "output_type": "display_data"
        },
        {
          "name": "stdout",
          "output_type": "stream",
          "text": [
            "\n",
            "The best result is the following:\n"
          ]
        },
        {
          "data": {
            "text/html": [
              "<div>\n",
              "<style scoped>\n",
              "    .dataframe tbody tr th:only-of-type {\n",
              "        vertical-align: middle;\n",
              "    }\n",
              "\n",
              "    .dataframe tbody tr th {\n",
              "        vertical-align: top;\n",
              "    }\n",
              "\n",
              "    .dataframe thead th {\n",
              "        text-align: right;\n",
              "    }\n",
              "</style>\n",
              "<table border=\"1\" class=\"dataframe\">\n",
              "  <thead>\n",
              "    <tr style=\"text-align: right;\">\n",
              "      <th></th>\n",
              "      <th>Day 1</th>\n",
              "      <th>Day 2</th>\n",
              "      <th>Cost</th>\n",
              "    </tr>\n",
              "  </thead>\n",
              "  <tbody>\n",
              "    <tr>\n",
              "      <th>0</th>\n",
              "      <td>[1, 2]</td>\n",
              "      <td>[3, 4]</td>\n",
              "      <td>10</td>\n",
              "    </tr>\n",
              "  </tbody>\n",
              "</table>\n",
              "</div>"
            ],
            "text/plain": [
              "    Day 1   Day 2  Cost\n",
              "0  [1, 2]  [3, 4]    10"
            ]
          },
          "metadata": {},
          "output_type": "display_data"
        }
      ],
      "source": [
        "# Test Function\n",
        "\n",
        "# Calculate cost for each element in population\n",
        "df_brute_force = update_cost_dataframe(df_brute_force)\n",
        "\n",
        "# Display results\n",
        "display(df_brute_force)\n",
        "\n",
        "# Get best result\n",
        "print('\\nThe best result is the following:')\n",
        "display(get_best_take_option(df_brute_force))"
      ]
    },
    {
      "cell_type": "markdown",
      "metadata": {
        "id": "Kh56_2qF0zQK"
      },
      "source": [
        "Los ejemplos anteriores se han realizado un total de tomas y máximo de tomas por días inferior al valor del problema. Esto es debido a que el problema real es computacionalmente muy exigente y comprobar el resultado requeriría decenas de horas."
      ]
    },
    {
      "cell_type": "code",
      "execution_count": null,
      "metadata": {
        "id": "eky5KG--0zQK"
      },
      "outputs": [],
      "source": [
        "# Variable declaration\n",
        "TOTAL_TAKES = 30\n",
        "TAKES_PER_DAY = 6\n",
        "TOTAL_DAYS = int(TOTAL_TAKES/TAKES_PER_DAY)\n",
        "\n",
        "# Get all combinations\n",
        "df_brute_force = get_take_combinations()\n",
        "\n",
        "# Calculate cost for each element in population\n",
        "df_brute_force = update_cost_dataframe(df_brute_force)\n",
        "\n",
        "# Get best result\n",
        "print('The best result is the following:')\n",
        "display(get_best_take_option(df_brute_force))"
      ]
    },
    {
      "cell_type": "markdown",
      "metadata": {
        "id": "wCauDrhh0zQK"
      },
      "source": [
        "El código anterior nos permitiría conseguir una solución exacta al problema, pero no ha sido posible ejecutarlo completamente debido a su largo tiempo de ejecución."
      ]
    },
    {
      "cell_type": "markdown",
      "metadata": {
        "id": "tgrnsC2nkFa8"
      },
      "source": [
        "### Question 7\n",
        "\n",
        "Calcula la complejidad del algoritmo por fuerza bruta"
      ]
    },
    {
      "cell_type": "markdown",
      "metadata": {
        "id": "9eUd3xwckP68"
      },
      "source": [
        "Respuesta"
      ]
    },
    {
      "cell_type": "code",
      "execution_count": null,
      "metadata": {
        "id": "rvZWwL-ckRST"
      },
      "outputs": [],
      "source": []
    },
    {
      "cell_type": "markdown",
      "metadata": {
        "id": "txbrmLmskReM"
      },
      "source": [
        "### Question 8\n",
        "\n",
        "(*)Diseña un algoritmo que mejore la complejidad del algortimo por fuerza bruta. Argumenta porque crees que mejora el algoritmo por fuerza bruta"
      ]
    },
    {
      "cell_type": "markdown",
      "metadata": {
        "id": "hLrVwt5QkZPD"
      },
      "source": [
        "Respuesta"
      ]
    },
    {
      "cell_type": "markdown",
      "metadata": {
        "id": "RcnYIJCX0zQK"
      },
      "source": [
        "Para mejorar la eficiencia del algoritmo por fuerza bruta he propuesto la creación de un algoritmo genético. Pese a no obtener el mejor resultado, los algoritmos genéticos han demostrado ser capaces de encontrar soluciones aceptables en un tiempo mucho más reducido."
      ]
    },
    {
      "cell_type": "markdown",
      "metadata": {
        "id": "_TIMoktT0zQL"
      },
      "source": [
        "Para poder implementar el algoritmo genético necesitamos implementar algunas funciones nuevas. Necesitamos una función de inicialización que cree una población inicial de manera completamente aleatoria."
      ]
    },
    {
      "cell_type": "code",
      "execution_count": null,
      "metadata": {
        "id": "m1eyM21Vkabg"
      },
      "outputs": [],
      "source": [
        "# Initialize random population\n",
        "def initialize_random_population(population_size):\n",
        "    days = int(TOTAL_TAKES/TAKES_PER_DAY)\n",
        "\n",
        "    # Initialize results dataframe\n",
        "    df_columns = [f'Day {day}' for day in range(1, days+1)] + ['Cost']\n",
        "    df = pd.DataFrame(columns=df_columns)\n",
        "\n",
        "    for _ in range(population_size):\n",
        "        takes = list(range(1, TOTAL_TAKES+1))\n",
        "        random.shuffle(takes) # Randomize the order of the takes\n",
        "\n",
        "        # Subdivide the takes into different days\n",
        "        data_df = {}\n",
        "        for idx, i in enumerate(range(0, len(takes), TAKES_PER_DAY)):\n",
        "            day = idx+1\n",
        "            data_df[f'Day {day}'] = sorted(takes[i:i + TAKES_PER_DAY])\n",
        "\n",
        "        # Add new value to dataframe\n",
        "        df = pd.concat([df, pd.DataFrame([data_df])], ignore_index=True)\n",
        "\n",
        "    # Calculate cost for each element in population\n",
        "    df = update_cost_dataframe(df)\n",
        "\n",
        "    return df"
      ]
    },
    {
      "cell_type": "code",
      "execution_count": null,
      "metadata": {
        "id": "6wl5zv_P0zQL",
        "outputId": "a4b72dd3-2715-49e5-8127-a3c4a3dfc78e"
      },
      "outputs": [
        {
          "data": {
            "text/html": [
              "<div>\n",
              "<style scoped>\n",
              "    .dataframe tbody tr th:only-of-type {\n",
              "        vertical-align: middle;\n",
              "    }\n",
              "\n",
              "    .dataframe tbody tr th {\n",
              "        vertical-align: top;\n",
              "    }\n",
              "\n",
              "    .dataframe thead th {\n",
              "        text-align: right;\n",
              "    }\n",
              "</style>\n",
              "<table border=\"1\" class=\"dataframe\">\n",
              "  <thead>\n",
              "    <tr style=\"text-align: right;\">\n",
              "      <th></th>\n",
              "      <th>Day 1</th>\n",
              "      <th>Day 2</th>\n",
              "      <th>Day 3</th>\n",
              "      <th>Day 4</th>\n",
              "      <th>Day 5</th>\n",
              "      <th>Cost</th>\n",
              "    </tr>\n",
              "  </thead>\n",
              "  <tbody>\n",
              "    <tr>\n",
              "      <th>0</th>\n",
              "      <td>[2, 5, 15, 17, 20, 24]</td>\n",
              "      <td>[4, 7, 19, 21, 25, 29]</td>\n",
              "      <td>[3, 9, 13, 16, 18, 26]</td>\n",
              "      <td>[8, 11, 22, 27, 28, 30]</td>\n",
              "      <td>[1, 6, 10, 12, 14, 23]</td>\n",
              "      <td>40</td>\n",
              "    </tr>\n",
              "    <tr>\n",
              "      <th>1</th>\n",
              "      <td>[5, 17, 19, 20, 25, 27]</td>\n",
              "      <td>[4, 14, 15, 18, 22, 26]</td>\n",
              "      <td>[1, 10, 12, 16, 21, 24]</td>\n",
              "      <td>[2, 7, 9, 13, 23, 30]</td>\n",
              "      <td>[3, 6, 8, 11, 28, 29]</td>\n",
              "      <td>38</td>\n",
              "    </tr>\n",
              "    <tr>\n",
              "      <th>2</th>\n",
              "      <td>[6, 9, 11, 17, 18, 28]</td>\n",
              "      <td>[1, 3, 13, 15, 21, 22]</td>\n",
              "      <td>[2, 8, 10, 16, 20, 30]</td>\n",
              "      <td>[4, 5, 7, 23, 26, 29]</td>\n",
              "      <td>[12, 14, 19, 24, 25, 27]</td>\n",
              "      <td>39</td>\n",
              "    </tr>\n",
              "    <tr>\n",
              "      <th>3</th>\n",
              "      <td>[3, 18, 24, 25, 29, 30]</td>\n",
              "      <td>[8, 13, 16, 17, 26, 27]</td>\n",
              "      <td>[1, 2, 7, 10, 20, 22]</td>\n",
              "      <td>[4, 6, 12, 15, 21, 23]</td>\n",
              "      <td>[5, 9, 11, 14, 19, 28]</td>\n",
              "      <td>38</td>\n",
              "    </tr>\n",
              "    <tr>\n",
              "      <th>4</th>\n",
              "      <td>[4, 14, 17, 21, 23, 28]</td>\n",
              "      <td>[2, 3, 7, 13, 15, 27]</td>\n",
              "      <td>[6, 11, 12, 19, 20, 24]</td>\n",
              "      <td>[1, 8, 9, 18, 22, 26]</td>\n",
              "      <td>[5, 10, 16, 25, 29, 30]</td>\n",
              "      <td>35</td>\n",
              "    </tr>\n",
              "    <tr>\n",
              "      <th>5</th>\n",
              "      <td>[4, 15, 19, 24, 26, 30]</td>\n",
              "      <td>[6, 8, 14, 16, 27, 28]</td>\n",
              "      <td>[12, 17, 18, 20, 23, 25]</td>\n",
              "      <td>[2, 9, 10, 21, 22, 29]</td>\n",
              "      <td>[1, 3, 5, 7, 11, 13]</td>\n",
              "      <td>38</td>\n",
              "    </tr>\n",
              "    <tr>\n",
              "      <th>6</th>\n",
              "      <td>[7, 13, 17, 26, 29, 30]</td>\n",
              "      <td>[5, 8, 14, 16, 19, 28]</td>\n",
              "      <td>[2, 6, 12, 18, 21, 25]</td>\n",
              "      <td>[3, 9, 10, 20, 23, 27]</td>\n",
              "      <td>[1, 4, 11, 15, 22, 24]</td>\n",
              "      <td>38</td>\n",
              "    </tr>\n",
              "    <tr>\n",
              "      <th>7</th>\n",
              "      <td>[7, 17, 19, 22, 23, 29]</td>\n",
              "      <td>[1, 3, 8, 9, 15, 26]</td>\n",
              "      <td>[2, 5, 13, 16, 20, 24]</td>\n",
              "      <td>[4, 6, 12, 14, 18, 21]</td>\n",
              "      <td>[10, 11, 25, 27, 28, 30]</td>\n",
              "      <td>39</td>\n",
              "    </tr>\n",
              "    <tr>\n",
              "      <th>8</th>\n",
              "      <td>[10, 13, 22, 27, 28, 30]</td>\n",
              "      <td>[6, 8, 18, 19, 20, 29]</td>\n",
              "      <td>[2, 5, 12, 15, 21, 24]</td>\n",
              "      <td>[3, 9, 14, 17, 23, 26]</td>\n",
              "      <td>[1, 4, 7, 11, 16, 25]</td>\n",
              "      <td>37</td>\n",
              "    </tr>\n",
              "    <tr>\n",
              "      <th>9</th>\n",
              "      <td>[2, 14, 15, 18, 21, 29]</td>\n",
              "      <td>[6, 12, 17, 24, 25, 28]</td>\n",
              "      <td>[1, 5, 7, 8, 20, 26]</td>\n",
              "      <td>[4, 10, 13, 19, 23, 30]</td>\n",
              "      <td>[3, 9, 11, 16, 22, 27]</td>\n",
              "      <td>40</td>\n",
              "    </tr>\n",
              "  </tbody>\n",
              "</table>\n",
              "</div>"
            ],
            "text/plain": [
              "                      Day 1                    Day 2  \\\n",
              "0    [2, 5, 15, 17, 20, 24]   [4, 7, 19, 21, 25, 29]   \n",
              "1   [5, 17, 19, 20, 25, 27]  [4, 14, 15, 18, 22, 26]   \n",
              "2    [6, 9, 11, 17, 18, 28]   [1, 3, 13, 15, 21, 22]   \n",
              "3   [3, 18, 24, 25, 29, 30]  [8, 13, 16, 17, 26, 27]   \n",
              "4   [4, 14, 17, 21, 23, 28]    [2, 3, 7, 13, 15, 27]   \n",
              "5   [4, 15, 19, 24, 26, 30]   [6, 8, 14, 16, 27, 28]   \n",
              "6   [7, 13, 17, 26, 29, 30]   [5, 8, 14, 16, 19, 28]   \n",
              "7   [7, 17, 19, 22, 23, 29]     [1, 3, 8, 9, 15, 26]   \n",
              "8  [10, 13, 22, 27, 28, 30]   [6, 8, 18, 19, 20, 29]   \n",
              "9   [2, 14, 15, 18, 21, 29]  [6, 12, 17, 24, 25, 28]   \n",
              "\n",
              "                      Day 3                    Day 4  \\\n",
              "0    [3, 9, 13, 16, 18, 26]  [8, 11, 22, 27, 28, 30]   \n",
              "1   [1, 10, 12, 16, 21, 24]    [2, 7, 9, 13, 23, 30]   \n",
              "2    [2, 8, 10, 16, 20, 30]    [4, 5, 7, 23, 26, 29]   \n",
              "3     [1, 2, 7, 10, 20, 22]   [4, 6, 12, 15, 21, 23]   \n",
              "4   [6, 11, 12, 19, 20, 24]    [1, 8, 9, 18, 22, 26]   \n",
              "5  [12, 17, 18, 20, 23, 25]   [2, 9, 10, 21, 22, 29]   \n",
              "6    [2, 6, 12, 18, 21, 25]   [3, 9, 10, 20, 23, 27]   \n",
              "7    [2, 5, 13, 16, 20, 24]   [4, 6, 12, 14, 18, 21]   \n",
              "8    [2, 5, 12, 15, 21, 24]   [3, 9, 14, 17, 23, 26]   \n",
              "9      [1, 5, 7, 8, 20, 26]  [4, 10, 13, 19, 23, 30]   \n",
              "\n",
              "                      Day 5  Cost  \n",
              "0    [1, 6, 10, 12, 14, 23]    40  \n",
              "1     [3, 6, 8, 11, 28, 29]    38  \n",
              "2  [12, 14, 19, 24, 25, 27]    39  \n",
              "3    [5, 9, 11, 14, 19, 28]    38  \n",
              "4   [5, 10, 16, 25, 29, 30]    35  \n",
              "5      [1, 3, 5, 7, 11, 13]    38  \n",
              "6    [1, 4, 11, 15, 22, 24]    38  \n",
              "7  [10, 11, 25, 27, 28, 30]    39  \n",
              "8     [1, 4, 7, 11, 16, 25]    37  \n",
              "9    [3, 9, 11, 16, 22, 27]    40  "
            ]
          },
          "metadata": {},
          "output_type": "display_data"
        }
      ],
      "source": [
        "# Test function\n",
        "\n",
        "# Variable declaration\n",
        "population_size = 10\n",
        "TOTAL_TAKES = 30\n",
        "TAKES_PER_DAY = 6\n",
        "TOTAL_DAYS = int(TOTAL_TAKES/TAKES_PER_DAY)\n",
        "\n",
        "# Display results\n",
        "df_population = initialize_random_population(population_size)\n",
        "display(df_population)"
      ]
    },
    {
      "cell_type": "markdown",
      "metadata": {
        "id": "yT_qp9Ue0zQL"
      },
      "source": [
        "Una vez creada la población, necesitamos un método de selección natural que escoja los mejores individuos y elimine los peores. En este caso los mejores individuos tendrán un coste más bajo y los peores más alto."
      ]
    },
    {
      "cell_type": "code",
      "execution_count": null,
      "metadata": {
        "id": "zvAOrV300zQN"
      },
      "outputs": [],
      "source": [
        "# Select best individuals from population (lowest cost)\n",
        "def natural_selection(df_population):\n",
        "    # Sort population by lowest cost\n",
        "    df_population = df_population.sort_values(by='Cost', ascending=True)\n",
        "\n",
        "    # Select the better half\n",
        "    half_point = int(len(df_population)/ 2)\n",
        "    df_population = df_population.iloc[:half_point]\n",
        "    return df_population"
      ]
    },
    {
      "cell_type": "code",
      "execution_count": null,
      "metadata": {
        "id": "pKHUblWp0zQN",
        "outputId": "6a3dc1c4-21ab-41bb-a55e-1b94c0c50fcf"
      },
      "outputs": [
        {
          "data": {
            "text/html": [
              "<div>\n",
              "<style scoped>\n",
              "    .dataframe tbody tr th:only-of-type {\n",
              "        vertical-align: middle;\n",
              "    }\n",
              "\n",
              "    .dataframe tbody tr th {\n",
              "        vertical-align: top;\n",
              "    }\n",
              "\n",
              "    .dataframe thead th {\n",
              "        text-align: right;\n",
              "    }\n",
              "</style>\n",
              "<table border=\"1\" class=\"dataframe\">\n",
              "  <thead>\n",
              "    <tr style=\"text-align: right;\">\n",
              "      <th></th>\n",
              "      <th>Day 1</th>\n",
              "      <th>Day 2</th>\n",
              "      <th>Day 3</th>\n",
              "      <th>Day 4</th>\n",
              "      <th>Day 5</th>\n",
              "      <th>Cost</th>\n",
              "    </tr>\n",
              "  </thead>\n",
              "  <tbody>\n",
              "    <tr>\n",
              "      <th>4</th>\n",
              "      <td>[4, 14, 17, 21, 23, 28]</td>\n",
              "      <td>[2, 3, 7, 13, 15, 27]</td>\n",
              "      <td>[6, 11, 12, 19, 20, 24]</td>\n",
              "      <td>[1, 8, 9, 18, 22, 26]</td>\n",
              "      <td>[5, 10, 16, 25, 29, 30]</td>\n",
              "      <td>35</td>\n",
              "    </tr>\n",
              "    <tr>\n",
              "      <th>8</th>\n",
              "      <td>[10, 13, 22, 27, 28, 30]</td>\n",
              "      <td>[6, 8, 18, 19, 20, 29]</td>\n",
              "      <td>[2, 5, 12, 15, 21, 24]</td>\n",
              "      <td>[3, 9, 14, 17, 23, 26]</td>\n",
              "      <td>[1, 4, 7, 11, 16, 25]</td>\n",
              "      <td>37</td>\n",
              "    </tr>\n",
              "    <tr>\n",
              "      <th>1</th>\n",
              "      <td>[5, 17, 19, 20, 25, 27]</td>\n",
              "      <td>[4, 14, 15, 18, 22, 26]</td>\n",
              "      <td>[1, 10, 12, 16, 21, 24]</td>\n",
              "      <td>[2, 7, 9, 13, 23, 30]</td>\n",
              "      <td>[3, 6, 8, 11, 28, 29]</td>\n",
              "      <td>38</td>\n",
              "    </tr>\n",
              "    <tr>\n",
              "      <th>3</th>\n",
              "      <td>[3, 18, 24, 25, 29, 30]</td>\n",
              "      <td>[8, 13, 16, 17, 26, 27]</td>\n",
              "      <td>[1, 2, 7, 10, 20, 22]</td>\n",
              "      <td>[4, 6, 12, 15, 21, 23]</td>\n",
              "      <td>[5, 9, 11, 14, 19, 28]</td>\n",
              "      <td>38</td>\n",
              "    </tr>\n",
              "    <tr>\n",
              "      <th>5</th>\n",
              "      <td>[4, 15, 19, 24, 26, 30]</td>\n",
              "      <td>[6, 8, 14, 16, 27, 28]</td>\n",
              "      <td>[12, 17, 18, 20, 23, 25]</td>\n",
              "      <td>[2, 9, 10, 21, 22, 29]</td>\n",
              "      <td>[1, 3, 5, 7, 11, 13]</td>\n",
              "      <td>38</td>\n",
              "    </tr>\n",
              "  </tbody>\n",
              "</table>\n",
              "</div>"
            ],
            "text/plain": [
              "                      Day 1                    Day 2  \\\n",
              "4   [4, 14, 17, 21, 23, 28]    [2, 3, 7, 13, 15, 27]   \n",
              "8  [10, 13, 22, 27, 28, 30]   [6, 8, 18, 19, 20, 29]   \n",
              "1   [5, 17, 19, 20, 25, 27]  [4, 14, 15, 18, 22, 26]   \n",
              "3   [3, 18, 24, 25, 29, 30]  [8, 13, 16, 17, 26, 27]   \n",
              "5   [4, 15, 19, 24, 26, 30]   [6, 8, 14, 16, 27, 28]   \n",
              "\n",
              "                      Day 3                   Day 4                    Day 5  \\\n",
              "4   [6, 11, 12, 19, 20, 24]   [1, 8, 9, 18, 22, 26]  [5, 10, 16, 25, 29, 30]   \n",
              "8    [2, 5, 12, 15, 21, 24]  [3, 9, 14, 17, 23, 26]    [1, 4, 7, 11, 16, 25]   \n",
              "1   [1, 10, 12, 16, 21, 24]   [2, 7, 9, 13, 23, 30]    [3, 6, 8, 11, 28, 29]   \n",
              "3     [1, 2, 7, 10, 20, 22]  [4, 6, 12, 15, 21, 23]   [5, 9, 11, 14, 19, 28]   \n",
              "5  [12, 17, 18, 20, 23, 25]  [2, 9, 10, 21, 22, 29]     [1, 3, 5, 7, 11, 13]   \n",
              "\n",
              "   Cost  \n",
              "4    35  \n",
              "8    37  \n",
              "1    38  \n",
              "3    38  \n",
              "5    38  "
            ]
          },
          "metadata": {},
          "output_type": "display_data"
        }
      ],
      "source": [
        "# Test function\n",
        "df_population = natural_selection(df_population)\n",
        "display(df_population)"
      ]
    },
    {
      "cell_type": "markdown",
      "metadata": {
        "id": "nLXHrbrk0zQO"
      },
      "source": [
        "Para poder crear una nueva generación, necesitamos un método que cree un nuevo \"hijo\" a partir de 2 de las mejores opciones. En este caso escogeremos tomas aleatoriamente de los dos padres (uniform crossover). Para evitar la repetición de tomas, en caso de que no se puede añadir una toma a un día concreto porque ya se ha utilizado en otro día, se añadirá una toma aleatoria de las restantes."
      ]
    },
    {
      "cell_type": "code",
      "execution_count": null,
      "metadata": {
        "id": "KibpZNJt0zQO"
      },
      "outputs": [],
      "source": [
        "# Create child\n",
        "def create_child(parent1, parent2):\n",
        "    # Execute exception if both parents are different sizes\n",
        "    if len(parent1) != len(parent2):\n",
        "        raise Exception('Both parents must be the same size.')\n",
        "\n",
        "    # Get random values from both parents\n",
        "    child_data = {}\n",
        "    unassigned_takes = list(range(1,31)) # List of all the takes missing to assign\n",
        "    for day in range(1, len(parent1)):\n",
        "        takes_day_parent1 = parent1.iloc[day-1]\n",
        "        takes_day_parent2 = parent2.iloc[day-1]\n",
        "        takes_day_child = []\n",
        "        for take_number in range(len(takes_day_parent1)):\n",
        "            take_parent1 = takes_day_parent1[take_number]\n",
        "            take_parent2 = takes_day_parent2[take_number]\n",
        "\n",
        "            # Create random choice between parent 1 and 2\n",
        "            if random.randint(0, 1) == 0:   # Parent 1\n",
        "                if take_parent1 not in unassigned_takes: # If already assigned, choose other parent\n",
        "                    take = take_parent2\n",
        "                else:\n",
        "                    take = take_parent1\n",
        "            else:                           # Parent 2\n",
        "                if take_parent2 not in unassigned_takes: # If already assigned, choose other parent\n",
        "                    take = take_parent1\n",
        "                else:\n",
        "                    take = take_parent2\n",
        "\n",
        "            # Make sure that take is not repeated. If it is select random number (\"mutation\")\n",
        "            if take not in unassigned_takes:\n",
        "                take = random.choices(unassigned_takes)[0]\n",
        "\n",
        "            takes_day_child.append(take) # Add take to the day list\n",
        "            unassigned_takes.remove(take) # Remove take from total list\n",
        "\n",
        "\n",
        "        takes_day_child.sort() # Sort values\n",
        "        child_data[f'Day {day}'] = [takes_day_child]\n",
        "\n",
        "    # Initialize cost to 0\n",
        "    child_data['Cost'] = 0\n",
        "\n",
        "    # Create a dataframe with child data\n",
        "    df_child = pd.DataFrame(child_data)\n",
        "\n",
        "    # Calculate cost for child\n",
        "    df_child = update_cost_dataframe(df_child)\n",
        "\n",
        "    return df_child"
      ]
    },
    {
      "cell_type": "code",
      "execution_count": null,
      "metadata": {
        "id": "yfj64Mdp0zQO",
        "outputId": "3981108b-ef73-44fe-b83e-496fe09e1c37"
      },
      "outputs": [
        {
          "data": {
            "text/html": [
              "<div>\n",
              "<style scoped>\n",
              "    .dataframe tbody tr th:only-of-type {\n",
              "        vertical-align: middle;\n",
              "    }\n",
              "\n",
              "    .dataframe tbody tr th {\n",
              "        vertical-align: top;\n",
              "    }\n",
              "\n",
              "    .dataframe thead th {\n",
              "        text-align: right;\n",
              "    }\n",
              "</style>\n",
              "<table border=\"1\" class=\"dataframe\">\n",
              "  <thead>\n",
              "    <tr style=\"text-align: right;\">\n",
              "      <th></th>\n",
              "      <th>Day 1</th>\n",
              "      <th>Day 2</th>\n",
              "      <th>Day 3</th>\n",
              "      <th>Day 4</th>\n",
              "      <th>Day 5</th>\n",
              "      <th>Cost</th>\n",
              "    </tr>\n",
              "  </thead>\n",
              "  <tbody>\n",
              "    <tr>\n",
              "      <th>0</th>\n",
              "      <td>[10, 13, 21, 22, 28, 30]</td>\n",
              "      <td>[6, 7, 8, 15, 19, 29]</td>\n",
              "      <td>[2, 4, 11, 12, 20, 24]</td>\n",
              "      <td>[3, 9, 14, 18, 23, 26]</td>\n",
              "      <td>[1, 5, 16, 17, 25, 27]</td>\n",
              "      <td>38</td>\n",
              "    </tr>\n",
              "  </tbody>\n",
              "</table>\n",
              "</div>"
            ],
            "text/plain": [
              "                      Day 1                  Day 2                   Day 3  \\\n",
              "0  [10, 13, 21, 22, 28, 30]  [6, 7, 8, 15, 19, 29]  [2, 4, 11, 12, 20, 24]   \n",
              "\n",
              "                    Day 4                   Day 5  Cost  \n",
              "0  [3, 9, 14, 18, 23, 26]  [1, 5, 16, 17, 25, 27]    38  "
            ]
          },
          "metadata": {},
          "output_type": "display_data"
        }
      ],
      "source": [
        "# Test function\n",
        "parent1 = df_population.iloc[0]\n",
        "parent2 = df_population.iloc[1]\n",
        "df_child = create_child(parent1, parent2)\n",
        "display(df_child)"
      ]
    },
    {
      "cell_type": "markdown",
      "metadata": {
        "id": "5oZkd4f80zQO"
      },
      "source": [
        "Para mejorar la diversificación, necesitamos encontrar un método de mutación que modifique los hijos ligeramente. En este caso, intercambiando de día 2 tomas."
      ]
    },
    {
      "cell_type": "code",
      "execution_count": null,
      "metadata": {
        "id": "x_gYHqg80zQO"
      },
      "outputs": [],
      "source": [
        "# Moves around 2 take values\n",
        "def mutate_child(df_child):\n",
        "    # Choose 2 random days\n",
        "    day_list = list(range(1, TOTAL_DAYS+1))\n",
        "    day_element_A = random.choice(day_list)\n",
        "    day_list.remove(day_element_A)\n",
        "    day_element_B = random.choice(day_list)\n",
        "\n",
        "    # Select random value from list of takes and remove it from list\n",
        "    day_element_A_data = df_child.iloc[0][f'Day {day_element_A}']\n",
        "    day_element_B_data = df_child.iloc[0][f'Day {day_element_B}']\n",
        "\n",
        "    element_A = random.choice(day_element_A_data)\n",
        "    day_element_A_data.remove(element_A)\n",
        "\n",
        "    element_B = random.choice(day_element_B_data)\n",
        "    day_element_B_data.remove(element_B)\n",
        "\n",
        "    # Exchange element positions\n",
        "    day_element_A_data.append(element_B)\n",
        "    day_element_B_data.append(element_A)\n",
        "\n",
        "    # Calculate cost for child\n",
        "    df_child = update_cost_dataframe(df_child)\n",
        "\n",
        "    return df_child"
      ]
    },
    {
      "cell_type": "code",
      "execution_count": null,
      "metadata": {
        "id": "i4vAPxsw0zQO",
        "outputId": "03029f02-1b95-4a9a-9b74-49e6fe7b90dd"
      },
      "outputs": [
        {
          "data": {
            "text/html": [
              "<div>\n",
              "<style scoped>\n",
              "    .dataframe tbody tr th:only-of-type {\n",
              "        vertical-align: middle;\n",
              "    }\n",
              "\n",
              "    .dataframe tbody tr th {\n",
              "        vertical-align: top;\n",
              "    }\n",
              "\n",
              "    .dataframe thead th {\n",
              "        text-align: right;\n",
              "    }\n",
              "</style>\n",
              "<table border=\"1\" class=\"dataframe\">\n",
              "  <thead>\n",
              "    <tr style=\"text-align: right;\">\n",
              "      <th></th>\n",
              "      <th>Day 1</th>\n",
              "      <th>Day 2</th>\n",
              "      <th>Day 3</th>\n",
              "      <th>Day 4</th>\n",
              "      <th>Day 5</th>\n",
              "      <th>Cost</th>\n",
              "    </tr>\n",
              "  </thead>\n",
              "  <tbody>\n",
              "    <tr>\n",
              "      <th>0</th>\n",
              "      <td>[10, 13, 21, 22, 28, 30]</td>\n",
              "      <td>[7, 8, 15, 19, 29, 11]</td>\n",
              "      <td>[2, 4, 12, 20, 24, 6]</td>\n",
              "      <td>[3, 9, 14, 18, 23, 26]</td>\n",
              "      <td>[1, 5, 16, 17, 25, 27]</td>\n",
              "      <td>39</td>\n",
              "    </tr>\n",
              "  </tbody>\n",
              "</table>\n",
              "</div>"
            ],
            "text/plain": [
              "                      Day 1                   Day 2                  Day 3  \\\n",
              "0  [10, 13, 21, 22, 28, 30]  [7, 8, 15, 19, 29, 11]  [2, 4, 12, 20, 24, 6]   \n",
              "\n",
              "                    Day 4                   Day 5  Cost  \n",
              "0  [3, 9, 14, 18, 23, 26]  [1, 5, 16, 17, 25, 27]    39  "
            ]
          },
          "metadata": {},
          "output_type": "display_data"
        }
      ],
      "source": [
        "# Test functions\n",
        "df_child = mutate_child(df_child)\n",
        "display(df_child)"
      ]
    },
    {
      "cell_type": "markdown",
      "metadata": {
        "id": "gcWPD3wi0zQO"
      },
      "source": [
        "También es necesario desarrollar un método que seleccione los padres de cada nuevo individuo. La selección de los padres será aleatoria con un peso relativo al coste de cada opción. Las opciones con menor coste tendrán más probabilidad de engendrar a las nuevas generaciones que las que tengan mayor coste."
      ]
    },
    {
      "cell_type": "code",
      "execution_count": null,
      "metadata": {
        "id": "nZJJBmDC0zQO"
      },
      "outputs": [],
      "source": [
        "# Create children and add it to population\n",
        "def get_parents(df_population):\n",
        "    total_cost = df_population['Cost'].sum()\n",
        "    normalized_cost = 1 - df_population['Cost'] / total_cost\n",
        "    probability_selection = list( normalized_cost / normalized_cost.sum() )\n",
        "\n",
        "    choices = list( range(len(df_population) ) )\n",
        "    parent1_pos = random.choices(choices, weights=probability_selection)[0]\n",
        "    del choices[parent1_pos]\n",
        "    del probability_selection[parent1_pos]\n",
        "\n",
        "    parent2_pos = random.choices(choices, weights=probability_selection)[0]\n",
        "\n",
        "    return df_population.iloc[parent1_pos], df_population.iloc[parent2_pos]"
      ]
    },
    {
      "cell_type": "code",
      "execution_count": null,
      "metadata": {
        "id": "AhqaRjnM0zQP",
        "outputId": "04d3b5c6-0622-4f44-bf3d-72ea5838783e"
      },
      "outputs": [
        {
          "data": {
            "text/html": [
              "<div>\n",
              "<style scoped>\n",
              "    .dataframe tbody tr th:only-of-type {\n",
              "        vertical-align: middle;\n",
              "    }\n",
              "\n",
              "    .dataframe tbody tr th {\n",
              "        vertical-align: top;\n",
              "    }\n",
              "\n",
              "    .dataframe thead th {\n",
              "        text-align: right;\n",
              "    }\n",
              "</style>\n",
              "<table border=\"1\" class=\"dataframe\">\n",
              "  <thead>\n",
              "    <tr style=\"text-align: right;\">\n",
              "      <th></th>\n",
              "      <th>Day 1</th>\n",
              "      <th>Day 2</th>\n",
              "      <th>Day 3</th>\n",
              "      <th>Day 4</th>\n",
              "      <th>Day 5</th>\n",
              "      <th>Cost</th>\n",
              "    </tr>\n",
              "  </thead>\n",
              "  <tbody>\n",
              "    <tr>\n",
              "      <th>1</th>\n",
              "      <td>[5, 17, 19, 20, 25, 27]</td>\n",
              "      <td>[4, 14, 15, 18, 22, 26]</td>\n",
              "      <td>[1, 10, 12, 16, 21, 24]</td>\n",
              "      <td>[2, 7, 9, 13, 23, 30]</td>\n",
              "      <td>[3, 6, 8, 11, 28, 29]</td>\n",
              "      <td>38</td>\n",
              "    </tr>\n",
              "  </tbody>\n",
              "</table>\n",
              "</div>"
            ],
            "text/plain": [
              "                     Day 1                    Day 2                    Day 3  \\\n",
              "1  [5, 17, 19, 20, 25, 27]  [4, 14, 15, 18, 22, 26]  [1, 10, 12, 16, 21, 24]   \n",
              "\n",
              "                   Day 4                  Day 5  Cost  \n",
              "1  [2, 7, 9, 13, 23, 30]  [3, 6, 8, 11, 28, 29]    38  "
            ]
          },
          "metadata": {},
          "output_type": "display_data"
        },
        {
          "data": {
            "text/html": [
              "<div>\n",
              "<style scoped>\n",
              "    .dataframe tbody tr th:only-of-type {\n",
              "        vertical-align: middle;\n",
              "    }\n",
              "\n",
              "    .dataframe tbody tr th {\n",
              "        vertical-align: top;\n",
              "    }\n",
              "\n",
              "    .dataframe thead th {\n",
              "        text-align: right;\n",
              "    }\n",
              "</style>\n",
              "<table border=\"1\" class=\"dataframe\">\n",
              "  <thead>\n",
              "    <tr style=\"text-align: right;\">\n",
              "      <th></th>\n",
              "      <th>Day 1</th>\n",
              "      <th>Day 2</th>\n",
              "      <th>Day 3</th>\n",
              "      <th>Day 4</th>\n",
              "      <th>Day 5</th>\n",
              "      <th>Cost</th>\n",
              "    </tr>\n",
              "  </thead>\n",
              "  <tbody>\n",
              "    <tr>\n",
              "      <th>8</th>\n",
              "      <td>[10, 13, 22, 27, 28, 30]</td>\n",
              "      <td>[6, 8, 18, 19, 20, 29]</td>\n",
              "      <td>[2, 5, 12, 15, 21, 24]</td>\n",
              "      <td>[3, 9, 14, 17, 23, 26]</td>\n",
              "      <td>[1, 4, 7, 11, 16, 25]</td>\n",
              "      <td>37</td>\n",
              "    </tr>\n",
              "  </tbody>\n",
              "</table>\n",
              "</div>"
            ],
            "text/plain": [
              "                      Day 1                   Day 2                   Day 3  \\\n",
              "8  [10, 13, 22, 27, 28, 30]  [6, 8, 18, 19, 20, 29]  [2, 5, 12, 15, 21, 24]   \n",
              "\n",
              "                    Day 4                  Day 5  Cost  \n",
              "8  [3, 9, 14, 17, 23, 26]  [1, 4, 7, 11, 16, 25]    37  "
            ]
          },
          "metadata": {},
          "output_type": "display_data"
        }
      ],
      "source": [
        "# Test function\n",
        "parent1, parent2 = get_parents(df_population)\n",
        "\n",
        "display(pd.DataFrame([parent1]))\n",
        "display(pd.DataFrame([parent2]))"
      ]
    },
    {
      "cell_type": "markdown",
      "metadata": {
        "id": "HeGECYS00zQP"
      },
      "source": [
        "Finalmente, podemos combinar todas las opciones para crear el algoritmo genético."
      ]
    },
    {
      "cell_type": "code",
      "execution_count": null,
      "metadata": {
        "id": "CD4IR47Q0zQP"
      },
      "outputs": [],
      "source": [
        "# Complete algorithm\n",
        "def genetic_algorithm(population_size, N_generations, N_mutations):\n",
        "    TOTAL_DAYS = int(TOTAL_TAKES/TAKES_PER_DAY)\n",
        "\n",
        "    # Initialize population\n",
        "    df_population = initialize_random_population(population_size)\n",
        "\n",
        "    # Loop algorithm\n",
        "    for generation in range(N_generations):\n",
        "        # Delete worst options\n",
        "        df_population = natural_selection(df_population)\n",
        "\n",
        "        for _ in range(len(df_population)):\n",
        "            # Select parents and create child\n",
        "            parent1, parent2 = get_parents(df_population)\n",
        "            df_child = create_child(parent1, parent2)\n",
        "\n",
        "            # Mutate child\n",
        "            for _ in range(N_mutations):\n",
        "                df_child = mutate_child(df_child)\n",
        "\n",
        "            # Add child to dataframe\n",
        "            df_population = pd.concat([df_population, df_child], ignore_index=True)\n",
        "\n",
        "    # Get minimum cost option\n",
        "    best_restult = df_population.iloc[df_population['Cost'].idxmin()]\n",
        "\n",
        "    return best_restult"
      ]
    },
    {
      "cell_type": "code",
      "execution_count": null,
      "metadata": {
        "id": "_k1eR84K0zQP",
        "outputId": "059e60ad-3947-4eea-de87-b550051d3bac"
      },
      "outputs": [
        {
          "data": {
            "text/html": [
              "<div>\n",
              "<style scoped>\n",
              "    .dataframe tbody tr th:only-of-type {\n",
              "        vertical-align: middle;\n",
              "    }\n",
              "\n",
              "    .dataframe tbody tr th {\n",
              "        vertical-align: top;\n",
              "    }\n",
              "\n",
              "    .dataframe thead th {\n",
              "        text-align: right;\n",
              "    }\n",
              "</style>\n",
              "<table border=\"1\" class=\"dataframe\">\n",
              "  <thead>\n",
              "    <tr style=\"text-align: right;\">\n",
              "      <th></th>\n",
              "      <th>Day 1</th>\n",
              "      <th>Day 2</th>\n",
              "      <th>Day 3</th>\n",
              "      <th>Day 4</th>\n",
              "      <th>Day 5</th>\n",
              "      <th>Cost</th>\n",
              "    </tr>\n",
              "  </thead>\n",
              "  <tbody>\n",
              "    <tr>\n",
              "      <th>0</th>\n",
              "      <td>[8, 16, 25, 28, 30, 9]</td>\n",
              "      <td>[1, 6, 12, 19, 20, 27]</td>\n",
              "      <td>[3, 10, 15, 24, 29, 23]</td>\n",
              "      <td>[2, 17, 18, 21, 26, 14]</td>\n",
              "      <td>[7, 11, 22, 13, 5, 4]</td>\n",
              "      <td>32</td>\n",
              "    </tr>\n",
              "  </tbody>\n",
              "</table>\n",
              "</div>"
            ],
            "text/plain": [
              "                    Day 1                   Day 2                    Day 3  \\\n",
              "0  [8, 16, 25, 28, 30, 9]  [1, 6, 12, 19, 20, 27]  [3, 10, 15, 24, 29, 23]   \n",
              "\n",
              "                     Day 4                  Day 5  Cost  \n",
              "0  [2, 17, 18, 21, 26, 14]  [7, 11, 22, 13, 5, 4]    32  "
            ]
          },
          "metadata": {},
          "output_type": "display_data"
        }
      ],
      "source": [
        "# Test algorithm\n",
        "\n",
        "# Variable declaration\n",
        "TOTAL_TAKES = 30\n",
        "TAKES_PER_DAY = 6\n",
        "TOTAL_DAYS = int(TOTAL_TAKES/TAKES_PER_DAY)\n",
        "population_size = 100\n",
        "N_generations = 20\n",
        "N_mutations = 3\n",
        "\n",
        "# Get best result\n",
        "best_result = genetic_algorithm(population_size, N_generations, N_mutations)\n",
        "\n",
        "# Display results\n",
        "display(pd.DataFrame([best_result]))"
      ]
    },
    {
      "cell_type": "markdown",
      "metadata": {
        "id": "eGDB4K6uk1iN"
      },
      "source": [
        "(*)Calcula la complejidad del algoritmo"
      ]
    },
    {
      "cell_type": "markdown",
      "metadata": {
        "id": "NhpTh_BPk1ms"
      },
      "source": [
        "Respuesta"
      ]
    },
    {
      "cell_type": "code",
      "execution_count": null,
      "metadata": {
        "id": "nREzhkStlCq8"
      },
      "outputs": [],
      "source": []
    },
    {
      "cell_type": "markdown",
      "metadata": {
        "id": "3M6QjTsSkmYe"
      },
      "source": [
        "Según el problema (y tenga sentido), diseña un juego de datos de entrada aleatorios"
      ]
    },
    {
      "cell_type": "markdown",
      "metadata": {
        "id": "Jc3_OlyNkvjZ"
      },
      "source": [
        "Respuesta"
      ]
    },
    {
      "cell_type": "code",
      "execution_count": null,
      "metadata": {
        "id": "sJ-N2etjkyWc"
      },
      "outputs": [],
      "source": []
    },
    {
      "cell_type": "markdown",
      "metadata": {
        "id": "zy5ZROmjlGo1"
      },
      "source": [
        "Aplica el algoritmo al juego de datos generado"
      ]
    },
    {
      "cell_type": "markdown",
      "metadata": {
        "id": "_Cmj-PVylMsa"
      },
      "source": [
        "Respuesta"
      ]
    },
    {
      "cell_type": "code",
      "execution_count": null,
      "metadata": {
        "id": "Jkx8GeiYlUz1"
      },
      "outputs": [],
      "source": []
    },
    {
      "cell_type": "markdown",
      "metadata": {
        "id": "eTFWUJQrtGcv"
      },
      "source": [
        "Enumera las referencias que has utilizado(si ha sido necesario) para llevar a cabo el trabajo"
      ]
    },
    {
      "cell_type": "markdown",
      "metadata": {
        "id": "YKQ_mRBttWsP"
      },
      "source": [
        "Respuesta"
      ]
    },
    {
      "cell_type": "markdown",
      "metadata": {
        "id": "kAkDPUyRtYyH"
      },
      "source": [
        "Describe brevemente las lineas de como crees que es posible avanzar en el estudio del problema. Ten en cuenta incluso posibles variaciones del problema y/o variaciones al alza del tamaño"
      ]
    },
    {
      "cell_type": "markdown",
      "metadata": {
        "id": "IE0uZmo-tZu-"
      },
      "source": [
        "Respuesta"
      ]
    },
    {
      "cell_type": "markdown",
      "metadata": {
        "id": "vChnUsSh0zQQ"
      },
      "source": [
        "Una de las posibles limitaciones del algoritmo genético planteado es la inicialización de los datos. En la propuesta, esta inicialización es aleatoria, resultando en unos datos iniciales poco deseables. Una opción para mejorar el programa sería utilizar como población inicial los resultados de otro algoritmo heurístico para conseguir aún mejores resultados.\n",
        "\n",
        "Otra limitación es la creación de los hijos. En nuestro caso los hijos se generan con un cruce uniforme de los dos padres. Creo que se podría diseñar un método que pudiera escoger los mejores genes de los padres (días con coste bajo) y únicamente variar los genes peores (días con coste alto). Asimismo creo que también se podría hacer una selección inteligente sobre qué dias requieren variar el reparto de tomas."
      ]
    }
  ],
  "metadata": {
    "colab": {
      "provenance": [],
      "include_colab_link": true
    },
    "kernelspec": {
      "display_name": "Python 3",
      "name": "python3"
    },
    "language_info": {
      "codemirror_mode": {
        "name": "ipython",
        "version": 3
      },
      "file_extension": ".py",
      "mimetype": "text/x-python",
      "name": "python",
      "nbconvert_exporter": "python",
      "pygments_lexer": "ipython3",
      "version": "3.11.1"
    }
  },
  "nbformat": 4,
  "nbformat_minor": 0
}