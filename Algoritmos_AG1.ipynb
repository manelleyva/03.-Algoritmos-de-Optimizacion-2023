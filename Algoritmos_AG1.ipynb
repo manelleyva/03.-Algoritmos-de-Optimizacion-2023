{
  "cells": [
    {
      "cell_type": "markdown",
      "metadata": {
        "id": "view-in-github",
        "colab_type": "text"
      },
      "source": [
        "<a href=\"https://colab.research.google.com/github/manelleyva/03.-Algoritmos-de-Optimizacion-2023/blob/main/Algoritmos_AG1.ipynb\" target=\"_parent\"><img src=\"https://colab.research.google.com/assets/colab-badge.svg\" alt=\"Open In Colab\"/></a>"
      ]
    },
    {
      "cell_type": "markdown",
      "source": [
        "\n",
        "Nombre: Manel Leyva Martínez\n",
        "\n",
        "Github: https://github.com/manelleyva/03.-Algoritmos-de-Optimizacion-2023"
      ],
      "metadata": {
        "id": "rLsX9Ax6rk3T"
      }
    },
    {
      "cell_type": "markdown",
      "metadata": {
        "id": "kQn6fbhgtH9I"
      },
      "source": [
        "# Algoritmos - Actividad Guiada 1\n"
      ]
    },
    {
      "cell_type": "markdown",
      "metadata": {
        "id": "_t62Ge7ZuKnC"
      },
      "source": [
        "## Torres de Hanoi con Divide y vencerás"
      ]
    },
    {
      "cell_type": "code",
      "execution_count": 11,
      "metadata": {
        "colab": {
          "base_uri": "https://localhost:8080/"
        },
        "id": "i32G0CUQvauE",
        "outputId": "63afe014-08f9-4a68-c905-cd2bd4135e74"
      },
      "outputs": [
        {
          "output_type": "stream",
          "name": "stdout",
          "text": [
            "Lleva la ficha  1  hasta  3\n",
            "Lleva la ficha  1  hasta  2\n",
            "Lleva la ficha  3  hasta  2\n",
            "Lleva la ficha  1  hasta  3\n",
            "Lleva la ficha  2  hasta  1\n",
            "Lleva la ficha  2  hasta  3\n",
            "Lleva la ficha  1  hasta  3\n"
          ]
        }
      ],
      "source": [
        "def Torres_Hanoi(N, desde, hasta):\n",
        "  if N ==1 :\n",
        "    print(\"Lleva la ficha \" ,desde , \" hasta \", hasta )\n",
        "\n",
        "  else:\n",
        "    #Torres_Hanoi(N-1, desde, 6-desde-hasta )\n",
        "    Torres_Hanoi(N-1, desde, 6-desde-hasta )\n",
        "    print(\"Lleva la ficha \" ,desde , \" hasta \", hasta )\n",
        "    #Torres_Hanoi(N-1,6-desde-hasta, hasta )\n",
        "    Torres_Hanoi(N-1, 6-desde-hasta  , hasta )\n",
        "\n",
        "\n",
        "Torres_Hanoi(3, 1 , 3)"
      ]
    },
    {
      "cell_type": "code",
      "execution_count": 12,
      "metadata": {
        "colab": {
          "base_uri": "https://localhost:8080/"
        },
        "id": "74qZZAekiNYR",
        "outputId": "ef70868f-bee5-4894-c21e-ef25733292f7"
      },
      "outputs": [
        {
          "output_type": "execute_result",
          "data": {
            "text/plain": [
              "8"
            ]
          },
          "metadata": {},
          "execution_count": 12
        }
      ],
      "source": [
        "#Sucesión_de_Fibonacci\n",
        "#https://es.wikipedia.org/wiki/Sucesi%C3%B3n_de_Fibonacci\n",
        "#Calculo del termino n-simo de la suscesión de Fibonacci\n",
        "def Fibonacci(N:int):\n",
        "  if N < 2:\n",
        "    return 1\n",
        "  else:\n",
        "    return Fibonacci(N-1)+Fibonacci(N-2)\n",
        "\n",
        "Fibonacci(5)"
      ]
    },
    {
      "cell_type": "markdown",
      "metadata": {
        "id": "RgT5XJsZ429L"
      },
      "source": [
        "## Devolución de cambio por técnica voraz"
      ]
    },
    {
      "cell_type": "code",
      "execution_count": 13,
      "metadata": {
        "colab": {
          "base_uri": "https://localhost:8080/"
        },
        "id": "uJtftBLU4-ap",
        "outputId": "135ef23d-3e89-4836-989b-921d44bfc26f"
      },
      "outputs": [
        {
          "output_type": "execute_result",
          "data": {
            "text/plain": [
              "[0, 1, 1, 0]"
            ]
          },
          "metadata": {},
          "execution_count": 13
        }
      ],
      "source": [
        "def cambio_monedas(N, SM):\n",
        "  SOLUCION = [0]*len(SM)   #SOLUCION = [0,0,0,0,..]\n",
        "  ValorAcumulado = 0\n",
        "\n",
        "  for i,valor in enumerate(SM):\n",
        "    monedas =  (N-ValorAcumulado)//valor\n",
        "    SOLUCION[i] = monedas\n",
        "    ValorAcumulado = ValorAcumulado + monedas*valor\n",
        "\n",
        "    if ValorAcumulado == N:\n",
        "      return SOLUCION\n",
        "\n",
        "\n",
        "cambio_monedas(15,[25,10,5,1])"
      ]
    },
    {
      "cell_type": "markdown",
      "source": [
        "## Devolución cambio de moneda (Ejercicio)"
      ],
      "metadata": {
        "id": "36gPQgOLoIbl"
      }
    },
    {
      "cell_type": "code",
      "source": [
        "# Problema de cambio de monedas\n",
        "# (Devolver cambio con el mínimo número de monedas)\n",
        "\n",
        "# Creacion de la funcion\n",
        "def devolver_min_monedas(value):\n",
        "  # Comprobamos que el valor introducido es válido\n",
        "  if type(value) != int:\n",
        "    raise TypeError(\"Introduced value must be an 'int'.\")\n",
        "  elif value <= 0:\n",
        "    raise Exception('Introduced value must be higher than 0.')\n",
        "\n",
        "  # Ordenamos las monedas que puede devolver de menor a mayor\n",
        "  coins = sorted([1,2,5,10,20,50])\n",
        "\n",
        "  # Inicializamos un contador de monedas devueltas (empiezan todas en 0)\n",
        "  counter_coins = {}\n",
        "  for coin_value in coins:\n",
        "    counter_coins[coin_value] = 0\n",
        "\n",
        "\n",
        "  rest = value\n",
        "  while rest != 0:\n",
        "    # Si la moneda mas alta no puede ser utilizada se elimina de la lista\n",
        "    if coins[-1] > rest:\n",
        "      coins.pop(-1)\n",
        "    # Si la moneda mas alta puede ser utilizada se añade +1 al contador\n",
        "    else:\n",
        "      counter_coins[coins[-1]] += 1\n",
        "      rest = rest - coins[-1]\n",
        "\n",
        "  return counter_coins\n",
        "\n",
        "# Probamos el código\n",
        "# Queremos que nos devuelva el mínimo de monedas para un valor de 133\n",
        "valor = 133\n",
        "contador_monedas = devolver_min_monedas(valor)\n",
        "print(f'El mínimo número de billetes/monedas a devolver para un valor de {valor} es el siguiente:')\n",
        "for valor_moneda in contador_monedas:\n",
        "  print(f'Monedas/billetes de {valor_moneda}: {contador_monedas[valor_moneda]}')"
      ],
      "metadata": {
        "colab": {
          "base_uri": "https://localhost:8080/"
        },
        "id": "rkyx4hrcoOwZ",
        "outputId": "5806b601-9d68-4932-a0ea-65ae6bd07838"
      },
      "execution_count": 14,
      "outputs": [
        {
          "output_type": "stream",
          "name": "stdout",
          "text": [
            "El mínimo número de billetes/monedas a devolver para un valor de 133 es el siguiente:\n",
            "Monedas/billetes de 1: 1\n",
            "Monedas/billetes de 2: 1\n",
            "Monedas/billetes de 5: 0\n",
            "Monedas/billetes de 10: 1\n",
            "Monedas/billetes de 20: 1\n",
            "Monedas/billetes de 50: 2\n"
          ]
        }
      ]
    },
    {
      "cell_type": "markdown",
      "metadata": {
        "id": "g8M9GTvy_Fa3"
      },
      "source": [
        "## N-Reinas por técnica de vueta atrás\n"
      ]
    },
    {
      "cell_type": "code",
      "execution_count": 15,
      "metadata": {
        "id": "FqOPyCmv_K65",
        "colab": {
          "base_uri": "https://localhost:8080/"
        },
        "outputId": "3f9f1775-9bca-445d-bb52-af85efaf5311"
      },
      "outputs": [
        {
          "output_type": "stream",
          "name": "stdout",
          "text": [
            "[1, 5, 8, 6, 3, 7, 2, 4]\n",
            "\n",
            "[1, 6, 8, 3, 7, 4, 2, 5]\n",
            "\n",
            "[1, 7, 4, 6, 8, 2, 5, 3]\n",
            "\n",
            "[1, 7, 5, 8, 2, 4, 6, 3]\n",
            "\n",
            "[2, 4, 6, 8, 3, 1, 7, 5]\n",
            "\n",
            "[2, 5, 7, 1, 3, 8, 6, 4]\n",
            "\n",
            "[2, 5, 7, 4, 1, 8, 6, 3]\n",
            "\n",
            "[2, 6, 1, 7, 4, 8, 3, 5]\n",
            "\n",
            "[2, 6, 8, 3, 1, 4, 7, 5]\n",
            "\n",
            "[2, 7, 3, 6, 8, 5, 1, 4]\n",
            "\n",
            "[2, 7, 5, 8, 1, 4, 6, 3]\n",
            "\n",
            "[2, 8, 6, 1, 3, 5, 7, 4]\n",
            "\n",
            "[3, 1, 7, 5, 8, 2, 4, 6]\n",
            "\n",
            "[3, 5, 2, 8, 1, 7, 4, 6]\n",
            "\n",
            "[3, 5, 2, 8, 6, 4, 7, 1]\n",
            "\n",
            "[3, 5, 7, 1, 4, 2, 8, 6]\n",
            "\n",
            "[3, 5, 8, 4, 1, 7, 2, 6]\n",
            "\n",
            "[3, 6, 2, 5, 8, 1, 7, 4]\n",
            "\n",
            "[3, 6, 2, 7, 1, 4, 8, 5]\n",
            "\n",
            "[3, 6, 2, 7, 5, 1, 8, 4]\n",
            "\n",
            "[3, 6, 4, 1, 8, 5, 7, 2]\n",
            "\n",
            "[3, 6, 4, 2, 8, 5, 7, 1]\n",
            "\n",
            "[3, 6, 8, 1, 4, 7, 5, 2]\n",
            "\n",
            "[3, 6, 8, 1, 5, 7, 2, 4]\n",
            "\n",
            "[3, 6, 8, 2, 4, 1, 7, 5]\n",
            "\n",
            "[3, 7, 2, 8, 5, 1, 4, 6]\n",
            "\n",
            "[3, 7, 2, 8, 6, 4, 1, 5]\n",
            "\n",
            "[3, 8, 4, 7, 1, 6, 2, 5]\n",
            "\n",
            "[4, 1, 5, 8, 2, 7, 3, 6]\n",
            "\n",
            "[4, 1, 5, 8, 6, 3, 7, 2]\n",
            "\n",
            "[4, 2, 5, 8, 6, 1, 3, 7]\n",
            "\n",
            "[4, 2, 7, 3, 6, 8, 1, 5]\n",
            "\n",
            "[4, 2, 7, 3, 6, 8, 5, 1]\n",
            "\n",
            "[4, 2, 7, 5, 1, 8, 6, 3]\n",
            "\n",
            "[4, 2, 8, 5, 7, 1, 3, 6]\n",
            "\n",
            "[4, 2, 8, 6, 1, 3, 5, 7]\n",
            "\n",
            "[4, 6, 1, 5, 2, 8, 3, 7]\n",
            "\n",
            "[4, 6, 8, 2, 7, 1, 3, 5]\n",
            "\n",
            "[4, 6, 8, 3, 1, 7, 5, 2]\n",
            "\n",
            "[4, 7, 1, 8, 5, 2, 6, 3]\n",
            "\n",
            "[4, 7, 3, 8, 2, 5, 1, 6]\n",
            "\n",
            "[4, 7, 5, 2, 6, 1, 3, 8]\n",
            "\n",
            "[4, 7, 5, 3, 1, 6, 8, 2]\n",
            "\n",
            "[4, 8, 1, 3, 6, 2, 7, 5]\n",
            "\n",
            "[4, 8, 1, 5, 7, 2, 6, 3]\n",
            "\n",
            "[4, 8, 5, 3, 1, 7, 2, 6]\n",
            "\n",
            "[5, 1, 4, 6, 8, 2, 7, 3]\n",
            "\n",
            "[5, 1, 8, 4, 2, 7, 3, 6]\n",
            "\n",
            "[5, 1, 8, 6, 3, 7, 2, 4]\n",
            "\n",
            "[5, 2, 4, 6, 8, 3, 1, 7]\n",
            "\n",
            "[5, 2, 4, 7, 3, 8, 6, 1]\n",
            "\n",
            "[5, 2, 6, 1, 7, 4, 8, 3]\n",
            "\n",
            "[5, 2, 8, 1, 4, 7, 3, 6]\n",
            "\n",
            "[5, 3, 1, 6, 8, 2, 4, 7]\n",
            "\n",
            "[5, 3, 1, 7, 2, 8, 6, 4]\n",
            "\n",
            "[5, 3, 8, 4, 7, 1, 6, 2]\n",
            "\n",
            "[5, 7, 1, 3, 8, 6, 4, 2]\n",
            "\n",
            "[5, 7, 1, 4, 2, 8, 6, 3]\n",
            "\n",
            "[5, 7, 2, 4, 8, 1, 3, 6]\n",
            "\n",
            "[5, 7, 2, 6, 3, 1, 4, 8]\n",
            "\n",
            "[5, 7, 2, 6, 3, 1, 8, 4]\n",
            "\n",
            "[5, 7, 4, 1, 3, 8, 6, 2]\n",
            "\n",
            "[5, 8, 4, 1, 3, 6, 2, 7]\n",
            "\n",
            "[5, 8, 4, 1, 7, 2, 6, 3]\n",
            "\n",
            "[6, 1, 5, 2, 8, 3, 7, 4]\n",
            "\n",
            "[6, 2, 7, 1, 3, 5, 8, 4]\n",
            "\n",
            "[6, 2, 7, 1, 4, 8, 5, 3]\n",
            "\n",
            "[6, 3, 1, 7, 5, 8, 2, 4]\n",
            "\n",
            "[6, 3, 1, 8, 4, 2, 7, 5]\n",
            "\n",
            "[6, 3, 1, 8, 5, 2, 4, 7]\n",
            "\n",
            "[6, 3, 5, 7, 1, 4, 2, 8]\n",
            "\n",
            "[6, 3, 5, 8, 1, 4, 2, 7]\n",
            "\n",
            "[6, 3, 7, 2, 4, 8, 1, 5]\n",
            "\n",
            "[6, 3, 7, 2, 8, 5, 1, 4]\n",
            "\n",
            "[6, 3, 7, 4, 1, 8, 2, 5]\n",
            "\n",
            "[6, 4, 1, 5, 8, 2, 7, 3]\n",
            "\n",
            "[6, 4, 2, 8, 5, 7, 1, 3]\n",
            "\n",
            "[6, 4, 7, 1, 3, 5, 2, 8]\n",
            "\n",
            "[6, 4, 7, 1, 8, 2, 5, 3]\n",
            "\n",
            "[6, 8, 2, 4, 1, 7, 5, 3]\n",
            "\n",
            "[7, 1, 3, 8, 6, 4, 2, 5]\n",
            "\n",
            "[7, 2, 4, 1, 8, 5, 3, 6]\n",
            "\n",
            "[7, 2, 6, 3, 1, 4, 8, 5]\n",
            "\n",
            "[7, 3, 1, 6, 8, 5, 2, 4]\n",
            "\n",
            "[7, 3, 8, 2, 5, 1, 6, 4]\n",
            "\n",
            "[7, 4, 2, 5, 8, 1, 3, 6]\n",
            "\n",
            "[7, 4, 2, 8, 6, 1, 3, 5]\n",
            "\n",
            "[7, 5, 3, 1, 6, 8, 2, 4]\n",
            "\n",
            "[8, 2, 4, 1, 7, 5, 3, 6]\n",
            "\n",
            "[8, 2, 5, 3, 1, 7, 4, 6]\n",
            "\n",
            "[8, 3, 1, 6, 2, 5, 7, 4]\n",
            "\n",
            "[8, 4, 1, 3, 6, 2, 7, 5]\n",
            "\n"
          ]
        }
      ],
      "source": [
        "def escribe(S):\n",
        "  n = len(S)\n",
        "  for x in range(n):\n",
        "    print(\"\")\n",
        "    for i in range(n):\n",
        "      if S[i] == x+1:\n",
        "        print(\" X \" , end=\"\")\n",
        "      else:\n",
        "        print(\" - \", end=\"\")\n",
        "\n",
        "\n",
        "def es_prometedora(SOLUCION,etapa):\n",
        "  #print(SOLUCION)\n",
        "  #Si la solución tiene dos valores iguales no es valida => Dos reinas en la misma fila\n",
        "  for i in range(etapa+1):\n",
        "    #print(\"El valor \" + str(SOLUCION[i]) + \" está \" +  str(SOLUCION.count(SOLUCION[i])) + \" veces\")\n",
        "    if SOLUCION.count(SOLUCION[i]) > 1:\n",
        "      return False\n",
        "\n",
        "    #Verifica las diagonales\n",
        "    for j in range(i+1, etapa +1 ):\n",
        "      #print(\"Comprobando diagonal de \" + str(i) + \" y \" + str(j))\n",
        "      if abs(i-j) == abs(SOLUCION[i]-SOLUCION[j]) : return False\n",
        "  return True\n",
        "\n",
        "\n",
        "\n",
        "def reinas(N, solucion=[], etapa=0):\n",
        "  if len(solucion) == 0:\n",
        "      solucion=[0 for i in range(N)]\n",
        "\n",
        "  for i in range(1, N+1):\n",
        "    solucion[etapa] = i\n",
        "\n",
        "    if es_prometedora(solucion, etapa):\n",
        "      if etapa == N-1:\n",
        "        print(solucion)\n",
        "        #escribe(solucion)\n",
        "        print()\n",
        "      else:\n",
        "        reinas(N, solucion, etapa+1)\n",
        "    else:\n",
        "      None\n",
        "\n",
        "    solucion[etapa] = 0\n",
        "\n",
        "reinas(8)"
      ]
    },
    {
      "cell_type": "markdown",
      "source": [
        "## N-Reinas (Reto)"
      ],
      "metadata": {
        "id": "XCzd2LqWoeuY"
      }
    },
    {
      "cell_type": "code",
      "source": [
        "# Ocho reinas\n",
        "# Escribe aquí tu código\n",
        "# Backtracking\n",
        "\n",
        "# Definimos tamaño del tablero y número de reinas\n",
        "N_QUEENS = 8\n",
        "\n",
        "# Create class Queen\n",
        "class Queen:\n",
        "  def __init__(self, x_pos, y_pos):\n",
        "    self.x_pos = x_pos\n",
        "    self.y_pos = y_pos\n",
        "\n",
        "# Definimos un método que determine si una posición es segura\n",
        "def get_safe_positions(N_QUEENS, queen_list):\n",
        "  \"\"\"\n",
        "  Returns a board which indicates the safe positions\n",
        "  (True: Safe, False: Not safe)\n",
        "  \"\"\"\n",
        "  board = [[True for _ in range(N_QUEENS)] for _ in range(N_QUEENS)]\n",
        "  for queen in queen_list:\n",
        "      for x in range(N_QUEENS):\n",
        "        for y in range(N_QUEENS):\n",
        "          if (x == queen.x_pos or y == queen.y_pos or\n",
        "              x-y == queen.x_pos-queen.y_pos or\n",
        "              -y-x == -queen.y_pos-queen.x_pos):\n",
        "            board[y][x] = False\n",
        "  return board\n",
        "\n",
        "def get_queen_solutions(queen_list, solutions, N_QUEENS):\n",
        "  board = get_safe_positions(N_QUEENS, queen_list)\n",
        "  for x in range(N_QUEENS):\n",
        "    for y in range(N_QUEENS):\n",
        "      # Position safe for queen --> Possible solution\n",
        "      if board[y][x] == True:\n",
        "        queen_list.append(Queen(x,y))\n",
        "\n",
        "        # Solution found\n",
        "        if len(queen_list) == N_QUEENS:\n",
        "          solutions.append(queen_list)\n",
        "          return True\n",
        "\n",
        "        # Keep iterating\n",
        "        else:\n",
        "          if get_queen_solutions(queen_list, solutions, N_QUEENS):\n",
        "            return True\n",
        "\n",
        "        # No solution found: Remove last queen pos\n",
        "        queen_list.pop(-1)\n",
        "\n",
        "      # Position not safe for queen --> Not a solution\n",
        "      else:\n",
        "        pass\n",
        "\n",
        "  # No solution found\n",
        "  return False\n",
        "\n",
        "queen_list = []\n",
        "solutions = []\n",
        "get_queen_solutions(queen_list, solutions, N_QUEENS)\n",
        "\n",
        "# Función que nos permite imprimir el resultado\n",
        "def print_board(queen_list, N_QUEENS):\n",
        "  # Get board\n",
        "  board = get_safe_positions(N_QUEENS, queen_list)\n",
        "\n",
        "  # Add queens to board\n",
        "  for idx, queen in enumerate(queen_list):\n",
        "    # board[queen.y_pos][queen.x_pos] = f'{idx+1}'\n",
        "    board[queen.y_pos][queen.x_pos] = 'Q'\n",
        "\n",
        "  # Display board\n",
        "  for row in board:\n",
        "    text_row = ''\n",
        "    for pos in row:\n",
        "      if pos == False:\n",
        "        text_row += f' x '\n",
        "      elif pos == True:\n",
        "        text_row += f' · '\n",
        "      else:\n",
        "        text_row += f' {pos} '\n",
        "    print(text_row)\n",
        "\n",
        "# Print Results\n",
        "for idx_sol, queen_list in enumerate(solutions):\n",
        "  print_board(queen_list, N_QUEENS)"
      ],
      "metadata": {
        "colab": {
          "base_uri": "https://localhost:8080/"
        },
        "id": "-KRUG5f3ojU-",
        "outputId": "843ac610-bdf3-4f60-aeed-ec37227f9fea"
      },
      "execution_count": 2,
      "outputs": [
        {
          "output_type": "stream",
          "name": "stdout",
          "text": [
            " Q  x  x  x  x  x  x  x \n",
            " x  x  x  x  x  x  Q  x \n",
            " x  x  x  x  Q  x  x  x \n",
            " x  x  x  x  x  x  x  Q \n",
            " x  Q  x  x  x  x  x  x \n",
            " x  x  x  Q  x  x  x  x \n",
            " x  x  x  x  x  Q  x  x \n",
            " x  x  Q  x  x  x  x  x \n"
          ]
        }
      ]
    },
    {
      "cell_type": "markdown",
      "source": [
        "Esta versión del ejercicio únicamente da una solución al problema de las 8 reinas. Sin embargo, se podría realizar una mejora que obtuviera las 92 soluciones."
      ],
      "metadata": {
        "id": "L7TL8w6Oo9qw"
      }
    },
    {
      "cell_type": "markdown",
      "source": [
        "## Criba de Erastótenes (Reto)\n",
        "\n",
        "Implementa el algoritmo de la Criba de Erastótenes para encontrar número primos. Encuentra los números primos entre los 10.000 primeros números naturales\n"
      ],
      "metadata": {
        "id": "4Mq4OGixqg0m"
      }
    },
    {
      "cell_type": "code",
      "source": [
        "# Criba de Erastótenes\n",
        "import math\n",
        "import numpy as np\n",
        "\n",
        "def alg_criba_erastotenes(N):\n",
        "  # Inicializamos una lista de booleanos que indicará si un número es primo (True) o compuesto (False)\n",
        "  lista_primos = [True]*(N+1)\n",
        "\n",
        "  # 0 y 1 no son primos por tanto los marcamos como False\n",
        "  lista_primos[0] = lista_primos[1] = False\n",
        "\n",
        "  # Algoritmo de criba\n",
        "  for i in range(2, int(math.sqrt(N)+1)):\n",
        "    if lista_primos[i]: # i es primo, por tanto marcamos sus múltimplos como compuestos\n",
        "      for j in range(i, int(N/i)+1):\n",
        "          lista_primos[i*j] = False\n",
        "\n",
        "  # Obtenemos las posiciones con valor True para obtener la lista de primos\n",
        "  lista_numeros_primos = np.where(np.array(lista_primos) == True)[0]\n",
        "\n",
        "  return lista_numeros_primos"
      ],
      "metadata": {
        "id": "kfmocDkCqpiZ"
      },
      "execution_count": 4,
      "outputs": []
    },
    {
      "cell_type": "code",
      "source": [
        "# Probamos el algoritmo\n",
        "N = 10000\n",
        "lista_numeros_primos = alg_criba_erastotenes(N)\n",
        "\n",
        "# Display result\n",
        "COLS = 120\n",
        "text_row = \"\"\n",
        "for idx, number in enumerate(lista_numeros_primos):\n",
        "    if len(text_row) >= COLS:\n",
        "        print(text_row)\n",
        "        text_row = \"\"\n",
        "    text_row += f'{number}  '"
      ],
      "metadata": {
        "colab": {
          "base_uri": "https://localhost:8080/"
        },
        "id": "3aU9nmjfqsCj",
        "outputId": "0fa00d55-8d32-47ac-c3c9-6c1512685fad"
      },
      "execution_count": 17,
      "outputs": [
        {
          "output_type": "stream",
          "name": "stdout",
          "text": [
            "2  3  5  7  11  13  17  19  23  29  31  37  41  43  47  53  59  61  67  71  73  79  83  89  97  101  103  107  109  113  \n",
            "127  131  137  139  149  151  157  163  167  173  179  181  191  193  197  199  211  223  227  229  233  239  241  251  \n",
            "257  263  269  271  277  281  283  293  307  311  313  317  331  337  347  349  353  359  367  373  379  383  389  397  \n",
            "401  409  419  421  431  433  439  443  449  457  461  463  467  479  487  491  499  503  509  521  523  541  547  557  \n",
            "563  569  571  577  587  593  599  601  607  613  617  619  631  641  643  647  653  659  661  673  677  683  691  701  \n",
            "709  719  727  733  739  743  751  757  761  769  773  787  797  809  811  821  823  827  829  839  853  857  859  863  \n",
            "877  881  883  887  907  911  919  929  937  941  947  953  967  971  977  983  991  997  1009  1013  1019  1021  1031  \n",
            "1033  1039  1049  1051  1061  1063  1069  1087  1091  1093  1097  1103  1109  1117  1123  1129  1151  1153  1163  1171  \n",
            "1181  1187  1193  1201  1213  1217  1223  1229  1231  1237  1249  1259  1277  1279  1283  1289  1291  1297  1301  1303  \n",
            "1307  1319  1321  1327  1361  1367  1373  1381  1399  1409  1423  1427  1429  1433  1439  1447  1451  1453  1459  1471  \n",
            "1481  1483  1487  1489  1493  1499  1511  1523  1531  1543  1549  1553  1559  1567  1571  1579  1583  1597  1601  1607  \n",
            "1609  1613  1619  1621  1627  1637  1657  1663  1667  1669  1693  1697  1699  1709  1721  1723  1733  1741  1747  1753  \n",
            "1759  1777  1783  1787  1789  1801  1811  1823  1831  1847  1861  1867  1871  1873  1877  1879  1889  1901  1907  1913  \n",
            "1931  1933  1949  1951  1973  1979  1987  1993  1997  1999  2003  2011  2017  2027  2029  2039  2053  2063  2069  2081  \n",
            "2083  2087  2089  2099  2111  2113  2129  2131  2137  2141  2143  2153  2161  2179  2203  2207  2213  2221  2237  2239  \n",
            "2243  2251  2267  2269  2273  2281  2287  2293  2297  2309  2311  2333  2339  2341  2347  2351  2357  2371  2377  2381  \n",
            "2383  2389  2393  2399  2411  2417  2423  2437  2441  2447  2459  2467  2473  2477  2503  2521  2531  2539  2543  2549  \n",
            "2551  2557  2579  2591  2593  2609  2617  2621  2633  2647  2657  2659  2663  2671  2677  2683  2687  2689  2693  2699  \n",
            "2707  2711  2713  2719  2729  2731  2741  2749  2753  2767  2777  2789  2791  2797  2801  2803  2819  2833  2837  2843  \n",
            "2851  2857  2861  2879  2887  2897  2903  2909  2917  2927  2939  2953  2957  2963  2969  2971  2999  3001  3011  3019  \n",
            "3023  3037  3041  3049  3061  3067  3079  3083  3089  3109  3119  3121  3137  3163  3167  3169  3181  3187  3191  3203  \n",
            "3209  3217  3221  3229  3251  3253  3257  3259  3271  3299  3301  3307  3313  3319  3323  3329  3331  3343  3347  3359  \n",
            "3361  3371  3373  3389  3391  3407  3413  3433  3449  3457  3461  3463  3467  3469  3491  3499  3511  3517  3527  3529  \n",
            "3533  3539  3541  3547  3557  3559  3571  3581  3583  3593  3607  3613  3617  3623  3631  3637  3643  3659  3671  3673  \n",
            "3677  3691  3697  3701  3709  3719  3727  3733  3739  3761  3767  3769  3779  3793  3797  3803  3821  3823  3833  3847  \n",
            "3851  3853  3863  3877  3881  3889  3907  3911  3917  3919  3923  3929  3931  3943  3947  3967  3989  4001  4003  4007  \n",
            "4013  4019  4021  4027  4049  4051  4057  4073  4079  4091  4093  4099  4111  4127  4129  4133  4139  4153  4157  4159  \n",
            "4177  4201  4211  4217  4219  4229  4231  4241  4243  4253  4259  4261  4271  4273  4283  4289  4297  4327  4337  4339  \n",
            "4349  4357  4363  4373  4391  4397  4409  4421  4423  4441  4447  4451  4457  4463  4481  4483  4493  4507  4513  4517  \n",
            "4519  4523  4547  4549  4561  4567  4583  4591  4597  4603  4621  4637  4639  4643  4649  4651  4657  4663  4673  4679  \n",
            "4691  4703  4721  4723  4729  4733  4751  4759  4783  4787  4789  4793  4799  4801  4813  4817  4831  4861  4871  4877  \n",
            "4889  4903  4909  4919  4931  4933  4937  4943  4951  4957  4967  4969  4973  4987  4993  4999  5003  5009  5011  5021  \n",
            "5023  5039  5051  5059  5077  5081  5087  5099  5101  5107  5113  5119  5147  5153  5167  5171  5179  5189  5197  5209  \n",
            "5227  5231  5233  5237  5261  5273  5279  5281  5297  5303  5309  5323  5333  5347  5351  5381  5387  5393  5399  5407  \n",
            "5413  5417  5419  5431  5437  5441  5443  5449  5471  5477  5479  5483  5501  5503  5507  5519  5521  5527  5531  5557  \n",
            "5563  5569  5573  5581  5591  5623  5639  5641  5647  5651  5653  5657  5659  5669  5683  5689  5693  5701  5711  5717  \n",
            "5737  5741  5743  5749  5779  5783  5791  5801  5807  5813  5821  5827  5839  5843  5849  5851  5857  5861  5867  5869  \n",
            "5879  5881  5897  5903  5923  5927  5939  5953  5981  5987  6007  6011  6029  6037  6043  6047  6053  6067  6073  6079  \n",
            "6089  6091  6101  6113  6121  6131  6133  6143  6151  6163  6173  6197  6199  6203  6211  6217  6221  6229  6247  6257  \n",
            "6263  6269  6271  6277  6287  6299  6301  6311  6317  6323  6329  6337  6343  6353  6359  6361  6367  6373  6379  6389  \n",
            "6397  6421  6427  6449  6451  6469  6473  6481  6491  6521  6529  6547  6551  6553  6563  6569  6571  6577  6581  6599  \n",
            "6607  6619  6637  6653  6659  6661  6673  6679  6689  6691  6701  6703  6709  6719  6733  6737  6761  6763  6779  6781  \n",
            "6791  6793  6803  6823  6827  6829  6833  6841  6857  6863  6869  6871  6883  6899  6907  6911  6917  6947  6949  6959  \n",
            "6961  6967  6971  6977  6983  6991  6997  7001  7013  7019  7027  7039  7043  7057  7069  7079  7103  7109  7121  7127  \n",
            "7129  7151  7159  7177  7187  7193  7207  7211  7213  7219  7229  7237  7243  7247  7253  7283  7297  7307  7309  7321  \n",
            "7331  7333  7349  7351  7369  7393  7411  7417  7433  7451  7457  7459  7477  7481  7487  7489  7499  7507  7517  7523  \n",
            "7529  7537  7541  7547  7549  7559  7561  7573  7577  7583  7589  7591  7603  7607  7621  7639  7643  7649  7669  7673  \n",
            "7681  7687  7691  7699  7703  7717  7723  7727  7741  7753  7757  7759  7789  7793  7817  7823  7829  7841  7853  7867  \n",
            "7873  7877  7879  7883  7901  7907  7919  7927  7933  7937  7949  7951  7963  7993  8009  8011  8017  8039  8053  8059  \n",
            "8069  8081  8087  8089  8093  8101  8111  8117  8123  8147  8161  8167  8171  8179  8191  8209  8219  8221  8231  8233  \n",
            "8237  8243  8263  8269  8273  8287  8291  8293  8297  8311  8317  8329  8353  8363  8369  8377  8387  8389  8419  8423  \n",
            "8429  8431  8443  8447  8461  8467  8501  8513  8521  8527  8537  8539  8543  8563  8573  8581  8597  8599  8609  8623  \n",
            "8627  8629  8641  8647  8663  8669  8677  8681  8689  8693  8699  8707  8713  8719  8731  8737  8741  8747  8753  8761  \n",
            "8779  8783  8803  8807  8819  8821  8831  8837  8839  8849  8861  8863  8867  8887  8893  8923  8929  8933  8941  8951  \n",
            "8963  8969  8971  8999  9001  9007  9011  9013  9029  9041  9043  9049  9059  9067  9091  9103  9109  9127  9133  9137  \n",
            "9151  9157  9161  9173  9181  9187  9199  9203  9209  9221  9227  9239  9241  9257  9277  9281  9283  9293  9311  9319  \n",
            "9323  9337  9341  9343  9349  9371  9377  9391  9397  9403  9413  9419  9421  9431  9433  9437  9439  9461  9463  9467  \n",
            "9473  9479  9491  9497  9511  9521  9533  9539  9547  9551  9587  9601  9613  9619  9623  9629  9631  9643  9649  9661  \n",
            "9677  9679  9689  9697  9719  9721  9733  9739  9743  9749  9767  9769  9781  9787  9791  9803  9811  9817  9829  9833  \n"
          ]
        }
      ]
    },
    {
      "cell_type": "markdown",
      "source": [
        "## Algoritmo Euclides (Ejercicio)\n",
        "\n",
        "Implementa  el algoritmo de Euclides para el cálculo del máximo común divisor de dos números enteros"
      ],
      "metadata": {
        "id": "mxXfTLvLq6ZL"
      }
    },
    {
      "cell_type": "code",
      "source": [
        "# Algoritmos de Euclides.\n",
        "# Algoritmos de Euclides.\n",
        "def alg_euclides(m, n):\n",
        "  resto = m % n\n",
        "  m = n\n",
        "  n = resto\n",
        "\n",
        "  if n == 0:\n",
        "    return m\n",
        "  else:\n",
        "    return alg_euclides(m,n)"
      ],
      "metadata": {
        "id": "AZfeQtWUq_0E"
      },
      "execution_count": 6,
      "outputs": []
    },
    {
      "cell_type": "code",
      "source": [
        "# Prueba del algoritmo\n",
        "# Prueba del algoritmo\n",
        "entero_A = 8\n",
        "entero_B = 16\n",
        "\n",
        "mcd_A_B = alg_euclides(entero_A, entero_B)\n",
        "\n",
        "print(f'El mcd de {entero_A} y {entero_B} es {mcd_A_B}')"
      ],
      "metadata": {
        "colab": {
          "base_uri": "https://localhost:8080/"
        },
        "id": "cDohdQ-grCSN",
        "outputId": "960717d6-00b3-4470-b224-3f549ae0e03f"
      },
      "execution_count": 7,
      "outputs": [
        {
          "output_type": "stream",
          "name": "stdout",
          "text": [
            "El mcd de 8 y 16 es 8\n"
          ]
        }
      ]
    },
    {
      "cell_type": "markdown",
      "source": [
        "## Algoritmo Herón\n",
        "\n",
        "Implementa el algoritmo de Herón para el cálculo de la raiz cuadrada de un número entero. Calcula la raiz cuadrada de 13 con un error inferior a 0.000001"
      ],
      "metadata": {
        "id": "kwbabQu5rJPK"
      }
    },
    {
      "cell_type": "code",
      "source": [
        "# Algoritmo de Herón\n",
        "# Algoritmo de Herón\n",
        "def alg_heron(p, N, x0):\n",
        "  xn = x0\n",
        "  for n in range(1,N+1):\n",
        "    xn = (1/2)*(xn+p/xn)\n",
        "    # print(f'n={n}, xn={xn}')\n",
        "\n",
        "  return xn"
      ],
      "metadata": {
        "id": "7V1fCvxurPvd"
      },
      "execution_count": 9,
      "outputs": []
    },
    {
      "cell_type": "code",
      "source": [
        "# Prueba del algoritmo\n",
        "import math\n",
        "\n",
        "p = 13\n",
        "N = 10\n",
        "x0 = 1\n",
        "\n",
        "resultado_heron = alg_heron(p,N,x0)\n",
        "resultado_real = math.sqrt(p)\n",
        "\n",
        "print(f'Cálculo de la raiz cuadrada de {p}')\n",
        "print(f'Resultado real --> √{p} = {resultado_real}')\n",
        "print(f'Resultado algoritmo Herón para √{p}, {N} iteraciones y una posición inicial x0={x0} --> heron = {resultado_heron}')\n",
        "print(f'Error = {abs(resultado_heron-resultado_real)}')"
      ],
      "metadata": {
        "colab": {
          "base_uri": "https://localhost:8080/"
        },
        "id": "u7B5GbMjrRWa",
        "outputId": "46c86be8-18ac-4407-a925-217b24b73e9f"
      },
      "execution_count": 10,
      "outputs": [
        {
          "output_type": "stream",
          "name": "stdout",
          "text": [
            "Cálculo de la raiz cuadrada de 13\n",
            "Resultado real --> √13 = 3.605551275463989\n",
            "Resultado algoritmo Herón para √13, 10 iteraciones y una posición inicial x0=1 --> heron = 3.6055512754639896\n",
            "Error = 4.440892098500626e-16\n"
          ]
        }
      ]
    }
  ],
  "metadata": {
    "colab": {
      "provenance": [],
      "toc_visible": true,
      "include_colab_link": true
    },
    "kernelspec": {
      "display_name": "Python 3 (ipykernel)",
      "language": "python",
      "name": "python3"
    },
    "language_info": {
      "codemirror_mode": {
        "name": "ipython",
        "version": 3
      },
      "file_extension": ".py",
      "mimetype": "text/x-python",
      "name": "python",
      "nbconvert_exporter": "python",
      "pygments_lexer": "ipython3",
      "version": "3.9.7"
    }
  },
  "nbformat": 4,
  "nbformat_minor": 0
}